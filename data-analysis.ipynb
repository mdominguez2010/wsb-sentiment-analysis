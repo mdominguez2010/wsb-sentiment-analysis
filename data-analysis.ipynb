{
 "cells": [
  {
   "cell_type": "code",
   "execution_count": 1,
   "source": [
    "import pandas as pd\n",
    "import numpy as np\n",
    "import plotly.graph_objects as go\n",
    "\n",
    "# Import data and convert date column to datetime datatype\n",
    "historic_sentiment_analysis = pd.read_csv('historic_sentiment_analysis.csv')\n",
    "historic_sentiment_analysis['date'] = pd.to_datetime(historic_sentiment_analysis['date'])"
   ],
   "outputs": [],
   "metadata": {}
  },
  {
   "cell_type": "markdown",
   "source": [
    "# Trends"
   ],
   "metadata": {}
  },
  {
   "cell_type": "code",
   "execution_count": null,
   "source": [
    "print(f\"Total days analyzed: {len(historic_sentiment_analysis['date'].unique())}\")"
   ],
   "outputs": [],
   "metadata": {}
  },
  {
   "cell_type": "code",
   "execution_count": null,
   "source": [
    "def trend_data(TREND_LENGTH):\n",
    "    '''\n",
    "    Input: integer for desired trend length (n_days)\n",
    "    Output: dataframe with current n_days of trending data\n",
    "    '''\n",
    "    max_length = len(historic_sentiment_analysis['date'].unique())\n",
    "\n",
    "    try:\n",
    "        return pd.concat(\n",
    "        [historic_sentiment_analysis[historic_sentiment_analysis['date'] == historic_sentiment_analysis['date'].unique()[-TREND_LENGTH:][i]] for i in range(TREND_LENGTH)]\n",
    "        )\n",
    "    except IndexError:\n",
    "        print(f\"The max trend length is {max_length} days! Please try again with a smaller trend length\\n\")"
   ],
   "outputs": [],
   "metadata": {}
  },
  {
   "cell_type": "code",
   "execution_count": null,
   "source": [
    "def trending_stocks(TREND_LENGTH):\n",
    "    '''\n",
    "    Input: desired length of trend (n_days)\n",
    "    Output: List of stocks that appear in last n_days sentiment analysis\n",
    "    '''\n",
    "    trending_stocks_idx = np.where(trending_data['stock'].value_counts().values == TREND_LENGTH)\n",
    "\n",
    "    return list(trending_data['stock'].value_counts().iloc[trending_stocks_idx].index)"
   ],
   "outputs": [],
   "metadata": {}
  },
  {
   "cell_type": "code",
   "execution_count": null,
   "source": [
    "def plot_trends(sentiment_list):\n",
    "    '''\n",
    "    Input: sentiment list (string array)\n",
    "    Output: Trend plot\n",
    "    '''\n",
    "\n",
    "    for sentiment in sentiment_list:\n",
    "        fig = go.Figure()\n",
    "\n",
    "        for stock in trending:\n",
    "            fig.add_trace(go.Line(x=trending_data[trending_data['stock'] == stock]['date'],\n",
    "                                y=trending_data[trending_data['stock'] == stock][sentiment],\n",
    "                                mode='lines',\n",
    "                                name=f'{stock}'))\n",
    "\n",
    "        fig.update_layout(title=f'WSB {sentiment} Sentiment',\n",
    "                    xaxis_title='Date',\n",
    "                    yaxis_title='Sentiment Score')\n",
    "\n",
    "        fig.show()"
   ],
   "outputs": [],
   "metadata": {}
  },
  {
   "cell_type": "code",
   "execution_count": null,
   "source": [
    "TREND_LENGTH = 5\n",
    "sentiment_list = ['Bullish', 'Total_Compound']\n",
    "\n",
    "trending_data = trend_data(TREND_LENGTH)\n",
    "trending = trending_stocks(TREND_LENGTH)\n",
    "plot_trends(sentiment_list)"
   ],
   "outputs": [],
   "metadata": {}
  },
  {
   "cell_type": "markdown",
   "source": [
    "# Statistical Summary"
   ],
   "metadata": {}
  },
  {
   "cell_type": "code",
   "execution_count": null,
   "source": [
    "def average_sentiment(trending_data, sentiment_type='Total_Compound'):\n",
    "    '''\n",
    "    Input: dataframe of trending data, sorted by desired sentiment_type\n",
    "    Output: same dataframe, sorted by desired sentiment type, descending (displays top 5 stocks only)\n",
    "    '''\n",
    "    global summary_data # declare global variable\n",
    "    \n",
    "    print(f\"Top 5 {sentiment_type} sentiments are: \\n\")\n",
    "    summary_data = trending_data.groupby(['stock']).mean()[['Bullish', 'Bearish', 'Total_Compound']].reset_index()\n",
    "    summary_data.sort_values(by=sentiment_type, ascending=False, inplace=True)\n",
    "    print(summary_data.head())"
   ],
   "outputs": [],
   "metadata": {}
  },
  {
   "cell_type": "code",
   "execution_count": null,
   "source": [
    "average_sentiment(trending_data, 'Bullish')"
   ],
   "outputs": [],
   "metadata": {}
  },
  {
   "cell_type": "code",
   "execution_count": null,
   "source": [
    "# Plot results\n",
    "def plot_average_sentiment():\n",
    "    fig = go.Figure(data = [\n",
    "        go.Bar(name='Bullish', x=summary_data.head()['stock'], y=summary_data.head()['Bullish']),\n",
    "        go.Bar(name='Bearish', x=summary_data.head()['stock'], y=summary_data.head()['Bearish']),\n",
    "        go.Bar(name='Total_Compound', x=summary_data.head()['stock'], y=summary_data.head()['Total_Compound'])\n",
    "    ])\n",
    "\n",
    "    fig.update_layout(title=f'Top Bullish Stocks Over Last 5 Days',\n",
    "        xaxis_title='Ticker',\n",
    "        yaxis_title='Avg Sentiment Score')\n",
    "\n",
    "    fig.show()\n",
    "\n",
    "plot_average_sentiment()"
   ],
   "outputs": [],
   "metadata": {}
  },
  {
   "cell_type": "code",
   "execution_count": null,
   "source": [],
   "outputs": [],
   "metadata": {}
  }
 ],
 "metadata": {
  "interpreter": {
   "hash": "dca0ade3e726a953b501b15e8e990130d2b7799f14cfd9f4271676035ebe5511"
  },
  "kernelspec": {
   "name": "python3",
   "display_name": "Python 3.8.3 64-bit ('base': conda)"
  },
  "language_info": {
   "codemirror_mode": {
    "name": "ipython",
    "version": 3
   },
   "file_extension": ".py",
   "mimetype": "text/x-python",
   "name": "python",
   "nbconvert_exporter": "python",
   "pygments_lexer": "ipython3",
   "version": "3.8.3"
  }
 },
 "nbformat": 4,
 "nbformat_minor": 4
}