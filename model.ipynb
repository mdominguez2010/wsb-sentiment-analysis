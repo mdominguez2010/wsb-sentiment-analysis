{
 "cells": [
  {
   "cell_type": "markdown",
   "source": [
    "# Objective\n",
    "\n",
    "Develop a minimum viable model that can predict which direction a stock will go\n",
    "\n",
    "## The Data\n",
    "\n",
    "### Input Variables\n",
    "\n",
    "1. Sentiment\n",
    "    - Bullish, Bearish, Total_compound\n",
    "2. Financial\n",
    "3. Technical\n",
    "\n",
    "### Target Variable\n",
    "\n",
    "1. 1-day price direction\n",
    "2. 2-day price direction"
   ],
   "metadata": {}
  },
  {
   "cell_type": "markdown",
   "source": [
    "# Import Libraries"
   ],
   "metadata": {}
  },
  {
   "cell_type": "code",
   "execution_count": 1,
   "source": [
    "import pandas as pd\n",
    "import numpy as np\n",
    "import plotly.graph_objects as go\n",
    "\n",
    "import requests\n",
    "# import json\n",
    "# import datetime"
   ],
   "outputs": [],
   "metadata": {}
  },
  {
   "cell_type": "markdown",
   "source": [
    "# Cleaning the Data"
   ],
   "metadata": {}
  },
  {
   "cell_type": "code",
   "execution_count": 2,
   "source": [
    "# Import data and convert date column to datetime datatype\n",
    "data = pd.read_csv('historic_sentiment_analysis.csv')\n",
    "data['date'] = pd.to_datetime(data['date'])"
   ],
   "outputs": [],
   "metadata": {}
  },
  {
   "cell_type": "code",
   "execution_count": 3,
   "source": [
    "data.head()"
   ],
   "outputs": [
    {
     "output_type": "execute_result",
     "data": {
      "text/plain": [
       "  stock  Bearish  Neutral  Bullish  Total_Compound       date assetType  \\\n",
       "0  CLOV    0.036    0.749    0.215           0.328 2021-06-03    EQUITY   \n",
       "1  CLNE    0.017    0.789    0.194           0.398 2021-06-03    EQUITY   \n",
       "2  TLRY    0.117    0.786    0.097           0.018 2021-06-03    EQUITY   \n",
       "3  AAPL    0.080    0.720    0.200           0.174 2021-06-03    EQUITY   \n",
       "4  WKHS    0.119    0.764    0.117          -0.019 2021-06-03    EQUITY   \n",
       "\n",
       "  assetMainType      cusip symbol  ... bookValuePerShare  shortIntToFloat  \\\n",
       "0        EQUITY  18914F103   CLOV  ...               0.0              0.0   \n",
       "1        EQUITY  184499101   CLNE  ...               0.0              0.0   \n",
       "2        EQUITY  88688T100   TLRY  ...               0.0              0.0   \n",
       "3        EQUITY   37833100   AAPL  ...               0.0              0.0   \n",
       "4        EQUITY  98138J206   WKHS  ...               0.0              0.0   \n",
       "\n",
       "   shortIntDayToCover divGrowthRate3Year  dividendPayAmount  dividendPayDate  \\\n",
       "0                 0.0                0.0               0.00                    \n",
       "1                 0.0                0.0               0.00                    \n",
       "2                 0.0                0.0               0.00                    \n",
       "3                 0.0                0.0               0.22          00:00.0   \n",
       "4                 0.0                0.0               0.00                    \n",
       "\n",
       "      beta  vol1DayAvg  vol10DayAvg  vol3MonthAvg  \n",
       "0  0.00000  13468700.0   13468699.0  4.771102e+08  \n",
       "1  1.84330   5293610.0    5293614.0  1.434198e+08  \n",
       "2  0.00000  28527700.0   28527703.0  4.933556e+08  \n",
       "3  1.20359  73329560.0   73329559.0  2.016039e+09  \n",
       "4  2.63773  11332520.0   11332520.0  2.795409e+08  \n",
       "\n",
       "[5 rows x 100 columns]"
      ],
      "text/html": [
       "<div>\n",
       "<style scoped>\n",
       "    .dataframe tbody tr th:only-of-type {\n",
       "        vertical-align: middle;\n",
       "    }\n",
       "\n",
       "    .dataframe tbody tr th {\n",
       "        vertical-align: top;\n",
       "    }\n",
       "\n",
       "    .dataframe thead th {\n",
       "        text-align: right;\n",
       "    }\n",
       "</style>\n",
       "<table border=\"1\" class=\"dataframe\">\n",
       "  <thead>\n",
       "    <tr style=\"text-align: right;\">\n",
       "      <th></th>\n",
       "      <th>stock</th>\n",
       "      <th>Bearish</th>\n",
       "      <th>Neutral</th>\n",
       "      <th>Bullish</th>\n",
       "      <th>Total_Compound</th>\n",
       "      <th>date</th>\n",
       "      <th>assetType</th>\n",
       "      <th>assetMainType</th>\n",
       "      <th>cusip</th>\n",
       "      <th>symbol</th>\n",
       "      <th>...</th>\n",
       "      <th>bookValuePerShare</th>\n",
       "      <th>shortIntToFloat</th>\n",
       "      <th>shortIntDayToCover</th>\n",
       "      <th>divGrowthRate3Year</th>\n",
       "      <th>dividendPayAmount</th>\n",
       "      <th>dividendPayDate</th>\n",
       "      <th>beta</th>\n",
       "      <th>vol1DayAvg</th>\n",
       "      <th>vol10DayAvg</th>\n",
       "      <th>vol3MonthAvg</th>\n",
       "    </tr>\n",
       "  </thead>\n",
       "  <tbody>\n",
       "    <tr>\n",
       "      <th>0</th>\n",
       "      <td>CLOV</td>\n",
       "      <td>0.036</td>\n",
       "      <td>0.749</td>\n",
       "      <td>0.215</td>\n",
       "      <td>0.328</td>\n",
       "      <td>2021-06-03</td>\n",
       "      <td>EQUITY</td>\n",
       "      <td>EQUITY</td>\n",
       "      <td>18914F103</td>\n",
       "      <td>CLOV</td>\n",
       "      <td>...</td>\n",
       "      <td>0.0</td>\n",
       "      <td>0.0</td>\n",
       "      <td>0.0</td>\n",
       "      <td>0.0</td>\n",
       "      <td>0.00</td>\n",
       "      <td></td>\n",
       "      <td>0.00000</td>\n",
       "      <td>13468700.0</td>\n",
       "      <td>13468699.0</td>\n",
       "      <td>4.771102e+08</td>\n",
       "    </tr>\n",
       "    <tr>\n",
       "      <th>1</th>\n",
       "      <td>CLNE</td>\n",
       "      <td>0.017</td>\n",
       "      <td>0.789</td>\n",
       "      <td>0.194</td>\n",
       "      <td>0.398</td>\n",
       "      <td>2021-06-03</td>\n",
       "      <td>EQUITY</td>\n",
       "      <td>EQUITY</td>\n",
       "      <td>184499101</td>\n",
       "      <td>CLNE</td>\n",
       "      <td>...</td>\n",
       "      <td>0.0</td>\n",
       "      <td>0.0</td>\n",
       "      <td>0.0</td>\n",
       "      <td>0.0</td>\n",
       "      <td>0.00</td>\n",
       "      <td></td>\n",
       "      <td>1.84330</td>\n",
       "      <td>5293610.0</td>\n",
       "      <td>5293614.0</td>\n",
       "      <td>1.434198e+08</td>\n",
       "    </tr>\n",
       "    <tr>\n",
       "      <th>2</th>\n",
       "      <td>TLRY</td>\n",
       "      <td>0.117</td>\n",
       "      <td>0.786</td>\n",
       "      <td>0.097</td>\n",
       "      <td>0.018</td>\n",
       "      <td>2021-06-03</td>\n",
       "      <td>EQUITY</td>\n",
       "      <td>EQUITY</td>\n",
       "      <td>88688T100</td>\n",
       "      <td>TLRY</td>\n",
       "      <td>...</td>\n",
       "      <td>0.0</td>\n",
       "      <td>0.0</td>\n",
       "      <td>0.0</td>\n",
       "      <td>0.0</td>\n",
       "      <td>0.00</td>\n",
       "      <td></td>\n",
       "      <td>0.00000</td>\n",
       "      <td>28527700.0</td>\n",
       "      <td>28527703.0</td>\n",
       "      <td>4.933556e+08</td>\n",
       "    </tr>\n",
       "    <tr>\n",
       "      <th>3</th>\n",
       "      <td>AAPL</td>\n",
       "      <td>0.080</td>\n",
       "      <td>0.720</td>\n",
       "      <td>0.200</td>\n",
       "      <td>0.174</td>\n",
       "      <td>2021-06-03</td>\n",
       "      <td>EQUITY</td>\n",
       "      <td>EQUITY</td>\n",
       "      <td>37833100</td>\n",
       "      <td>AAPL</td>\n",
       "      <td>...</td>\n",
       "      <td>0.0</td>\n",
       "      <td>0.0</td>\n",
       "      <td>0.0</td>\n",
       "      <td>0.0</td>\n",
       "      <td>0.22</td>\n",
       "      <td>00:00.0</td>\n",
       "      <td>1.20359</td>\n",
       "      <td>73329560.0</td>\n",
       "      <td>73329559.0</td>\n",
       "      <td>2.016039e+09</td>\n",
       "    </tr>\n",
       "    <tr>\n",
       "      <th>4</th>\n",
       "      <td>WKHS</td>\n",
       "      <td>0.119</td>\n",
       "      <td>0.764</td>\n",
       "      <td>0.117</td>\n",
       "      <td>-0.019</td>\n",
       "      <td>2021-06-03</td>\n",
       "      <td>EQUITY</td>\n",
       "      <td>EQUITY</td>\n",
       "      <td>98138J206</td>\n",
       "      <td>WKHS</td>\n",
       "      <td>...</td>\n",
       "      <td>0.0</td>\n",
       "      <td>0.0</td>\n",
       "      <td>0.0</td>\n",
       "      <td>0.0</td>\n",
       "      <td>0.00</td>\n",
       "      <td></td>\n",
       "      <td>2.63773</td>\n",
       "      <td>11332520.0</td>\n",
       "      <td>11332520.0</td>\n",
       "      <td>2.795409e+08</td>\n",
       "    </tr>\n",
       "  </tbody>\n",
       "</table>\n",
       "<p>5 rows × 100 columns</p>\n",
       "</div>"
      ]
     },
     "metadata": {},
     "execution_count": 3
    }
   ],
   "metadata": {}
  },
  {
   "cell_type": "code",
   "execution_count": 4,
   "source": [
    "data.info()"
   ],
   "outputs": [
    {
     "output_type": "stream",
     "name": "stdout",
     "text": [
      "<class 'pandas.core.frame.DataFrame'>\n",
      "RangeIndex: 715 entries, 0 to 714\n",
      "Data columns (total 100 columns):\n",
      " #   Column                              Non-Null Count  Dtype         \n",
      "---  ------                              --------------  -----         \n",
      " 0   stock                               715 non-null    object        \n",
      " 1   Bearish                             715 non-null    float64       \n",
      " 2   Neutral                             715 non-null    float64       \n",
      " 3   Bullish                             715 non-null    float64       \n",
      " 4   Total_Compound                      715 non-null    float64       \n",
      " 5   date                                715 non-null    datetime64[ns]\n",
      " 6   assetType                           715 non-null    object        \n",
      " 7   assetMainType                       715 non-null    object        \n",
      " 8   cusip                               715 non-null    object        \n",
      " 9   symbol                              715 non-null    object        \n",
      " 10  description                         715 non-null    object        \n",
      " 11  bidPrice                            715 non-null    float64       \n",
      " 12  bidSize                             715 non-null    int64         \n",
      " 13  bidId                               715 non-null    object        \n",
      " 14  askPrice                            715 non-null    float64       \n",
      " 15  askSize                             715 non-null    int64         \n",
      " 16  askId                               715 non-null    object        \n",
      " 17  lastPrice                           715 non-null    float64       \n",
      " 18  lastSize                            715 non-null    int64         \n",
      " 19  lastId                              715 non-null    object        \n",
      " 20  openPrice                           715 non-null    float64       \n",
      " 21  highPrice                           715 non-null    float64       \n",
      " 22  lowPrice                            715 non-null    float64       \n",
      " 23  bidTick                             715 non-null    object        \n",
      " 24  closePrice                          715 non-null    float64       \n",
      " 25  netChange                           715 non-null    float64       \n",
      " 26  totalVolume                         715 non-null    int64         \n",
      " 27  quoteTimeInLong                     715 non-null    float64       \n",
      " 28  tradeTimeInLong                     715 non-null    float64       \n",
      " 29  mark                                715 non-null    float64       \n",
      " 30  exchange                            715 non-null    object        \n",
      " 31  exchangeName                        715 non-null    object        \n",
      " 32  marginable                          715 non-null    bool          \n",
      " 33  shortable                           715 non-null    bool          \n",
      " 34  volatility                          715 non-null    float64       \n",
      " 35  digits                              715 non-null    int64         \n",
      " 36  52WkHigh                            715 non-null    float64       \n",
      " 37  52WkLow                             715 non-null    float64       \n",
      " 38  nAV                                 715 non-null    float64       \n",
      " 39  peRatio                             715 non-null    float64       \n",
      " 40  divAmount                           715 non-null    float64       \n",
      " 41  divYield                            715 non-null    float64       \n",
      " 42  divDate                             171 non-null    object        \n",
      " 43  securityStatus                      715 non-null    object        \n",
      " 44  regularMarketLastPrice              715 non-null    float64       \n",
      " 45  regularMarketLastSize               715 non-null    int64         \n",
      " 46  regularMarketNetChange              715 non-null    float64       \n",
      " 47  regularMarketTradeTimeInLong        715 non-null    float64       \n",
      " 48  netPercentChangeInDouble            715 non-null    float64       \n",
      " 49  markChangeInDouble                  715 non-null    float64       \n",
      " 50  markPercentChangeInDouble           715 non-null    float64       \n",
      " 51  regularMarketPercentChangeInDouble  715 non-null    float64       \n",
      " 52  delayed                             715 non-null    bool          \n",
      " 53  realtimeEntitled                    715 non-null    bool          \n",
      " 54  symbol.1                            5 non-null      object        \n",
      " 55  high52                              715 non-null    float64       \n",
      " 56  low52                               715 non-null    float64       \n",
      " 57  dividendAmount                      715 non-null    float64       \n",
      " 58  dividendYield                       715 non-null    float64       \n",
      " 59  dividendDate                        715 non-null    object        \n",
      " 60  peRatio.1                           5 non-null      float64       \n",
      " 61  pegRatio                            715 non-null    float64       \n",
      " 62  pbRatio                             715 non-null    float64       \n",
      " 63  prRatio                             715 non-null    float64       \n",
      " 64  pcfRatio                            715 non-null    float64       \n",
      " 65  grossMarginTTM                      715 non-null    float64       \n",
      " 66  grossMarginMRQ                      715 non-null    float64       \n",
      " 67  netProfitMarginTTM                  715 non-null    float64       \n",
      " 68  netProfitMarginMRQ                  715 non-null    float64       \n",
      " 69  operatingMarginTTM                  715 non-null    float64       \n",
      " 70  operatingMarginMRQ                  715 non-null    float64       \n",
      " 71  returnOnEquity                      715 non-null    float64       \n",
      " 72  returnOnAssets                      715 non-null    float64       \n",
      " 73  returnOnInvestment                  715 non-null    float64       \n",
      " 74  quickRatio                          715 non-null    float64       \n",
      " 75  currentRatio                        715 non-null    float64       \n",
      " 76  interestCoverage                    715 non-null    float64       \n",
      " 77  totalDebtToCapital                  715 non-null    float64       \n",
      " 78  ltDebtToEquity                      715 non-null    float64       \n",
      " 79  totalDebtToEquity                   715 non-null    float64       \n",
      " 80  epsTTM                              715 non-null    float64       \n",
      " 81  epsChangePercentTTM                 715 non-null    float64       \n",
      " 82  epsChangeYear                       715 non-null    float64       \n",
      " 83  epsChange                           715 non-null    float64       \n",
      " 84  revChangeYear                       715 non-null    float64       \n",
      " 85  revChangeTTM                        715 non-null    float64       \n",
      " 86  revChangeIn                         715 non-null    float64       \n",
      " 87  sharesOutstanding                   715 non-null    float64       \n",
      " 88  marketCapFloat                      715 non-null    float64       \n",
      " 89  marketCap                           715 non-null    float64       \n",
      " 90  bookValuePerShare                   715 non-null    float64       \n",
      " 91  shortIntToFloat                     715 non-null    float64       \n",
      " 92  shortIntDayToCover                  715 non-null    float64       \n",
      " 93  divGrowthRate3Year                  715 non-null    float64       \n",
      " 94  dividendPayAmount                   715 non-null    float64       \n",
      " 95  dividendPayDate                     715 non-null    object        \n",
      " 96  beta                                715 non-null    float64       \n",
      " 97  vol1DayAvg                          715 non-null    float64       \n",
      " 98  vol10DayAvg                         715 non-null    float64       \n",
      " 99  vol3MonthAvg                        715 non-null    float64       \n",
      "dtypes: bool(4), datetime64[ns](1), float64(72), int64(6), object(17)\n",
      "memory usage: 539.2+ KB\n"
     ]
    }
   ],
   "metadata": {}
  },
  {
   "cell_type": "markdown",
   "source": [
    "## Unnecessary Columns\n",
    "\n",
    "Let's dig into dividend data. "
   ],
   "metadata": {}
  },
  {
   "cell_type": "code",
   "execution_count": 5,
   "source": [
    "data[['divYield', 'divAmount', 'divDate', 'dividendYield', 'dividendAmount', 'dividendDate']].head(10)"
   ],
   "outputs": [
    {
     "output_type": "execute_result",
     "data": {
      "text/plain": [
       "   divYield  divAmount  divDate  dividendYield  dividendAmount dividendDate\n",
       "0      0.00       0.00      NaN           0.00            0.00             \n",
       "1      0.00       0.00      NaN           0.00            0.00             \n",
       "2      0.00       0.00      NaN           0.00            0.00             \n",
       "3      0.70       0.88  00:00.0           0.70            0.88      00:00.0\n",
       "4      0.00       0.00      NaN           0.00            0.00             \n",
       "5      0.00       0.00      NaN           0.00            0.00             \n",
       "6      0.00       0.00      NaN           0.00            0.00             \n",
       "7      0.00       0.00      NaN           0.00            0.00             \n",
       "8      0.71       0.88  00:00.0           0.71            0.88      00:00.0\n",
       "9      0.09       0.64  00:00.0           0.09            0.64      00:00.0"
      ],
      "text/html": [
       "<div>\n",
       "<style scoped>\n",
       "    .dataframe tbody tr th:only-of-type {\n",
       "        vertical-align: middle;\n",
       "    }\n",
       "\n",
       "    .dataframe tbody tr th {\n",
       "        vertical-align: top;\n",
       "    }\n",
       "\n",
       "    .dataframe thead th {\n",
       "        text-align: right;\n",
       "    }\n",
       "</style>\n",
       "<table border=\"1\" class=\"dataframe\">\n",
       "  <thead>\n",
       "    <tr style=\"text-align: right;\">\n",
       "      <th></th>\n",
       "      <th>divYield</th>\n",
       "      <th>divAmount</th>\n",
       "      <th>divDate</th>\n",
       "      <th>dividendYield</th>\n",
       "      <th>dividendAmount</th>\n",
       "      <th>dividendDate</th>\n",
       "    </tr>\n",
       "  </thead>\n",
       "  <tbody>\n",
       "    <tr>\n",
       "      <th>0</th>\n",
       "      <td>0.00</td>\n",
       "      <td>0.00</td>\n",
       "      <td>NaN</td>\n",
       "      <td>0.00</td>\n",
       "      <td>0.00</td>\n",
       "      <td></td>\n",
       "    </tr>\n",
       "    <tr>\n",
       "      <th>1</th>\n",
       "      <td>0.00</td>\n",
       "      <td>0.00</td>\n",
       "      <td>NaN</td>\n",
       "      <td>0.00</td>\n",
       "      <td>0.00</td>\n",
       "      <td></td>\n",
       "    </tr>\n",
       "    <tr>\n",
       "      <th>2</th>\n",
       "      <td>0.00</td>\n",
       "      <td>0.00</td>\n",
       "      <td>NaN</td>\n",
       "      <td>0.00</td>\n",
       "      <td>0.00</td>\n",
       "      <td></td>\n",
       "    </tr>\n",
       "    <tr>\n",
       "      <th>3</th>\n",
       "      <td>0.70</td>\n",
       "      <td>0.88</td>\n",
       "      <td>00:00.0</td>\n",
       "      <td>0.70</td>\n",
       "      <td>0.88</td>\n",
       "      <td>00:00.0</td>\n",
       "    </tr>\n",
       "    <tr>\n",
       "      <th>4</th>\n",
       "      <td>0.00</td>\n",
       "      <td>0.00</td>\n",
       "      <td>NaN</td>\n",
       "      <td>0.00</td>\n",
       "      <td>0.00</td>\n",
       "      <td></td>\n",
       "    </tr>\n",
       "    <tr>\n",
       "      <th>5</th>\n",
       "      <td>0.00</td>\n",
       "      <td>0.00</td>\n",
       "      <td>NaN</td>\n",
       "      <td>0.00</td>\n",
       "      <td>0.00</td>\n",
       "      <td></td>\n",
       "    </tr>\n",
       "    <tr>\n",
       "      <th>6</th>\n",
       "      <td>0.00</td>\n",
       "      <td>0.00</td>\n",
       "      <td>NaN</td>\n",
       "      <td>0.00</td>\n",
       "      <td>0.00</td>\n",
       "      <td></td>\n",
       "    </tr>\n",
       "    <tr>\n",
       "      <th>7</th>\n",
       "      <td>0.00</td>\n",
       "      <td>0.00</td>\n",
       "      <td>NaN</td>\n",
       "      <td>0.00</td>\n",
       "      <td>0.00</td>\n",
       "      <td></td>\n",
       "    </tr>\n",
       "    <tr>\n",
       "      <th>8</th>\n",
       "      <td>0.71</td>\n",
       "      <td>0.88</td>\n",
       "      <td>00:00.0</td>\n",
       "      <td>0.71</td>\n",
       "      <td>0.88</td>\n",
       "      <td>00:00.0</td>\n",
       "    </tr>\n",
       "    <tr>\n",
       "      <th>9</th>\n",
       "      <td>0.09</td>\n",
       "      <td>0.64</td>\n",
       "      <td>00:00.0</td>\n",
       "      <td>0.09</td>\n",
       "      <td>0.64</td>\n",
       "      <td>00:00.0</td>\n",
       "    </tr>\n",
       "  </tbody>\n",
       "</table>\n",
       "</div>"
      ]
     },
     "metadata": {},
     "execution_count": 5
    }
   ],
   "metadata": {}
  },
  {
   "cell_type": "markdown",
   "source": [
    "Most of the values are null/zero values because most stocks don't provide dividends.\n",
    "\n",
    "Also, there are duplicate columns (ex: divAmount & dividendAmount).\n",
    "\n",
    "For simplicity, let's consolidate them columns into one as follows:\n",
    "1. Remove the dividendDate/divDate columns. Keeping this would be redundant\n",
    "2. Remove divYield column, it contains the same information as divAmount\n",
    "3. The information from the 6 columns is contained in divAmount:\n",
    "    - Whether the stock pays a dividend or not\n",
    "    - How much is paid per stock owned"
   ],
   "metadata": {}
  },
  {
   "cell_type": "code",
   "execution_count": null,
   "source": [],
   "outputs": [],
   "metadata": {}
  },
  {
   "cell_type": "code",
   "execution_count": 6,
   "source": [
    "data.drop(['divYield', 'divDate', 'dividendYield', 'dividendAmount', 'dividendDate', 'dividendPayDate'], axis=1, inplace=True)"
   ],
   "outputs": [],
   "metadata": {}
  },
  {
   "cell_type": "markdown",
   "source": [
    "Several columns are either identifiers, duplicates or empty, we don't need them for this project"
   ],
   "metadata": {}
  },
  {
   "cell_type": "code",
   "execution_count": 7,
   "source": [
    "data.drop(['cusip',\n",
    "           'assetType',\n",
    "           'description',\n",
    "           'assetMainType',\n",
    "           'symbol',\n",
    "           'securityStatus',\n",
    "           'symbol.1',\n",
    "           'bidTick',\n",
    "           'exchangeName',\n",
    "           'peRatio.1'], axis=1, inplace=True)"
   ],
   "outputs": [],
   "metadata": {}
  },
  {
   "cell_type": "markdown",
   "source": [
    "Categorical columns"
   ],
   "metadata": {}
  },
  {
   "cell_type": "code",
   "execution_count": 8,
   "source": [
    "data.select_dtypes(include='object')"
   ],
   "outputs": [
    {
     "output_type": "execute_result",
     "data": {
      "text/plain": [
       "    stock bidId askId lastId exchange\n",
       "0    CLOV     P     P      P        q\n",
       "1    CLNE     Q     P      P        q\n",
       "2    TLRY     P     P      P        q\n",
       "3    AAPL     P     P      D        q\n",
       "4    WKHS     P     P      D        q\n",
       "..    ...   ...   ...    ...      ...\n",
       "710  MSFT     Q     Q      D        q\n",
       "711  DKNG     N     K      D        q\n",
       "712    ON     Q     Q      Q        q\n",
       "713  TSLA     Q     V      D        q\n",
       "714  CRSR     K     J      D        q\n",
       "\n",
       "[715 rows x 5 columns]"
      ],
      "text/html": [
       "<div>\n",
       "<style scoped>\n",
       "    .dataframe tbody tr th:only-of-type {\n",
       "        vertical-align: middle;\n",
       "    }\n",
       "\n",
       "    .dataframe tbody tr th {\n",
       "        vertical-align: top;\n",
       "    }\n",
       "\n",
       "    .dataframe thead th {\n",
       "        text-align: right;\n",
       "    }\n",
       "</style>\n",
       "<table border=\"1\" class=\"dataframe\">\n",
       "  <thead>\n",
       "    <tr style=\"text-align: right;\">\n",
       "      <th></th>\n",
       "      <th>stock</th>\n",
       "      <th>bidId</th>\n",
       "      <th>askId</th>\n",
       "      <th>lastId</th>\n",
       "      <th>exchange</th>\n",
       "    </tr>\n",
       "  </thead>\n",
       "  <tbody>\n",
       "    <tr>\n",
       "      <th>0</th>\n",
       "      <td>CLOV</td>\n",
       "      <td>P</td>\n",
       "      <td>P</td>\n",
       "      <td>P</td>\n",
       "      <td>q</td>\n",
       "    </tr>\n",
       "    <tr>\n",
       "      <th>1</th>\n",
       "      <td>CLNE</td>\n",
       "      <td>Q</td>\n",
       "      <td>P</td>\n",
       "      <td>P</td>\n",
       "      <td>q</td>\n",
       "    </tr>\n",
       "    <tr>\n",
       "      <th>2</th>\n",
       "      <td>TLRY</td>\n",
       "      <td>P</td>\n",
       "      <td>P</td>\n",
       "      <td>P</td>\n",
       "      <td>q</td>\n",
       "    </tr>\n",
       "    <tr>\n",
       "      <th>3</th>\n",
       "      <td>AAPL</td>\n",
       "      <td>P</td>\n",
       "      <td>P</td>\n",
       "      <td>D</td>\n",
       "      <td>q</td>\n",
       "    </tr>\n",
       "    <tr>\n",
       "      <th>4</th>\n",
       "      <td>WKHS</td>\n",
       "      <td>P</td>\n",
       "      <td>P</td>\n",
       "      <td>D</td>\n",
       "      <td>q</td>\n",
       "    </tr>\n",
       "    <tr>\n",
       "      <th>...</th>\n",
       "      <td>...</td>\n",
       "      <td>...</td>\n",
       "      <td>...</td>\n",
       "      <td>...</td>\n",
       "      <td>...</td>\n",
       "    </tr>\n",
       "    <tr>\n",
       "      <th>710</th>\n",
       "      <td>MSFT</td>\n",
       "      <td>Q</td>\n",
       "      <td>Q</td>\n",
       "      <td>D</td>\n",
       "      <td>q</td>\n",
       "    </tr>\n",
       "    <tr>\n",
       "      <th>711</th>\n",
       "      <td>DKNG</td>\n",
       "      <td>N</td>\n",
       "      <td>K</td>\n",
       "      <td>D</td>\n",
       "      <td>q</td>\n",
       "    </tr>\n",
       "    <tr>\n",
       "      <th>712</th>\n",
       "      <td>ON</td>\n",
       "      <td>Q</td>\n",
       "      <td>Q</td>\n",
       "      <td>Q</td>\n",
       "      <td>q</td>\n",
       "    </tr>\n",
       "    <tr>\n",
       "      <th>713</th>\n",
       "      <td>TSLA</td>\n",
       "      <td>Q</td>\n",
       "      <td>V</td>\n",
       "      <td>D</td>\n",
       "      <td>q</td>\n",
       "    </tr>\n",
       "    <tr>\n",
       "      <th>714</th>\n",
       "      <td>CRSR</td>\n",
       "      <td>K</td>\n",
       "      <td>J</td>\n",
       "      <td>D</td>\n",
       "      <td>q</td>\n",
       "    </tr>\n",
       "  </tbody>\n",
       "</table>\n",
       "<p>715 rows × 5 columns</p>\n",
       "</div>"
      ]
     },
     "metadata": {},
     "execution_count": 8
    }
   ],
   "metadata": {}
  },
  {
   "cell_type": "code",
   "execution_count": 9,
   "source": [
    "print(data['bidId'].nunique())\n",
    "print(data['askId'].nunique())\n",
    "print(data['lastId'].nunique())\n",
    "print(data['exchange'].nunique())"
   ],
   "outputs": [
    {
     "output_type": "stream",
     "name": "stdout",
     "text": [
      "14\n",
      "13\n",
      "15\n",
      "1\n"
     ]
    }
   ],
   "metadata": {}
  },
  {
   "cell_type": "markdown",
   "source": [
    "exchange column has only 1 unique value, which would likely not add predictability"
   ],
   "metadata": {}
  },
  {
   "cell_type": "code",
   "execution_count": 10,
   "source": [
    "data.drop(['exchange'], axis=1, inplace=True)"
   ],
   "outputs": [],
   "metadata": {}
  },
  {
   "cell_type": "code",
   "execution_count": 11,
   "source": [
    "data.info()"
   ],
   "outputs": [
    {
     "output_type": "stream",
     "name": "stdout",
     "text": [
      "<class 'pandas.core.frame.DataFrame'>\n",
      "RangeIndex: 715 entries, 0 to 714\n",
      "Data columns (total 83 columns):\n",
      " #   Column                              Non-Null Count  Dtype         \n",
      "---  ------                              --------------  -----         \n",
      " 0   stock                               715 non-null    object        \n",
      " 1   Bearish                             715 non-null    float64       \n",
      " 2   Neutral                             715 non-null    float64       \n",
      " 3   Bullish                             715 non-null    float64       \n",
      " 4   Total_Compound                      715 non-null    float64       \n",
      " 5   date                                715 non-null    datetime64[ns]\n",
      " 6   bidPrice                            715 non-null    float64       \n",
      " 7   bidSize                             715 non-null    int64         \n",
      " 8   bidId                               715 non-null    object        \n",
      " 9   askPrice                            715 non-null    float64       \n",
      " 10  askSize                             715 non-null    int64         \n",
      " 11  askId                               715 non-null    object        \n",
      " 12  lastPrice                           715 non-null    float64       \n",
      " 13  lastSize                            715 non-null    int64         \n",
      " 14  lastId                              715 non-null    object        \n",
      " 15  openPrice                           715 non-null    float64       \n",
      " 16  highPrice                           715 non-null    float64       \n",
      " 17  lowPrice                            715 non-null    float64       \n",
      " 18  closePrice                          715 non-null    float64       \n",
      " 19  netChange                           715 non-null    float64       \n",
      " 20  totalVolume                         715 non-null    int64         \n",
      " 21  quoteTimeInLong                     715 non-null    float64       \n",
      " 22  tradeTimeInLong                     715 non-null    float64       \n",
      " 23  mark                                715 non-null    float64       \n",
      " 24  marginable                          715 non-null    bool          \n",
      " 25  shortable                           715 non-null    bool          \n",
      " 26  volatility                          715 non-null    float64       \n",
      " 27  digits                              715 non-null    int64         \n",
      " 28  52WkHigh                            715 non-null    float64       \n",
      " 29  52WkLow                             715 non-null    float64       \n",
      " 30  nAV                                 715 non-null    float64       \n",
      " 31  peRatio                             715 non-null    float64       \n",
      " 32  divAmount                           715 non-null    float64       \n",
      " 33  regularMarketLastPrice              715 non-null    float64       \n",
      " 34  regularMarketLastSize               715 non-null    int64         \n",
      " 35  regularMarketNetChange              715 non-null    float64       \n",
      " 36  regularMarketTradeTimeInLong        715 non-null    float64       \n",
      " 37  netPercentChangeInDouble            715 non-null    float64       \n",
      " 38  markChangeInDouble                  715 non-null    float64       \n",
      " 39  markPercentChangeInDouble           715 non-null    float64       \n",
      " 40  regularMarketPercentChangeInDouble  715 non-null    float64       \n",
      " 41  delayed                             715 non-null    bool          \n",
      " 42  realtimeEntitled                    715 non-null    bool          \n",
      " 43  high52                              715 non-null    float64       \n",
      " 44  low52                               715 non-null    float64       \n",
      " 45  pegRatio                            715 non-null    float64       \n",
      " 46  pbRatio                             715 non-null    float64       \n",
      " 47  prRatio                             715 non-null    float64       \n",
      " 48  pcfRatio                            715 non-null    float64       \n",
      " 49  grossMarginTTM                      715 non-null    float64       \n",
      " 50  grossMarginMRQ                      715 non-null    float64       \n",
      " 51  netProfitMarginTTM                  715 non-null    float64       \n",
      " 52  netProfitMarginMRQ                  715 non-null    float64       \n",
      " 53  operatingMarginTTM                  715 non-null    float64       \n",
      " 54  operatingMarginMRQ                  715 non-null    float64       \n",
      " 55  returnOnEquity                      715 non-null    float64       \n",
      " 56  returnOnAssets                      715 non-null    float64       \n",
      " 57  returnOnInvestment                  715 non-null    float64       \n",
      " 58  quickRatio                          715 non-null    float64       \n",
      " 59  currentRatio                        715 non-null    float64       \n",
      " 60  interestCoverage                    715 non-null    float64       \n",
      " 61  totalDebtToCapital                  715 non-null    float64       \n",
      " 62  ltDebtToEquity                      715 non-null    float64       \n",
      " 63  totalDebtToEquity                   715 non-null    float64       \n",
      " 64  epsTTM                              715 non-null    float64       \n",
      " 65  epsChangePercentTTM                 715 non-null    float64       \n",
      " 66  epsChangeYear                       715 non-null    float64       \n",
      " 67  epsChange                           715 non-null    float64       \n",
      " 68  revChangeYear                       715 non-null    float64       \n",
      " 69  revChangeTTM                        715 non-null    float64       \n",
      " 70  revChangeIn                         715 non-null    float64       \n",
      " 71  sharesOutstanding                   715 non-null    float64       \n",
      " 72  marketCapFloat                      715 non-null    float64       \n",
      " 73  marketCap                           715 non-null    float64       \n",
      " 74  bookValuePerShare                   715 non-null    float64       \n",
      " 75  shortIntToFloat                     715 non-null    float64       \n",
      " 76  shortIntDayToCover                  715 non-null    float64       \n",
      " 77  divGrowthRate3Year                  715 non-null    float64       \n",
      " 78  dividendPayAmount                   715 non-null    float64       \n",
      " 79  beta                                715 non-null    float64       \n",
      " 80  vol1DayAvg                          715 non-null    float64       \n",
      " 81  vol10DayAvg                         715 non-null    float64       \n",
      " 82  vol3MonthAvg                        715 non-null    float64       \n",
      "dtypes: bool(4), datetime64[ns](1), float64(68), int64(6), object(4)\n",
      "memory usage: 444.2+ KB\n"
     ]
    }
   ],
   "metadata": {}
  },
  {
   "cell_type": "markdown",
   "source": [
    "## Boolean Values"
   ],
   "metadata": {}
  },
  {
   "cell_type": "code",
   "execution_count": 12,
   "source": [
    "data.select_dtypes(include='boolean')"
   ],
   "outputs": [
    {
     "output_type": "execute_result",
     "data": {
      "text/plain": [
       "     marginable  shortable  delayed  realtimeEntitled\n",
       "0          True       True     True             False\n",
       "1          True       True     True             False\n",
       "2          True       True     True             False\n",
       "3          True       True     True             False\n",
       "4          True       True     True             False\n",
       "..          ...        ...      ...               ...\n",
       "710        True       True     True             False\n",
       "711        True       True     True             False\n",
       "712        True       True     True             False\n",
       "713        True       True     True             False\n",
       "714        True       True     True             False\n",
       "\n",
       "[715 rows x 4 columns]"
      ],
      "text/html": [
       "<div>\n",
       "<style scoped>\n",
       "    .dataframe tbody tr th:only-of-type {\n",
       "        vertical-align: middle;\n",
       "    }\n",
       "\n",
       "    .dataframe tbody tr th {\n",
       "        vertical-align: top;\n",
       "    }\n",
       "\n",
       "    .dataframe thead th {\n",
       "        text-align: right;\n",
       "    }\n",
       "</style>\n",
       "<table border=\"1\" class=\"dataframe\">\n",
       "  <thead>\n",
       "    <tr style=\"text-align: right;\">\n",
       "      <th></th>\n",
       "      <th>marginable</th>\n",
       "      <th>shortable</th>\n",
       "      <th>delayed</th>\n",
       "      <th>realtimeEntitled</th>\n",
       "    </tr>\n",
       "  </thead>\n",
       "  <tbody>\n",
       "    <tr>\n",
       "      <th>0</th>\n",
       "      <td>True</td>\n",
       "      <td>True</td>\n",
       "      <td>True</td>\n",
       "      <td>False</td>\n",
       "    </tr>\n",
       "    <tr>\n",
       "      <th>1</th>\n",
       "      <td>True</td>\n",
       "      <td>True</td>\n",
       "      <td>True</td>\n",
       "      <td>False</td>\n",
       "    </tr>\n",
       "    <tr>\n",
       "      <th>2</th>\n",
       "      <td>True</td>\n",
       "      <td>True</td>\n",
       "      <td>True</td>\n",
       "      <td>False</td>\n",
       "    </tr>\n",
       "    <tr>\n",
       "      <th>3</th>\n",
       "      <td>True</td>\n",
       "      <td>True</td>\n",
       "      <td>True</td>\n",
       "      <td>False</td>\n",
       "    </tr>\n",
       "    <tr>\n",
       "      <th>4</th>\n",
       "      <td>True</td>\n",
       "      <td>True</td>\n",
       "      <td>True</td>\n",
       "      <td>False</td>\n",
       "    </tr>\n",
       "    <tr>\n",
       "      <th>...</th>\n",
       "      <td>...</td>\n",
       "      <td>...</td>\n",
       "      <td>...</td>\n",
       "      <td>...</td>\n",
       "    </tr>\n",
       "    <tr>\n",
       "      <th>710</th>\n",
       "      <td>True</td>\n",
       "      <td>True</td>\n",
       "      <td>True</td>\n",
       "      <td>False</td>\n",
       "    </tr>\n",
       "    <tr>\n",
       "      <th>711</th>\n",
       "      <td>True</td>\n",
       "      <td>True</td>\n",
       "      <td>True</td>\n",
       "      <td>False</td>\n",
       "    </tr>\n",
       "    <tr>\n",
       "      <th>712</th>\n",
       "      <td>True</td>\n",
       "      <td>True</td>\n",
       "      <td>True</td>\n",
       "      <td>False</td>\n",
       "    </tr>\n",
       "    <tr>\n",
       "      <th>713</th>\n",
       "      <td>True</td>\n",
       "      <td>True</td>\n",
       "      <td>True</td>\n",
       "      <td>False</td>\n",
       "    </tr>\n",
       "    <tr>\n",
       "      <th>714</th>\n",
       "      <td>True</td>\n",
       "      <td>True</td>\n",
       "      <td>True</td>\n",
       "      <td>False</td>\n",
       "    </tr>\n",
       "  </tbody>\n",
       "</table>\n",
       "<p>715 rows × 4 columns</p>\n",
       "</div>"
      ]
     },
     "metadata": {},
     "execution_count": 12
    }
   ],
   "metadata": {}
  },
  {
   "cell_type": "code",
   "execution_count": 13,
   "source": [
    "print(data['marginable'].nunique())\n",
    "print(data['shortable'].nunique())\n",
    "print(data['delayed'].nunique())\n",
    "print(data['realtimeEntitled'].nunique())"
   ],
   "outputs": [
    {
     "output_type": "stream",
     "name": "stdout",
     "text": [
      "2\n",
      "2\n",
      "1\n",
      "1\n"
     ]
    }
   ],
   "metadata": {}
  },
  {
   "cell_type": "markdown",
   "source": [
    "Two of these columns provide no valuable information"
   ],
   "metadata": {}
  },
  {
   "cell_type": "code",
   "execution_count": 14,
   "source": [
    "data.drop(['delayed', 'realtimeEntitled'], axis=1, inplace=True, )"
   ],
   "outputs": [],
   "metadata": {}
  },
  {
   "cell_type": "code",
   "execution_count": 15,
   "source": [
    "#data = data.transpose(copy=True).drop_duplicates().transpose(copy=True)"
   ],
   "outputs": [],
   "metadata": {}
  },
  {
   "cell_type": "markdown",
   "source": [
    "## Null Values"
   ],
   "metadata": {}
  },
  {
   "cell_type": "code",
   "execution_count": 16,
   "source": [
    "data.isna().sum().sum()"
   ],
   "outputs": [
    {
     "output_type": "execute_result",
     "data": {
      "text/plain": [
       "0"
      ]
     },
     "metadata": {},
     "execution_count": 16
    }
   ],
   "metadata": {}
  },
  {
   "cell_type": "markdown",
   "source": [
    "We're good to go"
   ],
   "metadata": {}
  },
  {
   "cell_type": "markdown",
   "source": [
    "## Columns with minimal unique values\n",
    "\n",
    "Variables with a single value in the column will not likely provide any predictability"
   ],
   "metadata": {}
  },
  {
   "cell_type": "code",
   "execution_count": 17,
   "source": [
    "list(data.columns)\n",
    "\n",
    "for column in list(data.columns):\n",
    "    if data[column].nunique() <= 1:\n",
    "        data.drop(column, axis=1, inplace=True)"
   ],
   "outputs": [],
   "metadata": {}
  },
  {
   "cell_type": "markdown",
   "source": [
    "# Bring in price stock with TDAmeritrade API"
   ],
   "metadata": {}
  },
  {
   "cell_type": "code",
   "execution_count": 18,
   "source": [
    "# Date range of our dataset\n",
    "print(data['date'].min().date())\n",
    "print(data['date'].max().date())\n",
    "print(data['date'].max().date() - data['date'].min().date())"
   ],
   "outputs": [
    {
     "output_type": "stream",
     "name": "stdout",
     "text": [
      "2021-06-03\n",
      "2021-08-25\n",
      "83 days, 0:00:00\n"
     ]
    }
   ],
   "metadata": {}
  },
  {
   "cell_type": "markdown",
   "source": [
    "Based on the date range of our dataset, our API call should generate about 2 months of price history"
   ],
   "metadata": {}
  },
  {
   "cell_type": "markdown",
   "source": [
    "# LEFT OFF HERE: MODEL_IMPORT_STOCK_DATA.PY"
   ],
   "metadata": {}
  },
  {
   "cell_type": "code",
   "execution_count": 21,
   "source": [
    "### Note: The API does not produce data on the weekends\n",
    "n_period = 3\n",
    "api_key = \"***REMOVED***\"\n",
    "price_data = pd.DataFrame()\n",
    "\n",
    "for stock in list(data['stock'].unique()):\n",
    "    symbol = stock\n",
    "    url = f'https://api.tdameritrade.com/v1/marketdata/{symbol}/pricehistory?apikey={api_key}&periodType=month&period={n_period}&frequencyType=daily&frequency=1'\n",
    "    raw_data = requests.get(url).json()\n",
    "\n",
    "    raw_data = pd.json_normalize(raw_data, record_path=['candles'])\n",
    "    raw_data.rename(columns = {'datetime': 'date'}, inplace=True)\n",
    "    raw_data['date'] = pd.to_datetime(raw_data['date'], unit='ms')\n",
    "    raw_data['date'] = [raw_data['date'][i].date() for i in range(len(raw_data['date']))]\n",
    "    raw_data['stock'] = [stock for x in range(len(raw_data))]\n",
    "    # LEFT OFF HERE: MODEL_IMPORT_STOCK_DATA.PY\n",
    "\n",
    "    # Calc returns\n",
    "    raw_data['1d-logreturn'] = np.log(raw_data['close'] / raw_data['close'].shift(1))\n",
    "    raw_data['2d-logreturn'] = np.log(raw_data['close'] / raw_data['close'].shift(2))\n",
    "    raw_data['5d-logreturn'] = np.log(raw_data['close'] / raw_data['close'].shift(5))\n",
    "\n",
    "    # Determine direction of return\n",
    "    raw_data['1d-direction'] = [1 if x > 0 else -1 if x < 0 else 0 for x in raw_data['1d-logreturn']]\n",
    "    raw_data['2d-direction'] = [1 if x > 0 else -1 if x < 0 else 0 for x in raw_data['2d-logreturn']]\n",
    "    raw_data['5d-direction'] = [1 if x > 0 else -1 if x < 0 else 0 for x in raw_data['5d-logreturn']]\n",
    "\n",
    "    # Concat dataframes\n",
    "    price_data = pd.concat([price_data, raw_data], ignore_index=True)\n",
    "    price_data = price_data[['date',\n",
    "                             'stock',\n",
    "                             'close',\n",
    "                             '1d-logreturn',\n",
    "                             '1d-direction',\n",
    "                             '2d-logreturn',\n",
    "                             '2d-direction',\n",
    "                             '5d-logreturn',\n",
    "                             '5d-direction']]\n",
    "\n",
    "# First n values in direction columns should be NaN\n",
    "price_data['1d-direction'][0] = np.nan\n",
    "price_data['2d-direction'][0: 2] = [np.nan for x in price_data['2d-direction'][0: 2]]\n",
    "price_data['5d-direction'][0: 5] = [np.nan for x in price_data['5d-direction'][0: 5]]\n",
    "\n",
    "price_data['1d-logreturn'] = price_data['1d-logreturn'].shift(1)\n",
    "price_data['1d-direction'] = price_data['1d-direction'].shift(1)\n",
    "\n",
    "price_data['2d-logreturn'] = price_data['2d-logreturn'].shift(1)\n",
    "price_data['2d-direction'] = price_data['2d-direction'].shift(1)\n",
    "\n",
    "price_data['5d-logreturn'] = price_data['5d-logreturn'].shift(1)\n",
    "price_data['5d-direction'] = price_data['5d-direction'].shift(1)\n",
    "\n",
    "price_data.dropna(inplace=True)\n",
    "price_data.reset_index(inplace=True)\n",
    "price_data.drop('index', axis=1, inplace=True)"
   ],
   "outputs": [
    {
     "output_type": "stream",
     "name": "stderr",
     "text": [
      "/opt/anaconda3/lib/python3.8/site-packages/pandas/core/indexing.py:671: SettingWithCopyWarning: \n",
      "A value is trying to be set on a copy of a slice from a DataFrame\n",
      "\n",
      "See the caveats in the documentation: https://pandas.pydata.org/pandas-docs/stable/user_guide/indexing.html#returning-a-view-versus-a-copy\n",
      "  self._setitem_with_indexer(indexer, value)\n"
     ]
    }
   ],
   "metadata": {}
  },
  {
   "cell_type": "code",
   "execution_count": 22,
   "source": [
    "# Filter out dates to match those of the 'data' dataframe\n",
    "filter_ = (price_data['date'] >= data['date'].min().date()) & (price_data['date'] <= data['date'].max().date())\n",
    "\n",
    "price_data = price_data[filter_]\n",
    "price_data.reset_index(inplace=True)\n",
    "price_data.drop('index', axis=1, inplace=True)"
   ],
   "outputs": [],
   "metadata": {}
  },
  {
   "cell_type": "code",
   "execution_count": 23,
   "source": [
    "# Instantiate empty dataframe to create combined dataframe\n",
    "column_list = list(price_data.columns) + list(data.columns)\n",
    "combined_df = pd.DataFrame(columns=column_list)\n",
    "\n",
    "# Iterate through both dataframes to match date and stock and append matching rows into combined_df\n",
    "for ind in price_data.index:\n",
    "    for indx in data.index:\n",
    "        if price_data['date'][ind] == data['date'][indx] and price_data['stock'][ind] == data['stock'][indx]:\n",
    "            series_list = [\n",
    "                pd.to_datetime(price_data['date'][ind]),\n",
    "                price_data['stock'][ind],\n",
    "                price_data['close'][ind],\n",
    "                price_data['1d-logreturn'][ind],\n",
    "                price_data['1d-direction'][ind],\n",
    "                price_data['2d-logreturn'][ind],\n",
    "                price_data['2d-direction'][ind],\n",
    "                price_data['5d-logreturn'][ind],\n",
    "                price_data['5d-direction'][ind]] + list(data.iloc[indx])\n",
    "            combined_df = combined_df.append(pd.Series(\n",
    "                    series_list,\n",
    "                    index=column_list\n",
    "                ), ignore_index=True)\n",
    "\n",
    "# We don't need duplicate 'date' and 'stock' columns anymore\n",
    "combined_df = combined_df.iloc[:, 2:]\n",
    "combined_df.sort_values(by='date', ignore_index=True, inplace=True)"
   ],
   "outputs": [],
   "metadata": {}
  },
  {
   "cell_type": "markdown",
   "source": [
    "## Data types"
   ],
   "metadata": {}
  },
  {
   "cell_type": "code",
   "execution_count": 24,
   "source": [
    "# Convert columns to numeric datatype\n",
    "int_list = ['bidSize', 'askSize', 'lastSize', 'totalVolume', 'regularMarketLastSize']\n",
    "\n",
    "for int_ in int_list:\n",
    "    combined_df[int_] = pd.to_numeric(combined_df[int_])\n",
    "\n",
    "combined_df['1d-direction'] = pd.to_numeric(combined_df['1d-direction'])"
   ],
   "outputs": [],
   "metadata": {}
  },
  {
   "cell_type": "code",
   "execution_count": 25,
   "source": [
    "combined_df.select_dtypes('object').columns"
   ],
   "outputs": [
    {
     "output_type": "execute_result",
     "data": {
      "text/plain": [
       "Index(['stock', 'bidId', 'askId', 'lastId', 'marginable', 'shortable'], dtype='object')"
      ]
     },
     "metadata": {},
     "execution_count": 25
    }
   ],
   "metadata": {}
  },
  {
   "cell_type": "code",
   "execution_count": 26,
   "source": [
    "# Some columns should be integer data types\n",
    "combined_df['sharesOutstanding'] = pd.to_numeric(combined_df['sharesOutstanding'])\n",
    "combined_df['vol1DayAvg'] = pd.to_numeric(combined_df['vol1DayAvg'])\n",
    "combined_df['vol10DayAvg'] = pd.to_numeric(combined_df['vol10DayAvg'])\n",
    "combined_df['vol3MonthAvg'] = pd.to_numeric(combined_df['vol3MonthAvg'])"
   ],
   "outputs": [],
   "metadata": {}
  },
  {
   "cell_type": "code",
   "execution_count": 27,
   "source": [
    "combined_df.select_dtypes(['int64', 'float64', 'int32', 'float32']).columns"
   ],
   "outputs": [
    {
     "output_type": "execute_result",
     "data": {
      "text/plain": [
       "Index(['close', '1d-logreturn', '1d-direction', '2d-logreturn', '2d-direction',\n",
       "       '5d-logreturn', '5d-direction', 'Bearish', 'Neutral', 'Bullish',\n",
       "       'Total_Compound', 'bidPrice', 'bidSize', 'askPrice', 'askSize',\n",
       "       'lastPrice', 'lastSize', 'openPrice', 'highPrice', 'lowPrice',\n",
       "       'closePrice', 'netChange', 'totalVolume', 'quoteTimeInLong',\n",
       "       'tradeTimeInLong', 'mark', 'volatility', '52WkHigh', '52WkLow',\n",
       "       'peRatio', 'divAmount', 'regularMarketLastPrice',\n",
       "       'regularMarketLastSize', 'regularMarketNetChange',\n",
       "       'regularMarketTradeTimeInLong', 'netPercentChangeInDouble',\n",
       "       'markChangeInDouble', 'markPercentChangeInDouble',\n",
       "       'regularMarketPercentChangeInDouble', 'high52', 'low52', 'pegRatio',\n",
       "       'pbRatio', 'prRatio', 'pcfRatio', 'grossMarginTTM', 'grossMarginMRQ',\n",
       "       'netProfitMarginTTM', 'netProfitMarginMRQ', 'operatingMarginTTM',\n",
       "       'operatingMarginMRQ', 'returnOnEquity', 'returnOnAssets',\n",
       "       'returnOnInvestment', 'quickRatio', 'currentRatio', 'interestCoverage',\n",
       "       'totalDebtToCapital', 'ltDebtToEquity', 'totalDebtToEquity', 'epsTTM',\n",
       "       'epsChangePercentTTM', 'epsChangeYear', 'revChangeTTM', 'revChangeIn',\n",
       "       'sharesOutstanding', 'marketCapFloat', 'marketCap', 'bookValuePerShare',\n",
       "       'dividendPayAmount', 'beta', 'vol1DayAvg', 'vol10DayAvg',\n",
       "       'vol3MonthAvg'],\n",
       "      dtype='object')"
      ]
     },
     "metadata": {},
     "execution_count": 27
    }
   ],
   "metadata": {}
  },
  {
   "cell_type": "markdown",
   "source": [
    "Officially ready for modeling"
   ],
   "metadata": {}
  },
  {
   "cell_type": "markdown",
   "source": [
    "# Minimal Viable Product"
   ],
   "metadata": {}
  },
  {
   "cell_type": "markdown",
   "source": [
    "## Features and Target Variables"
   ],
   "metadata": {}
  },
  {
   "cell_type": "code",
   "execution_count": 28,
   "source": [
    "X = combined_df.loc[:, 'Total_Compound':].drop('date', axis=1)\n",
    "y = combined_df['5d-direction']"
   ],
   "outputs": [],
   "metadata": {}
  },
  {
   "cell_type": "markdown",
   "source": [
    "## Encode Categorical Variables"
   ],
   "metadata": {}
  },
  {
   "cell_type": "code",
   "execution_count": 29,
   "source": [
    "from sklearn.preprocessing import OneHotEncoder\n",
    "\n",
    "categoricals = list(X.select_dtypes('object').columns)\n",
    "numericals = list(X.select_dtypes(['int64', 'float64', 'int32', 'float32']).columns)\n",
    "\n",
    "def encode_cats(categoricals, numericals):\n",
    "    \"\"\"\n",
    "    Takes in a list of categorical columns and a list of numerical columns and returns the dataframe with encoded variables\n",
    "    \"\"\"\n",
    "    ohe = OneHotEncoder(sparse=False, drop='first')\n",
    "    cat_matrix = ohe.fit_transform(X.loc[:, categoricals])\n",
    "    X_ohe = pd.DataFrame(cat_matrix,\n",
    "                         columns=ohe.get_feature_names(categoricals), #create meaningful column names\n",
    "                         index=X.index) #keep the same index values\n",
    "    \n",
    "    return pd.concat([X.loc[:, numericals], X_ohe], axis=1)"
   ],
   "outputs": [],
   "metadata": {}
  },
  {
   "cell_type": "code",
   "execution_count": 30,
   "source": [
    "X = encode_cats(categoricals, numericals)"
   ],
   "outputs": [],
   "metadata": {}
  },
  {
   "cell_type": "code",
   "execution_count": 88,
   "source": [
    "from sklearn.linear_model import LogisticRegression\n",
    "from sklearn.ensemble import RandomForestClassifier\n",
    "from sklearn.neighbors import KNeighborsClassifier\n",
    "import xgboost as xgb\n",
    "from sklearn.model_selection import cross_val_score\n",
    "from sklearn.metrics import auc, roc_auc_score, plot_roc_curve, confusion_matrix, ConfusionMatrixDisplay, precision_recall_curve, PrecisionRecallDisplay, plot_confusion_matrix, precision_score, recall_score\n",
    "from sklearn.model_selection import train_test_split, GridSearchCV, RandomizedSearchCV\n",
    "from sklearn.preprocessing import StandardScaler\n",
    "\n",
    "import matplotlib.pyplot as plt"
   ],
   "outputs": [],
   "metadata": {}
  },
  {
   "cell_type": "code",
   "execution_count": 32,
   "source": [
    "def warn(*args, **kwargs):\n",
    "    pass\n",
    "import warnings\n",
    "warnings.warn = warn\n",
    "\n",
    "X, X_test, y, y_test = train_test_split(X, y, test_size=.2, random_state=42) #hold out 20% of the data for final testing\n",
    "\n",
    "scaler = StandardScaler()\n",
    "X_scaled = scaler.fit_transform(X)\n",
    "X_test_scaled = scaler.transform(X_test)"
   ],
   "outputs": [],
   "metadata": {}
  },
  {
   "cell_type": "code",
   "execution_count": 33,
   "source": [
    "knn = KNeighborsClassifier()\n",
    "knn_scores = cross_val_score(knn, X_scaled, y, cv=5)\n",
    "\n",
    "lr = LogisticRegression(max_iter=1000)\n",
    "lr_scores = cross_val_score(lr, X_scaled, y, cv = 5)\n",
    "\n",
    "rf = RandomForestClassifier()\n",
    "rf_scores = cross_val_score(rf, X_scaled, y, cv=5)\n",
    "\n",
    "gbm = xgb.XGBClassifier()\n",
    "gbm_scores = cross_val_score(gbm, X_scaled, y, cv=5)\n",
    "\n",
    "print(f\"KNN mean scores: {np.mean(knn_scores):.4}\")\n",
    "\n",
    "print(f\"Logistic Regression mean scores: {np.mean(lr_scores):.4}\")\n",
    "\n",
    "print(f\"Random Forest mean scores: {np.mean(rf_scores):.4}\")\n",
    "\n",
    "print(f\"XGBoost mean scores: {np.mean(gbm_scores):.4}\")\n",
    "\n",
    "# save best model\n",
    "best_model = {\n",
    "    knn: np.mean(knn_scores),\n",
    "    lr: np.mean(lr_scores),\n",
    "    rf: np.mean(rf_scores),\n",
    "    gbm: np.mean(gbm_scores)\n",
    "}\n",
    "\n",
    "# sort by mean scores (dict values)\n",
    "# then select the last model (highest mean scores)\n",
    "best_model = {k: v for k, v in sorted(best_model.items(), key=lambda item: item[1])}\n",
    "best_model = list(best_model.keys())[-1]"
   ],
   "outputs": [
    {
     "output_type": "stream",
     "name": "stdout",
     "text": [
      "KNN mean scores: 0.6286\n",
      "Logistic Regression mean scores: 0.6719\n",
      "Random Forest mean scores: 0.7684\n",
      "XGBoost mean scores: 0.734\n"
     ]
    }
   ],
   "metadata": {}
  },
  {
   "cell_type": "markdown",
   "source": [
    "## Confusion Matrix"
   ],
   "metadata": {}
  },
  {
   "cell_type": "code",
   "execution_count": 48,
   "source": [
    "# Precicion score\n",
    "gbm.fit(X_scaled, y)\n",
    "prec_score = precision_score(y_test, gbm.predict(X_test_scaled), average='weighted')\n",
    "\n",
    "print(f\"Precision Score: {prec_score:.4f}\")"
   ],
   "outputs": [
    {
     "output_type": "stream",
     "name": "stdout",
     "text": [
      "Precision Score: 0.7427\n"
     ]
    }
   ],
   "metadata": {}
  },
  {
   "cell_type": "code",
   "execution_count": 49,
   "source": [
    "# Recall Score\n",
    "rec_score = recall_score(y_test, gbm.predict(X_test_scaled), average='weighted')\n",
    "\n",
    "print(f\"Recall Score: {rec_score:.4f}\")"
   ],
   "outputs": [
    {
     "output_type": "stream",
     "name": "stdout",
     "text": [
      "Recall Score: 0.7431\n"
     ]
    }
   ],
   "metadata": {}
  },
  {
   "cell_type": "code",
   "execution_count": 50,
   "source": [
    "plot_confusion_matrix(gbm, X_test_scaled, y_test)\n",
    "plt.grid(b=None)"
   ],
   "outputs": [
    {
     "output_type": "display_data",
     "data": {
      "text/plain": [
       "<Figure size 432x288 with 2 Axes>"
      ],
      "image/svg+xml": "<?xml version=\"1.0\" encoding=\"utf-8\" standalone=\"no\"?>\n<!DOCTYPE svg PUBLIC \"-//W3C//DTD SVG 1.1//EN\"\n  \"http://www.w3.org/Graphics/SVG/1.1/DTD/svg11.dtd\">\n<!-- Created with matplotlib (https://matplotlib.org/) -->\n<svg height=\"266.436094pt\" version=\"1.1\" viewBox=\"0 0 323.706219 266.436094\" width=\"323.706219pt\" xmlns=\"http://www.w3.org/2000/svg\" xmlns:xlink=\"http://www.w3.org/1999/xlink\">\n <defs>\n  <style type=\"text/css\">\n*{stroke-linecap:butt;stroke-linejoin:round;}\n  </style>\n </defs>\n <g id=\"figure_1\">\n  <g id=\"patch_1\">\n   <path d=\"M 0 266.436094 \nL 323.706219 266.436094 \nL 323.706219 0 \nL 0 0 \nz\n\" style=\"fill:#ffffff;\"/>\n  </g>\n  <g id=\"axes_1\">\n   <g id=\"patch_2\">\n    <path d=\"M 51.840656 224.64 \nL 269.280656 224.64 \nL 269.280656 7.2 \nL 51.840656 7.2 \nz\n\" style=\"fill:#ffffff;\"/>\n   </g>\n   <g clip-path=\"url(#p789b413d1b)\">\n    <image height=\"218\" id=\"imagefc14cee2a1\" transform=\"scale(1 -1)translate(0 -218)\" width=\"218\" x=\"51.840656\" xlink:href=\"data:image/png;base64,\niVBORw0KGgoAAAANSUhEUgAAANoAAADaCAYAAADAHVzbAAAABHNCSVQICAgIfAhkiAAAAppJREFUeJzt1TENwlAARVFKaqEO2DHB1BmtJHWBCnYUgIa/3B/COQrecvOW23L/nPgpx+s5ewKDzrMHwD8QGgSEBgGhQUBoEBAaBIQGAaFBQGgQEBoEhAYBoUFAaBAQGgSEBgGhQUBoEBAaBIQGAaFBQGgQEBoEhAYBoUFAaBAQGgSEBgGhQUBoEBAaBIQGAaFBQGgQEBoEhAYBoUFAaBAQGgSEBgGhQUBoEBAaBIQGAaFBQGgQEBoEhAYBoUFAaBAQGgSEBgGhQUBoEBAaBIQGAaFBQGgQEBoEhAYBoUFAaBAQGgSEBgGhQUBoEBAaBIQGAaFBQGgQEBoEhAYBoUFAaBAQGgSEBgGhQUBoEBAaBIQGAaFBQGgQEBoEhAYBoUFAaBAQGgSEBgGhQUBoEBAaBIQGAaFBQGgQEBoEhAYBoUFAaBAQGgSEBgGhQUBoEBAaBIQGAaFBQGgQEBoEhAYBoUFgfT8uszcwaL9usycwyKNBQGgQEBoEhAYBoUFAaBAQGgSEBgGhQUBoEBAaBIQGAaFBQGgQEBoEhAYBoUFAaBAQGgSEBgGhQUBoEBAaBIQGAaFBQGgQEBoEhAYBoUFAaBAQGgSEBgGhQUBoEBAaBIQGAaFBQGgQEBoEhAYBoUFAaBAQGgSEBgGhQUBoEBAaBIQGAaFBQGgQEBoEhAYBoUFAaBAQGgSEBgGhQUBoEBAaBIQGAaFBQGgQEBoEhAYBoUFAaBAQGgSEBgGhQUBoEBAaBIQGAaFBQGgQEBoEhAYBoUFAaBAQGgSEBgGhQUBoEBAaBIQGAaFBQGgQEBoEhAYBoUFAaBAQGgSEBgGhQUBoEBAaBIQGAaFBQGgQEBoEhAYBoUFAaBAQGgSEBgGhQUBoEBAaBIQGgS9h3wgWT81YwwAAAABJRU5ErkJggg==\" y=\"-6.64\"/>\n   </g>\n   <g id=\"matplotlib.axis_1\">\n    <g id=\"xtick_1\">\n     <g id=\"line2d_1\"/>\n     <g id=\"text_1\">\n      <!-- -1.0 -->\n      <defs>\n       <path d=\"M 4.15625 32.375 \nL 28.65625 32.375 \nL 28.65625 23.34375 \nL 4.15625 23.34375 \nz\n\" id=\"Helvetica-45\"/>\n       <path d=\"M 9.578125 49.515625 \nL 9.578125 56.25 \nQ 19.09375 57.171875 22.84375 59.34375 \nQ 26.609375 61.53125 28.46875 69.625 \nL 35.40625 69.625 \nL 35.40625 0 \nL 26.03125 0 \nL 26.03125 49.515625 \nz\n\" id=\"Helvetica-49\"/>\n       <path d=\"M 8.546875 10.640625 \nL 18.75 10.640625 \nL 18.75 0 \nL 8.546875 0 \nz\n\" id=\"Helvetica-46\"/>\n       <path d=\"M 27.046875 69.921875 \nQ 40.625 69.921875 46.6875 58.734375 \nQ 51.375 50.09375 51.375 35.0625 \nQ 51.375 20.796875 47.125 11.46875 \nQ 40.96875 -1.90625 27 -1.90625 \nQ 14.40625 -1.90625 8.25 9.03125 \nQ 3.125 18.171875 3.125 33.546875 \nQ 3.125 45.453125 6.203125 54 \nQ 11.96875 69.921875 27.046875 69.921875 \nz\nM 26.953125 6.109375 \nQ 33.796875 6.109375 37.84375 12.15625 \nQ 41.890625 18.21875 41.890625 34.71875 \nQ 41.890625 46.625 38.953125 54.3125 \nQ 36.03125 62.015625 27.59375 62.015625 \nQ 19.828125 62.015625 16.234375 54.703125 \nQ 12.640625 47.40625 12.640625 33.203125 \nQ 12.640625 22.515625 14.9375 16.015625 \nQ 18.453125 6.109375 26.953125 6.109375 \nz\n\" id=\"Helvetica-48\"/>\n      </defs>\n      <g style=\"fill:#262626;\" transform=\"translate(95.345953 239.278531)scale(0.126 -0.126)\">\n       <use xlink:href=\"#Helvetica-45\"/>\n       <use x=\"33.300781\" xlink:href=\"#Helvetica-49\"/>\n       <use x=\"88.916016\" xlink:href=\"#Helvetica-46\"/>\n       <use x=\"116.699219\" xlink:href=\"#Helvetica-48\"/>\n      </g>\n     </g>\n    </g>\n    <g id=\"xtick_2\">\n     <g id=\"line2d_2\"/>\n     <g id=\"text_2\">\n      <!-- 0.0 -->\n      <g style=\"fill:#262626;\" transform=\"translate(206.163656 239.278531)scale(0.126 -0.126)\">\n       <use xlink:href=\"#Helvetica-48\"/>\n       <use x=\"55.615234\" xlink:href=\"#Helvetica-46\"/>\n       <use x=\"83.398438\" xlink:href=\"#Helvetica-48\"/>\n      </g>\n     </g>\n    </g>\n    <g id=\"text_3\">\n     <!-- Predicted label -->\n     <defs>\n      <path d=\"M 8.546875 71.734375 \nL 40.828125 71.734375 \nQ 50.390625 71.734375 56.25 66.328125 \nQ 62.109375 60.9375 62.109375 51.171875 \nQ 62.109375 42.78125 56.875 36.546875 \nQ 51.65625 30.328125 40.828125 30.328125 \nL 18.265625 30.328125 \nL 18.265625 0 \nL 8.546875 0 \nz\nM 52.296875 51.125 \nQ 52.296875 59.03125 46.4375 61.859375 \nQ 43.21875 63.375 37.59375 63.375 \nL 18.265625 63.375 \nL 18.265625 38.53125 \nL 37.59375 38.53125 \nQ 44.140625 38.53125 48.21875 41.3125 \nQ 52.296875 44.09375 52.296875 51.125 \nz\n\" id=\"Helvetica-80\"/>\n      <path d=\"M 6.6875 52.296875 \nL 15.046875 52.296875 \nL 15.046875 43.265625 \nQ 16.0625 45.90625 20.0625 49.6875 \nQ 24.078125 53.46875 29.296875 53.46875 \nQ 29.546875 53.46875 30.125 53.421875 \nQ 30.71875 53.375 32.125 53.21875 \nL 32.125 43.953125 \nQ 31.34375 44.09375 30.6875 44.140625 \nQ 30.03125 44.1875 29.25 44.1875 \nQ 22.609375 44.1875 19.046875 39.90625 \nQ 15.484375 35.640625 15.484375 30.078125 \nL 15.484375 0 \nL 6.6875 0 \nz\n\" id=\"Helvetica-114\"/>\n      <path d=\"M 28.21875 53.46875 \nQ 33.796875 53.46875 39.015625 50.859375 \nQ 44.234375 48.25 46.96875 44.09375 \nQ 49.609375 40.140625 50.484375 34.859375 \nQ 51.265625 31.25 51.265625 23.34375 \nL 12.9375 23.34375 \nQ 13.1875 15.375 16.703125 10.5625 \nQ 20.21875 5.765625 27.59375 5.765625 \nQ 34.46875 5.765625 38.578125 10.296875 \nQ 40.921875 12.9375 41.890625 16.40625 \nL 50.53125 16.40625 \nQ 50.203125 13.53125 48.265625 9.984375 \nQ 46.34375 6.453125 43.953125 4.203125 \nQ 39.9375 0.296875 34.03125 -1.078125 \nQ 30.859375 -1.859375 26.859375 -1.859375 \nQ 17.09375 -1.859375 10.296875 5.25 \nQ 3.515625 12.359375 3.515625 25.140625 \nQ 3.515625 37.75 10.34375 45.609375 \nQ 17.1875 53.46875 28.21875 53.46875 \nz\nM 42.234375 30.328125 \nQ 41.703125 36.03125 39.75 39.453125 \nQ 36.140625 45.796875 27.6875 45.796875 \nQ 21.625 45.796875 17.515625 41.421875 \nQ 13.421875 37.0625 13.1875 30.328125 \nz\nM 27.390625 53.5625 \nz\n\" id=\"Helvetica-101\"/>\n      <path d=\"M 12.015625 25.53125 \nQ 12.015625 17.140625 15.578125 11.46875 \nQ 19.140625 5.8125 27 5.8125 \nQ 33.109375 5.8125 37.03125 11.0625 \nQ 40.96875 16.3125 40.96875 26.125 \nQ 40.96875 36.03125 36.90625 40.796875 \nQ 32.859375 45.5625 26.90625 45.5625 \nQ 20.265625 45.5625 16.140625 40.484375 \nQ 12.015625 35.40625 12.015625 25.53125 \nz\nM 25.25 53.21875 \nQ 31.25 53.21875 35.296875 50.6875 \nQ 37.640625 49.21875 40.625 45.5625 \nL 40.625 71.96875 \nL 49.078125 71.96875 \nL 49.078125 0 \nL 41.15625 0 \nL 41.15625 7.28125 \nQ 38.09375 2.4375 33.890625 0.28125 \nQ 29.6875 -1.859375 24.265625 -1.859375 \nQ 15.53125 -1.859375 9.125 5.484375 \nQ 2.734375 12.84375 2.734375 25.046875 \nQ 2.734375 36.46875 8.5625 44.84375 \nQ 14.40625 53.21875 25.25 53.21875 \nz\n\" id=\"Helvetica-100\"/>\n      <path d=\"M 6.453125 52.046875 \nL 15.375 52.046875 \nL 15.375 0 \nL 6.453125 0 \nz\nM 6.453125 71.734375 \nL 15.375 71.734375 \nL 15.375 61.765625 \nL 6.453125 61.765625 \nz\n\" id=\"Helvetica-105\"/>\n      <path d=\"M 26.609375 53.8125 \nQ 35.453125 53.8125 40.984375 49.515625 \nQ 46.53125 45.21875 47.65625 34.71875 \nL 39.109375 34.71875 \nQ 38.328125 39.546875 35.546875 42.75 \nQ 32.765625 45.953125 26.609375 45.953125 \nQ 18.21875 45.953125 14.59375 37.75 \nQ 12.25 32.421875 12.25 24.609375 \nQ 12.25 16.75 15.5625 11.375 \nQ 18.890625 6 26.03125 6 \nQ 31.5 6 34.6875 9.34375 \nQ 37.890625 12.703125 39.109375 18.5 \nL 47.65625 18.5 \nQ 46.1875 8.109375 40.328125 3.296875 \nQ 34.46875 -1.515625 25.34375 -1.515625 \nQ 15.09375 -1.515625 8.984375 5.984375 \nQ 2.875 13.484375 2.875 24.703125 \nQ 2.875 38.484375 9.5625 46.140625 \nQ 16.265625 53.8125 26.609375 53.8125 \nz\nM 25.25 53.5625 \nz\n\" id=\"Helvetica-99\"/>\n      <path d=\"M 8.203125 66.890625 \nL 17.09375 66.890625 \nL 17.09375 52.296875 \nL 25.4375 52.296875 \nL 25.4375 45.125 \nL 17.09375 45.125 \nL 17.09375 10.984375 \nQ 17.09375 8.25 18.953125 7.328125 \nQ 19.96875 6.78125 22.359375 6.78125 \nQ 23 6.78125 23.734375 6.8125 \nQ 24.46875 6.84375 25.4375 6.9375 \nL 25.4375 0 \nQ 23.921875 -0.4375 22.28125 -0.625 \nQ 20.65625 -0.828125 18.75 -0.828125 \nQ 12.59375 -0.828125 10.390625 2.3125 \nQ 8.203125 5.46875 8.203125 10.5 \nL 8.203125 45.125 \nL 1.125 45.125 \nL 1.125 52.296875 \nL 8.203125 52.296875 \nz\n\" id=\"Helvetica-116\"/>\n      <path id=\"Helvetica-32\"/>\n      <path d=\"M 6.6875 71.734375 \nL 15.484375 71.734375 \nL 15.484375 0 \nL 6.6875 0 \nz\n\" id=\"Helvetica-108\"/>\n      <path d=\"M 13.1875 13.921875 \nQ 13.1875 10.109375 15.96875 7.90625 \nQ 18.75 5.71875 22.5625 5.71875 \nQ 27.203125 5.71875 31.546875 7.859375 \nQ 38.875 11.421875 38.875 19.53125 \nL 38.875 26.609375 \nQ 37.25 25.59375 34.703125 24.90625 \nQ 32.171875 24.21875 29.734375 23.921875 \nL 24.421875 23.25 \nQ 19.625 22.609375 17.234375 21.234375 \nQ 13.1875 18.953125 13.1875 13.921875 \nz\nM 34.46875 31.6875 \nQ 37.5 32.078125 38.53125 34.234375 \nQ 39.109375 35.40625 39.109375 37.59375 \nQ 39.109375 42.09375 35.90625 44.109375 \nQ 32.71875 46.140625 26.765625 46.140625 \nQ 19.875 46.140625 17 42.4375 \nQ 15.375 40.375 14.890625 36.328125 \nL 6.6875 36.328125 \nQ 6.9375 46 12.96875 49.78125 \nQ 19 53.5625 26.953125 53.5625 \nQ 36.1875 53.5625 41.9375 50.046875 \nQ 47.65625 46.53125 47.65625 39.109375 \nL 47.65625 8.984375 \nQ 47.65625 7.625 48.21875 6.78125 \nQ 48.78125 5.953125 50.59375 5.953125 \nQ 51.171875 5.953125 51.90625 6.03125 \nQ 52.640625 6.109375 53.46875 6.25 \nL 53.46875 -0.25 \nQ 51.421875 -0.828125 50.34375 -0.96875 \nQ 49.265625 -1.125 47.40625 -1.125 \nQ 42.875 -1.125 40.828125 2.09375 \nQ 39.75 3.8125 39.3125 6.9375 \nQ 36.625 3.421875 31.59375 0.828125 \nQ 26.5625 -1.765625 20.515625 -1.765625 \nQ 13.234375 -1.765625 8.609375 2.65625 \nQ 4 7.078125 4 13.71875 \nQ 4 21 8.546875 25 \nQ 13.09375 29 20.453125 29.9375 \nz\nM 27.203125 53.5625 \nz\n\" id=\"Helvetica-97\"/>\n      <path d=\"M 5.765625 71.96875 \nL 14.3125 71.96875 \nL 14.3125 45.953125 \nQ 17.1875 49.703125 21.1875 51.671875 \nQ 25.203125 53.65625 29.890625 53.65625 \nQ 39.65625 53.65625 45.734375 46.9375 \nQ 51.8125 40.234375 51.8125 27.15625 \nQ 51.8125 14.75 45.796875 6.546875 \nQ 39.796875 -1.65625 29.15625 -1.65625 \nQ 23.1875 -1.65625 19.09375 1.21875 \nQ 16.65625 2.9375 13.875 6.6875 \nL 13.875 0 \nL 5.765625 0 \nz\nM 28.609375 6.109375 \nQ 35.75 6.109375 39.28125 11.765625 \nQ 42.828125 17.4375 42.828125 26.703125 \nQ 42.828125 34.96875 39.28125 40.375 \nQ 35.75 45.796875 28.859375 45.796875 \nQ 22.859375 45.796875 18.328125 41.359375 \nQ 13.8125 36.921875 13.8125 26.703125 \nQ 13.8125 19.34375 15.671875 14.75 \nQ 19.140625 6.109375 28.609375 6.109375 \nz\n\" id=\"Helvetica-98\"/>\n     </defs>\n     <g style=\"fill:#262626;\" transform=\"translate(112.933781 256.234594)scale(0.144 -0.144)\">\n      <use xlink:href=\"#Helvetica-80\"/>\n      <use x=\"66.699219\" xlink:href=\"#Helvetica-114\"/>\n      <use x=\"100\" xlink:href=\"#Helvetica-101\"/>\n      <use x=\"155.615234\" xlink:href=\"#Helvetica-100\"/>\n      <use x=\"211.230469\" xlink:href=\"#Helvetica-105\"/>\n      <use x=\"233.447266\" xlink:href=\"#Helvetica-99\"/>\n      <use x=\"283.447266\" xlink:href=\"#Helvetica-116\"/>\n      <use x=\"311.230469\" xlink:href=\"#Helvetica-101\"/>\n      <use x=\"366.845703\" xlink:href=\"#Helvetica-100\"/>\n      <use x=\"422.460938\" xlink:href=\"#Helvetica-32\"/>\n      <use x=\"450.244141\" xlink:href=\"#Helvetica-108\"/>\n      <use x=\"472.460938\" xlink:href=\"#Helvetica-97\"/>\n      <use x=\"528.076172\" xlink:href=\"#Helvetica-98\"/>\n      <use x=\"583.691406\" xlink:href=\"#Helvetica-101\"/>\n      <use x=\"639.306641\" xlink:href=\"#Helvetica-108\"/>\n     </g>\n    </g>\n   </g>\n   <g id=\"matplotlib.axis_2\">\n    <g id=\"ytick_1\">\n     <g id=\"line2d_3\"/>\n     <g id=\"text_4\">\n      <!-- -1.0 -->\n      <g style=\"fill:#262626;\" transform=\"translate(24.53125 66.079266)scale(0.126 -0.126)\">\n       <use xlink:href=\"#Helvetica-45\"/>\n       <use x=\"33.300781\" xlink:href=\"#Helvetica-49\"/>\n       <use x=\"88.916016\" xlink:href=\"#Helvetica-46\"/>\n       <use x=\"116.699219\" xlink:href=\"#Helvetica-48\"/>\n      </g>\n     </g>\n    </g>\n    <g id=\"ytick_2\">\n     <g id=\"line2d_4\"/>\n     <g id=\"text_5\">\n      <!-- 0.0 -->\n      <g style=\"fill:#262626;\" transform=\"translate(28.726656 174.799266)scale(0.126 -0.126)\">\n       <use xlink:href=\"#Helvetica-48\"/>\n       <use x=\"55.615234\" xlink:href=\"#Helvetica-46\"/>\n       <use x=\"83.398438\" xlink:href=\"#Helvetica-48\"/>\n      </g>\n     </g>\n    </g>\n    <g id=\"text_6\">\n     <!-- True label -->\n     <defs>\n      <path d=\"M 59.8125 71.734375 \nL 59.8125 63.1875 \nL 35.640625 63.1875 \nL 35.640625 0 \nL 25.78125 0 \nL 25.78125 63.1875 \nL 1.609375 63.1875 \nL 1.609375 71.734375 \nz\n\" id=\"Helvetica-84\"/>\n      <path d=\"M 15.234375 52.296875 \nL 15.234375 17.578125 \nQ 15.234375 13.578125 16.5 11.03125 \nQ 18.84375 6.34375 25.25 6.34375 \nQ 34.421875 6.34375 37.75 14.546875 \nQ 39.546875 18.953125 39.546875 26.609375 \nL 39.546875 52.296875 \nL 48.34375 52.296875 \nL 48.34375 0 \nL 40.046875 0 \nL 40.140625 7.71875 \nQ 38.421875 4.734375 35.890625 2.6875 \nQ 30.859375 -1.421875 23.6875 -1.421875 \nQ 12.5 -1.421875 8.453125 6.0625 \nQ 6.25 10.0625 6.25 16.75 \nL 6.25 52.296875 \nz\nM 27.296875 53.5625 \nz\n\" id=\"Helvetica-117\"/>\n     </defs>\n     <g style=\"fill:#262626;\" transform=\"translate(17.52975 147.934125)rotate(-90)scale(0.144 -0.144)\">\n      <use xlink:href=\"#Helvetica-84\"/>\n      <use x=\"61.083984\" xlink:href=\"#Helvetica-114\"/>\n      <use x=\"94.384766\" xlink:href=\"#Helvetica-117\"/>\n      <use x=\"150\" xlink:href=\"#Helvetica-101\"/>\n      <use x=\"205.615234\" xlink:href=\"#Helvetica-32\"/>\n      <use x=\"233.398438\" xlink:href=\"#Helvetica-108\"/>\n      <use x=\"255.615234\" xlink:href=\"#Helvetica-97\"/>\n      <use x=\"311.230469\" xlink:href=\"#Helvetica-98\"/>\n      <use x=\"366.845703\" xlink:href=\"#Helvetica-101\"/>\n      <use x=\"422.460938\" xlink:href=\"#Helvetica-108\"/>\n     </g>\n    </g>\n   </g>\n   <g id=\"patch_3\">\n    <path d=\"M 51.840656 224.64 \nL 51.840656 7.2 \n\" style=\"fill:none;stroke:#cccccc;stroke-linecap:square;stroke-linejoin:miter;stroke-width:1.12;\"/>\n   </g>\n   <g id=\"patch_4\">\n    <path d=\"M 269.280656 224.64 \nL 269.280656 7.2 \n\" style=\"fill:none;stroke:#cccccc;stroke-linecap:square;stroke-linejoin:miter;stroke-width:1.12;\"/>\n   </g>\n   <g id=\"patch_5\">\n    <path d=\"M 51.840656 224.64 \nL 269.280656 224.64 \n\" style=\"fill:none;stroke:#cccccc;stroke-linecap:square;stroke-linejoin:miter;stroke-width:1.12;\"/>\n   </g>\n   <g id=\"patch_6\">\n    <path d=\"M 51.840656 7.2 \nL 269.280656 7.2 \n\" style=\"fill:none;stroke:#cccccc;stroke-linecap:square;stroke-linejoin:miter;stroke-width:1.12;\"/>\n   </g>\n   <g id=\"text_7\">\n    <!-- 35 -->\n    <defs>\n     <path d=\"M 25.984375 -1.90625 \nQ 13.578125 -1.90625 7.984375 4.90625 \nQ 2.390625 11.71875 2.390625 21.484375 \nL 11.578125 21.484375 \nQ 12.15625 14.703125 14.109375 11.625 \nQ 17.53125 6.109375 26.46875 6.109375 \nQ 33.40625 6.109375 37.59375 9.8125 \nQ 41.796875 13.53125 41.796875 19.390625 \nQ 41.796875 26.609375 37.375 29.484375 \nQ 32.953125 32.375 25.09375 32.375 \nQ 24.21875 32.375 23.3125 32.34375 \nQ 22.40625 32.328125 21.484375 32.28125 \nL 21.484375 40.046875 \nQ 22.859375 39.890625 23.78125 39.84375 \nQ 24.703125 39.796875 25.78125 39.796875 \nQ 30.71875 39.796875 33.890625 41.359375 \nQ 39.453125 44.09375 39.453125 51.125 \nQ 39.453125 56.34375 35.734375 59.171875 \nQ 32.03125 62.015625 27.09375 62.015625 \nQ 18.3125 62.015625 14.9375 56.15625 \nQ 13.09375 52.9375 12.84375 46.96875 \nL 4.15625 46.96875 \nQ 4.15625 54.78125 7.28125 60.25 \nQ 12.640625 70.015625 26.171875 70.015625 \nQ 36.859375 70.015625 42.71875 65.25 \nQ 48.578125 60.5 48.578125 51.46875 \nQ 48.578125 45.015625 45.125 41.015625 \nQ 42.96875 38.53125 39.546875 37.109375 \nQ 45.0625 35.59375 48.15625 31.265625 \nQ 51.265625 26.953125 51.265625 20.703125 \nQ 51.265625 10.6875 44.671875 4.390625 \nQ 38.09375 -1.90625 25.984375 -1.90625 \nz\n\" id=\"Helvetica-51\"/>\n     <path d=\"M 12.359375 17.828125 \nQ 13.234375 10.296875 19.34375 7.421875 \nQ 22.46875 5.953125 26.5625 5.953125 \nQ 34.375 5.953125 38.125 10.9375 \nQ 41.890625 15.921875 41.890625 21.96875 \nQ 41.890625 29.296875 37.421875 33.296875 \nQ 32.953125 37.3125 26.703125 37.3125 \nQ 22.171875 37.3125 18.921875 35.546875 \nQ 15.671875 33.796875 13.375 30.671875 \nL 5.765625 31.109375 \nL 11.078125 68.75 \nL 47.40625 68.75 \nL 47.40625 60.25 \nL 17.671875 60.25 \nL 14.703125 40.828125 \nQ 17.140625 42.671875 19.34375 43.609375 \nQ 23.25 45.21875 28.375 45.21875 \nQ 37.984375 45.21875 44.671875 39.015625 \nQ 51.375 32.8125 51.375 23.296875 \nQ 51.375 13.375 45.234375 5.796875 \nQ 39.109375 -1.765625 25.6875 -1.765625 \nQ 17.140625 -1.765625 10.5625 3.046875 \nQ 4 7.859375 3.21875 17.828125 \nz\n\" id=\"Helvetica-53\"/>\n    </defs>\n    <g style=\"fill:#440154;\" transform=\"translate(100.639719 64.104531)scale(0.1 -0.1)\">\n     <use xlink:href=\"#Helvetica-51\"/>\n     <use x=\"55.615234\" xlink:href=\"#Helvetica-53\"/>\n    </g>\n   </g>\n   <g id=\"text_8\">\n    <!-- 15 -->\n    <g style=\"fill:#fde725;\" transform=\"translate(209.359719 64.104531)scale(0.1 -0.1)\">\n     <use xlink:href=\"#Helvetica-49\"/>\n     <use x=\"55.615234\" xlink:href=\"#Helvetica-53\"/>\n    </g>\n   </g>\n   <g id=\"text_9\">\n    <!-- 13 -->\n    <g style=\"fill:#fde725;\" transform=\"translate(100.639719 172.824531)scale(0.1 -0.1)\">\n     <use xlink:href=\"#Helvetica-49\"/>\n     <use x=\"55.615234\" xlink:href=\"#Helvetica-51\"/>\n    </g>\n   </g>\n   <g id=\"text_10\">\n    <!-- 46 -->\n    <defs>\n     <path d=\"M 33.0625 24.75 \nL 33.0625 56.453125 \nL 10.640625 24.75 \nz\nM 33.203125 0 \nL 33.203125 17.09375 \nL 2.546875 17.09375 \nL 2.546875 25.6875 \nL 34.578125 70.125 \nL 42 70.125 \nL 42 24.75 \nL 52.296875 24.75 \nL 52.296875 17.09375 \nL 42 17.09375 \nL 42 0 \nz\n\" id=\"Helvetica-52\"/>\n     <path d=\"M 29.25 70.21875 \nQ 40.96875 70.21875 45.578125 64.140625 \nQ 50.203125 58.0625 50.203125 51.609375 \nL 41.5 51.609375 \nQ 40.71875 55.765625 39.015625 58.109375 \nQ 35.84375 62.5 29.390625 62.5 \nQ 22.015625 62.5 17.671875 55.6875 \nQ 13.328125 48.875 12.84375 36.1875 \nQ 15.875 40.625 20.453125 42.828125 \nQ 24.65625 44.78125 29.828125 44.78125 \nQ 38.625 44.78125 45.15625 39.15625 \nQ 51.703125 33.546875 51.703125 22.40625 \nQ 51.703125 12.890625 45.5 5.53125 \nQ 39.3125 -1.8125 27.828125 -1.8125 \nQ 18.015625 -1.8125 10.890625 5.640625 \nQ 3.765625 13.09375 3.765625 30.71875 \nQ 3.765625 43.75 6.9375 52.828125 \nQ 13.03125 70.21875 29.25 70.21875 \nz\nM 28.609375 6 \nQ 35.546875 6 38.984375 10.65625 \nQ 42.4375 15.328125 42.4375 21.6875 \nQ 42.4375 27.046875 39.359375 31.90625 \nQ 36.28125 36.765625 28.171875 36.765625 \nQ 22.515625 36.765625 18.234375 33 \nQ 13.96875 29.25 13.96875 21.6875 \nQ 13.96875 15.046875 17.84375 10.515625 \nQ 21.734375 6 28.609375 6 \nz\n\" id=\"Helvetica-54\"/>\n    </defs>\n    <g style=\"fill:#440154;\" transform=\"translate(209.359719 172.824531)scale(0.1 -0.1)\">\n     <use xlink:href=\"#Helvetica-52\"/>\n     <use x=\"55.615234\" xlink:href=\"#Helvetica-54\"/>\n    </g>\n   </g>\n  </g>\n  <g id=\"axes_2\">\n   <g id=\"patch_7\">\n    <path clip-path=\"url(#p628000e605)\" d=\"M 286.020656 224.64 \nL 286.020656 223.790625 \nL 286.020656 8.049375 \nL 286.020656 7.2 \nL 296.892656 7.2 \nL 296.892656 8.049375 \nL 296.892656 223.790625 \nL 296.892656 224.64 \nz\n\" style=\"fill:#ffffff;stroke:#ffffff;stroke-linejoin:miter;stroke-width:0.01;\"/>\n   </g>\n   <image height=\"217\" id=\"imageab7a39b837\" transform=\"scale(1 -1)translate(0 -217)\" width=\"11\" x=\"286\" xlink:href=\"data:image/png;base64,\niVBORw0KGgoAAAANSUhEUgAAAAsAAADZCAYAAAD2WsoCAAAABHNCSVQICAgIfAhkiAAAAVpJREFUaIHt2jmOA0EMQ9Ha2ifzGeb+F7F74sn0AgKyMY4JgvxSVXubz/Vzj+LrzDWr2nHGXHWxOe8tMcB5LshMzoOct6ATzsMmGBMTjeBQcjRiQ/lAGjfF2C1W1DLXZ6Ix7KTEYhjnWAzZjTsWgwoSOiqIMUCMu0HOIP6n8cdZ7udkjJxzj4I9nIOcg3cdiOlp1WQo30+jruUHvcToQeP7x90EHdAAaaOCPW7+Mevn+yPfQvSggStqNCBzEh2JhXMPGvAWSWNQwZEr2MIZvidDzhYjWFDE9RRcMEVjifNa7w4xiMaSM0iZt9AIFozRyBUMiqUgOZ8cjVjmNVOZjzmDeAfRQYwrVpA4I41UjGu+6uJNNOhGym2dxCAaGCO2SOKcHHfqKkB0IH7QuK1gbDdix+oaqd2gM5hc/lRmLFjWqnPdeJyH/NxAztucQbxFfMmfPRZ8/sfMqRi/ZtuAZsNQHUMAAAAASUVORK5CYII=\" y=\"-7\"/>\n   <g id=\"matplotlib.axis_3\"/>\n   <g id=\"matplotlib.axis_4\">\n    <g id=\"ytick_3\">\n     <g id=\"line2d_5\"/>\n     <g id=\"text_11\">\n      <!-- 15 -->\n      <g style=\"fill:#262626;\" transform=\"translate(302.492656 215.981084)scale(0.126 -0.126)\">\n       <use xlink:href=\"#Helvetica-49\"/>\n       <use x=\"55.615234\" xlink:href=\"#Helvetica-53\"/>\n      </g>\n     </g>\n    </g>\n    <g id=\"ytick_4\">\n     <g id=\"line2d_6\"/>\n     <g id=\"text_12\">\n      <!-- 20 -->\n      <defs>\n       <path d=\"M 3.125 0 \nQ 3.609375 9.03125 6.859375 15.71875 \nQ 10.109375 22.40625 19.53125 27.875 \nL 28.90625 33.296875 \nQ 35.203125 36.96875 37.75 39.546875 \nQ 41.75 43.609375 41.75 48.828125 \nQ 41.75 54.9375 38.078125 58.515625 \nQ 34.421875 62.109375 28.328125 62.109375 \nQ 19.28125 62.109375 15.828125 55.28125 \nQ 13.96875 51.609375 13.765625 45.125 \nL 4.828125 45.125 \nQ 4.984375 54.25 8.203125 60.015625 \nQ 13.921875 70.171875 28.375 70.171875 \nQ 40.375 70.171875 45.921875 63.671875 \nQ 51.46875 57.171875 51.46875 49.21875 \nQ 51.46875 40.828125 45.5625 34.859375 \nQ 42.140625 31.390625 33.296875 26.46875 \nL 26.609375 22.75 \nQ 21.828125 20.125 19.09375 17.71875 \nQ 14.203125 13.484375 12.9375 8.296875 \nL 51.125 8.296875 \nL 51.125 0 \nL 3.125 0 \nz\n\" id=\"Helvetica-50\"/>\n      </defs>\n      <g style=\"fill:#262626;\" transform=\"translate(302.492656 183.035629)scale(0.126 -0.126)\">\n       <use xlink:href=\"#Helvetica-50\"/>\n       <use x=\"55.615234\" xlink:href=\"#Helvetica-48\"/>\n      </g>\n     </g>\n    </g>\n    <g id=\"ytick_5\">\n     <g id=\"line2d_7\"/>\n     <g id=\"text_13\">\n      <!-- 25 -->\n      <g style=\"fill:#262626;\" transform=\"translate(302.492656 150.090175)scale(0.126 -0.126)\">\n       <use xlink:href=\"#Helvetica-50\"/>\n       <use x=\"55.615234\" xlink:href=\"#Helvetica-53\"/>\n      </g>\n     </g>\n    </g>\n    <g id=\"ytick_6\">\n     <g id=\"line2d_8\"/>\n     <g id=\"text_14\">\n      <!-- 30 -->\n      <g style=\"fill:#262626;\" transform=\"translate(302.492656 117.14472)scale(0.126 -0.126)\">\n       <use xlink:href=\"#Helvetica-51\"/>\n       <use x=\"55.615234\" xlink:href=\"#Helvetica-48\"/>\n      </g>\n     </g>\n    </g>\n    <g id=\"ytick_7\">\n     <g id=\"line2d_9\"/>\n     <g id=\"text_15\">\n      <!-- 35 -->\n      <g style=\"fill:#262626;\" transform=\"translate(302.492656 84.199266)scale(0.126 -0.126)\">\n       <use xlink:href=\"#Helvetica-51\"/>\n       <use x=\"55.615234\" xlink:href=\"#Helvetica-53\"/>\n      </g>\n     </g>\n    </g>\n    <g id=\"ytick_8\">\n     <g id=\"line2d_10\"/>\n     <g id=\"text_16\">\n      <!-- 40 -->\n      <g style=\"fill:#262626;\" transform=\"translate(302.492656 51.253811)scale(0.126 -0.126)\">\n       <use xlink:href=\"#Helvetica-52\"/>\n       <use x=\"55.615234\" xlink:href=\"#Helvetica-48\"/>\n      </g>\n     </g>\n    </g>\n    <g id=\"ytick_9\">\n     <g id=\"line2d_11\"/>\n     <g id=\"text_17\">\n      <!-- 45 -->\n      <g style=\"fill:#262626;\" transform=\"translate(302.492656 18.308357)scale(0.126 -0.126)\">\n       <use xlink:href=\"#Helvetica-52\"/>\n       <use x=\"55.615234\" xlink:href=\"#Helvetica-53\"/>\n      </g>\n     </g>\n    </g>\n   </g>\n   <g id=\"patch_8\">\n    <path d=\"M 286.020656 224.64 \nL 286.020656 223.790625 \nL 286.020656 8.049375 \nL 286.020656 7.2 \nL 296.892656 7.2 \nL 296.892656 8.049375 \nL 296.892656 223.790625 \nL 296.892656 224.64 \nz\n\" style=\"fill:none;stroke:#cccccc;stroke-linejoin:miter;stroke-width:1.12;\"/>\n   </g>\n  </g>\n </g>\n <defs>\n  <clipPath id=\"p789b413d1b\">\n   <rect height=\"217.44\" width=\"217.44\" x=\"51.840656\" y=\"7.2\"/>\n  </clipPath>\n  <clipPath id=\"p628000e605\">\n   <rect height=\"217.44\" width=\"10.872\" x=\"286.020656\" y=\"7.2\"/>\n  </clipPath>\n </defs>\n</svg>\n",
      "image/png": "[encoded data removed]"
     },
     "metadata": {}
    }
   ],
   "metadata": {}
  },
  {
   "cell_type": "markdown",
   "source": [
    "# Optimize Precision/Recall Balance\n",
    "\n",
    "We want to be as accurate as possible to ensure profitability"
   ],
   "metadata": {}
  },
  {
   "cell_type": "markdown",
   "source": [
    "## Hyperparameter Optimization"
   ],
   "metadata": {}
  },
  {
   "cell_type": "code",
   "execution_count": 55,
   "source": [
    "def optimize_model(params, tuner, X, y):\n",
    "    \"\"\"\n",
    "    Optimize model\n",
    "    \"\"\"\n",
    "    # Run search for best parameters\n",
    "    clf = tuner\n",
    "    clf.fit(X, y)\n",
    "    \n",
    "    # add objective to best_params_\n",
    "    clf.best_params_['objective'] = 'reg:squarederror'\n",
    "\n",
    "    # Print best parameters\n",
    "    print(\"Best parameters: \", clf.best_params_)\n",
    "    print(\"Lowest RMSE: \", (-clf.best_score_) ** (1/2.0))\n",
    "\n",
    "    return clf"
   ],
   "outputs": [],
   "metadata": {}
  },
  {
   "cell_type": "code",
   "execution_count": 56,
   "source": [
    "# Optimiza parameters\n",
    "params = {\n",
    "    'max_depth': [3, 5, 6, 10, 15, 20],\n",
    "    'learning_rate': [0.01, 0.1, 0.2, 0.3],\n",
    "    'subsample': np.arange(0.5, 1.0, 0.1),\n",
    "    'colsample_bytree': np.arange(0.4, 1.0, 0.1),\n",
    "    'colsample_bylevel': np.arange(0.4, 1.0, 0.1),\n",
    "    'n_estimators': [100, 500, 1000]\n",
    "}\n",
    "\n",
    "tuner = RandomizedSearchCV(\n",
    "    estimator=gbm,\n",
    "    param_distributions=params,\n",
    "    scoring='neg_mean_squared_error',\n",
    "    n_iter=25,\n",
    "    verbose=1\n",
    ")\n",
    "\n",
    "best_params = optimize_model(params, tuner, X, y)"
   ],
   "outputs": [],
   "metadata": {}
  },
  {
   "cell_type": "code",
   "execution_count": 61,
   "source": [
    "# Re-run model with tuned parameters\n",
    "gbm_tuned = xgb.XGBClassifier(\n",
    "    subsample = 0.7999999999999999,\n",
    "    n_estimators = 1000,\n",
    "    max_depth = 3,\n",
    "    learning_rate = 0.1,\n",
    "    colsample_bytree = 0.7,\n",
    "    colsample_bylevel = 0.8999999999999999\n",
    ")\n",
    "\n",
    "gbm_tuned_scores = cross_val_score(gbm_tuned, X_scaled, y, cv=5)\n",
    "\n",
    "print(f\"XGBoost mean scores: {np.mean(gbm_scores):.4}\")"
   ],
   "outputs": [
    {
     "output_type": "stream",
     "name": "stdout",
     "text": [
      "XGBoost mean scores: 0.734\n"
     ]
    }
   ],
   "metadata": {}
  },
  {
   "cell_type": "code",
   "execution_count": 71,
   "source": [
    "# Confusion Matrix and Recall/Precision scores\n",
    "gbm_tuned.fit(X_scaled, y)\n",
    "prec_score = precision_score(y_test, gbm_tuned.predict(X_test_scaled), average='weighted')\n",
    "\n",
    "print(f\"Precision Score: {prec_score:.4f}\")"
   ],
   "outputs": [
    {
     "output_type": "stream",
     "name": "stdout",
     "text": [
      "Precision Score: 0.7615\n"
     ]
    }
   ],
   "metadata": {}
  },
  {
   "cell_type": "code",
   "execution_count": 72,
   "source": [
    "# Recall Score\n",
    "rec_score = recall_score(y_test, gbm_tuned.predict(X_test_scaled), average='weighted')\n",
    "\n",
    "print(f\"Recall Score: {rec_score:.4f}\")"
   ],
   "outputs": [
    {
     "output_type": "stream",
     "name": "stdout",
     "text": [
      "Recall Score: 0.7615\n"
     ]
    }
   ],
   "metadata": {}
  },
  {
   "cell_type": "code",
   "execution_count": null,
   "source": [
    "# Score went up a few pct points"
   ],
   "outputs": [],
   "metadata": {}
  },
  {
   "cell_type": "code",
   "execution_count": 73,
   "source": [
    "plot_confusion_matrix(gbm_tuned, X_test_scaled, y_test)\n",
    "plt.grid(b=None)"
   ],
   "outputs": [
    {
     "output_type": "display_data",
     "data": {
      "text/plain": [
       "<Figure size 432x288 with 2 Axes>"
      ],
      "image/svg+xml": "<?xml version=\"1.0\" encoding=\"utf-8\" standalone=\"no\"?>\n<!DOCTYPE svg PUBLIC \"-//W3C//DTD SVG 1.1//EN\"\n  \"http://www.w3.org/Graphics/SVG/1.1/DTD/svg11.dtd\">\n<!-- Created with matplotlib (https://matplotlib.org/) -->\n<svg height=\"266.436094pt\" version=\"1.1\" viewBox=\"0 0 323.706219 266.436094\" width=\"323.706219pt\" xmlns=\"http://www.w3.org/2000/svg\" xmlns:xlink=\"http://www.w3.org/1999/xlink\">\n <defs>\n  <style type=\"text/css\">\n*{stroke-linecap:butt;stroke-linejoin:round;}\n  </style>\n </defs>\n <g id=\"figure_1\">\n  <g id=\"patch_1\">\n   <path d=\"M 0 266.436094 \nL 323.706219 266.436094 \nL 323.706219 0 \nL 0 0 \nz\n\" style=\"fill:#ffffff;\"/>\n  </g>\n  <g id=\"axes_1\">\n   <g id=\"patch_2\">\n    <path d=\"M 51.840656 224.64 \nL 269.280656 224.64 \nL 269.280656 7.2 \nL 51.840656 7.2 \nz\n\" style=\"fill:#ffffff;\"/>\n   </g>\n   <g clip-path=\"url(#pd7ac13f97b)\">\n    <image height=\"218\" id=\"image03c4e46d6e\" transform=\"scale(1 -1)translate(0 -218)\" width=\"218\" x=\"51.840656\" xlink:href=\"data:image/png;base64,\niVBORw0KGgoAAAANSUhEUgAAANoAAADaCAYAAADAHVzbAAAABHNCSVQICAgIfAhkiAAAAppJREFUeJzt1TENwlAARVFKunZjQgUimmAAs50xgApsgIa/3B/COQrecvOWfXl8TvyU4/2aPYFB59kD4B8IDQJCg4DQICA0CAgNAkKDgNAgIDQICA0CQoOA0CAgNAgIDQJCg4DQICA0CAgNAkKDgNAgIDQICA0CQoOA0CAgNAgIDQJCg4DQICA0CAgNAkKDgNAgIDQICA0CQoOA0CAgNAgIDQJCg4DQICA0CAgNAkKDgNAgIDQICA0CQoOA0CAgNAgIDQJCg4DQICA0CAgNAkKDgNAgIDQICA0CQoOA0CAgNAgIDQJCg4DQICA0CAgNAkKDgNAgIDQICA0CQoOA0CAgNAgIDQJCg4DQICA0CAgNAkKDgNAgIDQICA0CQoOA0CAgNAgIDQJCg4DQICA0CAgNAkKDgNAgIDQICA0CQoOA0CAgNAgIDQJCg4DQICA0CAgNAkKDgNAgIDQICA0CQoOA0CCwbs/L7A0Mul9vsycwyKNBQGgQEBoEhAYBoUFAaBAQGgSEBgGhQUBoEBAaBIQGAaFBQGgQEBoEhAYBoUFAaBAQGgSEBgGhQUBoEBAaBIQGAaFBQGgQEBoEhAYBoUFAaBAQGgSEBgGhQUBoEBAaBIQGAaFBQGgQEBoEhAYBoUFAaBAQGgSEBgGhQUBoEBAaBIQGAaFBQGgQEBoEhAYBoUFAaBAQGgSEBgGhQUBoEBAaBIQGAaFBQGgQEBoEhAYBoUFAaBAQGgSEBgGhQUBoEBAaBIQGAaFBQGgQEBoEhAYBoUFAaBAQGgSEBgGhQUBoEBAaBIQGAaFBQGgQEBoEhAYBoUFAaBAQGgSEBgGhQUBoEBAaBIQGAaFBQGgQEBoEhAYBoUFAaBAQGgSEBgGhQUBoEBAaBIQGgS89AAcyoyvVSgAAAABJRU5ErkJggg==\" y=\"-6.64\"/>\n   </g>\n   <g id=\"matplotlib.axis_1\">\n    <g id=\"xtick_1\">\n     <g id=\"line2d_1\"/>\n     <g id=\"text_1\">\n      <!-- -1.0 -->\n      <defs>\n       <path d=\"M 4.15625 32.375 \nL 28.65625 32.375 \nL 28.65625 23.34375 \nL 4.15625 23.34375 \nz\n\" id=\"Helvetica-45\"/>\n       <path d=\"M 9.578125 49.515625 \nL 9.578125 56.25 \nQ 19.09375 57.171875 22.84375 59.34375 \nQ 26.609375 61.53125 28.46875 69.625 \nL 35.40625 69.625 \nL 35.40625 0 \nL 26.03125 0 \nL 26.03125 49.515625 \nz\n\" id=\"Helvetica-49\"/>\n       <path d=\"M 8.546875 10.640625 \nL 18.75 10.640625 \nL 18.75 0 \nL 8.546875 0 \nz\n\" id=\"Helvetica-46\"/>\n       <path d=\"M 27.046875 69.921875 \nQ 40.625 69.921875 46.6875 58.734375 \nQ 51.375 50.09375 51.375 35.0625 \nQ 51.375 20.796875 47.125 11.46875 \nQ 40.96875 -1.90625 27 -1.90625 \nQ 14.40625 -1.90625 8.25 9.03125 \nQ 3.125 18.171875 3.125 33.546875 \nQ 3.125 45.453125 6.203125 54 \nQ 11.96875 69.921875 27.046875 69.921875 \nz\nM 26.953125 6.109375 \nQ 33.796875 6.109375 37.84375 12.15625 \nQ 41.890625 18.21875 41.890625 34.71875 \nQ 41.890625 46.625 38.953125 54.3125 \nQ 36.03125 62.015625 27.59375 62.015625 \nQ 19.828125 62.015625 16.234375 54.703125 \nQ 12.640625 47.40625 12.640625 33.203125 \nQ 12.640625 22.515625 14.9375 16.015625 \nQ 18.453125 6.109375 26.953125 6.109375 \nz\n\" id=\"Helvetica-48\"/>\n      </defs>\n      <g style=\"fill:#262626;\" transform=\"translate(95.345953 239.278531)scale(0.126 -0.126)\">\n       <use xlink:href=\"#Helvetica-45\"/>\n       <use x=\"33.300781\" xlink:href=\"#Helvetica-49\"/>\n       <use x=\"88.916016\" xlink:href=\"#Helvetica-46\"/>\n       <use x=\"116.699219\" xlink:href=\"#Helvetica-48\"/>\n      </g>\n     </g>\n    </g>\n    <g id=\"xtick_2\">\n     <g id=\"line2d_2\"/>\n     <g id=\"text_2\">\n      <!-- 0.0 -->\n      <g style=\"fill:#262626;\" transform=\"translate(206.163656 239.278531)scale(0.126 -0.126)\">\n       <use xlink:href=\"#Helvetica-48\"/>\n       <use x=\"55.615234\" xlink:href=\"#Helvetica-46\"/>\n       <use x=\"83.398438\" xlink:href=\"#Helvetica-48\"/>\n      </g>\n     </g>\n    </g>\n    <g id=\"text_3\">\n     <!-- Predicted label -->\n     <defs>\n      <path d=\"M 8.546875 71.734375 \nL 40.828125 71.734375 \nQ 50.390625 71.734375 56.25 66.328125 \nQ 62.109375 60.9375 62.109375 51.171875 \nQ 62.109375 42.78125 56.875 36.546875 \nQ 51.65625 30.328125 40.828125 30.328125 \nL 18.265625 30.328125 \nL 18.265625 0 \nL 8.546875 0 \nz\nM 52.296875 51.125 \nQ 52.296875 59.03125 46.4375 61.859375 \nQ 43.21875 63.375 37.59375 63.375 \nL 18.265625 63.375 \nL 18.265625 38.53125 \nL 37.59375 38.53125 \nQ 44.140625 38.53125 48.21875 41.3125 \nQ 52.296875 44.09375 52.296875 51.125 \nz\n\" id=\"Helvetica-80\"/>\n      <path d=\"M 6.6875 52.296875 \nL 15.046875 52.296875 \nL 15.046875 43.265625 \nQ 16.0625 45.90625 20.0625 49.6875 \nQ 24.078125 53.46875 29.296875 53.46875 \nQ 29.546875 53.46875 30.125 53.421875 \nQ 30.71875 53.375 32.125 53.21875 \nL 32.125 43.953125 \nQ 31.34375 44.09375 30.6875 44.140625 \nQ 30.03125 44.1875 29.25 44.1875 \nQ 22.609375 44.1875 19.046875 39.90625 \nQ 15.484375 35.640625 15.484375 30.078125 \nL 15.484375 0 \nL 6.6875 0 \nz\n\" id=\"Helvetica-114\"/>\n      <path d=\"M 28.21875 53.46875 \nQ 33.796875 53.46875 39.015625 50.859375 \nQ 44.234375 48.25 46.96875 44.09375 \nQ 49.609375 40.140625 50.484375 34.859375 \nQ 51.265625 31.25 51.265625 23.34375 \nL 12.9375 23.34375 \nQ 13.1875 15.375 16.703125 10.5625 \nQ 20.21875 5.765625 27.59375 5.765625 \nQ 34.46875 5.765625 38.578125 10.296875 \nQ 40.921875 12.9375 41.890625 16.40625 \nL 50.53125 16.40625 \nQ 50.203125 13.53125 48.265625 9.984375 \nQ 46.34375 6.453125 43.953125 4.203125 \nQ 39.9375 0.296875 34.03125 -1.078125 \nQ 30.859375 -1.859375 26.859375 -1.859375 \nQ 17.09375 -1.859375 10.296875 5.25 \nQ 3.515625 12.359375 3.515625 25.140625 \nQ 3.515625 37.75 10.34375 45.609375 \nQ 17.1875 53.46875 28.21875 53.46875 \nz\nM 42.234375 30.328125 \nQ 41.703125 36.03125 39.75 39.453125 \nQ 36.140625 45.796875 27.6875 45.796875 \nQ 21.625 45.796875 17.515625 41.421875 \nQ 13.421875 37.0625 13.1875 30.328125 \nz\nM 27.390625 53.5625 \nz\n\" id=\"Helvetica-101\"/>\n      <path d=\"M 12.015625 25.53125 \nQ 12.015625 17.140625 15.578125 11.46875 \nQ 19.140625 5.8125 27 5.8125 \nQ 33.109375 5.8125 37.03125 11.0625 \nQ 40.96875 16.3125 40.96875 26.125 \nQ 40.96875 36.03125 36.90625 40.796875 \nQ 32.859375 45.5625 26.90625 45.5625 \nQ 20.265625 45.5625 16.140625 40.484375 \nQ 12.015625 35.40625 12.015625 25.53125 \nz\nM 25.25 53.21875 \nQ 31.25 53.21875 35.296875 50.6875 \nQ 37.640625 49.21875 40.625 45.5625 \nL 40.625 71.96875 \nL 49.078125 71.96875 \nL 49.078125 0 \nL 41.15625 0 \nL 41.15625 7.28125 \nQ 38.09375 2.4375 33.890625 0.28125 \nQ 29.6875 -1.859375 24.265625 -1.859375 \nQ 15.53125 -1.859375 9.125 5.484375 \nQ 2.734375 12.84375 2.734375 25.046875 \nQ 2.734375 36.46875 8.5625 44.84375 \nQ 14.40625 53.21875 25.25 53.21875 \nz\n\" id=\"Helvetica-100\"/>\n      <path d=\"M 6.453125 52.046875 \nL 15.375 52.046875 \nL 15.375 0 \nL 6.453125 0 \nz\nM 6.453125 71.734375 \nL 15.375 71.734375 \nL 15.375 61.765625 \nL 6.453125 61.765625 \nz\n\" id=\"Helvetica-105\"/>\n      <path d=\"M 26.609375 53.8125 \nQ 35.453125 53.8125 40.984375 49.515625 \nQ 46.53125 45.21875 47.65625 34.71875 \nL 39.109375 34.71875 \nQ 38.328125 39.546875 35.546875 42.75 \nQ 32.765625 45.953125 26.609375 45.953125 \nQ 18.21875 45.953125 14.59375 37.75 \nQ 12.25 32.421875 12.25 24.609375 \nQ 12.25 16.75 15.5625 11.375 \nQ 18.890625 6 26.03125 6 \nQ 31.5 6 34.6875 9.34375 \nQ 37.890625 12.703125 39.109375 18.5 \nL 47.65625 18.5 \nQ 46.1875 8.109375 40.328125 3.296875 \nQ 34.46875 -1.515625 25.34375 -1.515625 \nQ 15.09375 -1.515625 8.984375 5.984375 \nQ 2.875 13.484375 2.875 24.703125 \nQ 2.875 38.484375 9.5625 46.140625 \nQ 16.265625 53.8125 26.609375 53.8125 \nz\nM 25.25 53.5625 \nz\n\" id=\"Helvetica-99\"/>\n      <path d=\"M 8.203125 66.890625 \nL 17.09375 66.890625 \nL 17.09375 52.296875 \nL 25.4375 52.296875 \nL 25.4375 45.125 \nL 17.09375 45.125 \nL 17.09375 10.984375 \nQ 17.09375 8.25 18.953125 7.328125 \nQ 19.96875 6.78125 22.359375 6.78125 \nQ 23 6.78125 23.734375 6.8125 \nQ 24.46875 6.84375 25.4375 6.9375 \nL 25.4375 0 \nQ 23.921875 -0.4375 22.28125 -0.625 \nQ 20.65625 -0.828125 18.75 -0.828125 \nQ 12.59375 -0.828125 10.390625 2.3125 \nQ 8.203125 5.46875 8.203125 10.5 \nL 8.203125 45.125 \nL 1.125 45.125 \nL 1.125 52.296875 \nL 8.203125 52.296875 \nz\n\" id=\"Helvetica-116\"/>\n      <path id=\"Helvetica-32\"/>\n      <path d=\"M 6.6875 71.734375 \nL 15.484375 71.734375 \nL 15.484375 0 \nL 6.6875 0 \nz\n\" id=\"Helvetica-108\"/>\n      <path d=\"M 13.1875 13.921875 \nQ 13.1875 10.109375 15.96875 7.90625 \nQ 18.75 5.71875 22.5625 5.71875 \nQ 27.203125 5.71875 31.546875 7.859375 \nQ 38.875 11.421875 38.875 19.53125 \nL 38.875 26.609375 \nQ 37.25 25.59375 34.703125 24.90625 \nQ 32.171875 24.21875 29.734375 23.921875 \nL 24.421875 23.25 \nQ 19.625 22.609375 17.234375 21.234375 \nQ 13.1875 18.953125 13.1875 13.921875 \nz\nM 34.46875 31.6875 \nQ 37.5 32.078125 38.53125 34.234375 \nQ 39.109375 35.40625 39.109375 37.59375 \nQ 39.109375 42.09375 35.90625 44.109375 \nQ 32.71875 46.140625 26.765625 46.140625 \nQ 19.875 46.140625 17 42.4375 \nQ 15.375 40.375 14.890625 36.328125 \nL 6.6875 36.328125 \nQ 6.9375 46 12.96875 49.78125 \nQ 19 53.5625 26.953125 53.5625 \nQ 36.1875 53.5625 41.9375 50.046875 \nQ 47.65625 46.53125 47.65625 39.109375 \nL 47.65625 8.984375 \nQ 47.65625 7.625 48.21875 6.78125 \nQ 48.78125 5.953125 50.59375 5.953125 \nQ 51.171875 5.953125 51.90625 6.03125 \nQ 52.640625 6.109375 53.46875 6.25 \nL 53.46875 -0.25 \nQ 51.421875 -0.828125 50.34375 -0.96875 \nQ 49.265625 -1.125 47.40625 -1.125 \nQ 42.875 -1.125 40.828125 2.09375 \nQ 39.75 3.8125 39.3125 6.9375 \nQ 36.625 3.421875 31.59375 0.828125 \nQ 26.5625 -1.765625 20.515625 -1.765625 \nQ 13.234375 -1.765625 8.609375 2.65625 \nQ 4 7.078125 4 13.71875 \nQ 4 21 8.546875 25 \nQ 13.09375 29 20.453125 29.9375 \nz\nM 27.203125 53.5625 \nz\n\" id=\"Helvetica-97\"/>\n      <path d=\"M 5.765625 71.96875 \nL 14.3125 71.96875 \nL 14.3125 45.953125 \nQ 17.1875 49.703125 21.1875 51.671875 \nQ 25.203125 53.65625 29.890625 53.65625 \nQ 39.65625 53.65625 45.734375 46.9375 \nQ 51.8125 40.234375 51.8125 27.15625 \nQ 51.8125 14.75 45.796875 6.546875 \nQ 39.796875 -1.65625 29.15625 -1.65625 \nQ 23.1875 -1.65625 19.09375 1.21875 \nQ 16.65625 2.9375 13.875 6.6875 \nL 13.875 0 \nL 5.765625 0 \nz\nM 28.609375 6.109375 \nQ 35.75 6.109375 39.28125 11.765625 \nQ 42.828125 17.4375 42.828125 26.703125 \nQ 42.828125 34.96875 39.28125 40.375 \nQ 35.75 45.796875 28.859375 45.796875 \nQ 22.859375 45.796875 18.328125 41.359375 \nQ 13.8125 36.921875 13.8125 26.703125 \nQ 13.8125 19.34375 15.671875 14.75 \nQ 19.140625 6.109375 28.609375 6.109375 \nz\n\" id=\"Helvetica-98\"/>\n     </defs>\n     <g style=\"fill:#262626;\" transform=\"translate(112.933781 256.234594)scale(0.144 -0.144)\">\n      <use xlink:href=\"#Helvetica-80\"/>\n      <use x=\"66.699219\" xlink:href=\"#Helvetica-114\"/>\n      <use x=\"100\" xlink:href=\"#Helvetica-101\"/>\n      <use x=\"155.615234\" xlink:href=\"#Helvetica-100\"/>\n      <use x=\"211.230469\" xlink:href=\"#Helvetica-105\"/>\n      <use x=\"233.447266\" xlink:href=\"#Helvetica-99\"/>\n      <use x=\"283.447266\" xlink:href=\"#Helvetica-116\"/>\n      <use x=\"311.230469\" xlink:href=\"#Helvetica-101\"/>\n      <use x=\"366.845703\" xlink:href=\"#Helvetica-100\"/>\n      <use x=\"422.460938\" xlink:href=\"#Helvetica-32\"/>\n      <use x=\"450.244141\" xlink:href=\"#Helvetica-108\"/>\n      <use x=\"472.460938\" xlink:href=\"#Helvetica-97\"/>\n      <use x=\"528.076172\" xlink:href=\"#Helvetica-98\"/>\n      <use x=\"583.691406\" xlink:href=\"#Helvetica-101\"/>\n      <use x=\"639.306641\" xlink:href=\"#Helvetica-108\"/>\n     </g>\n    </g>\n   </g>\n   <g id=\"matplotlib.axis_2\">\n    <g id=\"ytick_1\">\n     <g id=\"line2d_3\"/>\n     <g id=\"text_4\">\n      <!-- -1.0 -->\n      <g style=\"fill:#262626;\" transform=\"translate(24.53125 66.079266)scale(0.126 -0.126)\">\n       <use xlink:href=\"#Helvetica-45\"/>\n       <use x=\"33.300781\" xlink:href=\"#Helvetica-49\"/>\n       <use x=\"88.916016\" xlink:href=\"#Helvetica-46\"/>\n       <use x=\"116.699219\" xlink:href=\"#Helvetica-48\"/>\n      </g>\n     </g>\n    </g>\n    <g id=\"ytick_2\">\n     <g id=\"line2d_4\"/>\n     <g id=\"text_5\">\n      <!-- 0.0 -->\n      <g style=\"fill:#262626;\" transform=\"translate(28.726656 174.799266)scale(0.126 -0.126)\">\n       <use xlink:href=\"#Helvetica-48\"/>\n       <use x=\"55.615234\" xlink:href=\"#Helvetica-46\"/>\n       <use x=\"83.398438\" xlink:href=\"#Helvetica-48\"/>\n      </g>\n     </g>\n    </g>\n    <g id=\"text_6\">\n     <!-- True label -->\n     <defs>\n      <path d=\"M 59.8125 71.734375 \nL 59.8125 63.1875 \nL 35.640625 63.1875 \nL 35.640625 0 \nL 25.78125 0 \nL 25.78125 63.1875 \nL 1.609375 63.1875 \nL 1.609375 71.734375 \nz\n\" id=\"Helvetica-84\"/>\n      <path d=\"M 15.234375 52.296875 \nL 15.234375 17.578125 \nQ 15.234375 13.578125 16.5 11.03125 \nQ 18.84375 6.34375 25.25 6.34375 \nQ 34.421875 6.34375 37.75 14.546875 \nQ 39.546875 18.953125 39.546875 26.609375 \nL 39.546875 52.296875 \nL 48.34375 52.296875 \nL 48.34375 0 \nL 40.046875 0 \nL 40.140625 7.71875 \nQ 38.421875 4.734375 35.890625 2.6875 \nQ 30.859375 -1.421875 23.6875 -1.421875 \nQ 12.5 -1.421875 8.453125 6.0625 \nQ 6.25 10.0625 6.25 16.75 \nL 6.25 52.296875 \nz\nM 27.296875 53.5625 \nz\n\" id=\"Helvetica-117\"/>\n     </defs>\n     <g style=\"fill:#262626;\" transform=\"translate(17.52975 147.934125)rotate(-90)scale(0.144 -0.144)\">\n      <use xlink:href=\"#Helvetica-84\"/>\n      <use x=\"61.083984\" xlink:href=\"#Helvetica-114\"/>\n      <use x=\"94.384766\" xlink:href=\"#Helvetica-117\"/>\n      <use x=\"150\" xlink:href=\"#Helvetica-101\"/>\n      <use x=\"205.615234\" xlink:href=\"#Helvetica-32\"/>\n      <use x=\"233.398438\" xlink:href=\"#Helvetica-108\"/>\n      <use x=\"255.615234\" xlink:href=\"#Helvetica-97\"/>\n      <use x=\"311.230469\" xlink:href=\"#Helvetica-98\"/>\n      <use x=\"366.845703\" xlink:href=\"#Helvetica-101\"/>\n      <use x=\"422.460938\" xlink:href=\"#Helvetica-108\"/>\n     </g>\n    </g>\n   </g>\n   <g id=\"patch_3\">\n    <path d=\"M 51.840656 224.64 \nL 51.840656 7.2 \n\" style=\"fill:none;stroke:#cccccc;stroke-linecap:square;stroke-linejoin:miter;stroke-width:1.12;\"/>\n   </g>\n   <g id=\"patch_4\">\n    <path d=\"M 269.280656 224.64 \nL 269.280656 7.2 \n\" style=\"fill:none;stroke:#cccccc;stroke-linecap:square;stroke-linejoin:miter;stroke-width:1.12;\"/>\n   </g>\n   <g id=\"patch_5\">\n    <path d=\"M 51.840656 224.64 \nL 269.280656 224.64 \n\" style=\"fill:none;stroke:#cccccc;stroke-linecap:square;stroke-linejoin:miter;stroke-width:1.12;\"/>\n   </g>\n   <g id=\"patch_6\">\n    <path d=\"M 51.840656 7.2 \nL 269.280656 7.2 \n\" style=\"fill:none;stroke:#cccccc;stroke-linecap:square;stroke-linejoin:miter;stroke-width:1.12;\"/>\n   </g>\n   <g id=\"text_7\">\n    <!-- 37 -->\n    <defs>\n     <path d=\"M 25.984375 -1.90625 \nQ 13.578125 -1.90625 7.984375 4.90625 \nQ 2.390625 11.71875 2.390625 21.484375 \nL 11.578125 21.484375 \nQ 12.15625 14.703125 14.109375 11.625 \nQ 17.53125 6.109375 26.46875 6.109375 \nQ 33.40625 6.109375 37.59375 9.8125 \nQ 41.796875 13.53125 41.796875 19.390625 \nQ 41.796875 26.609375 37.375 29.484375 \nQ 32.953125 32.375 25.09375 32.375 \nQ 24.21875 32.375 23.3125 32.34375 \nQ 22.40625 32.328125 21.484375 32.28125 \nL 21.484375 40.046875 \nQ 22.859375 39.890625 23.78125 39.84375 \nQ 24.703125 39.796875 25.78125 39.796875 \nQ 30.71875 39.796875 33.890625 41.359375 \nQ 39.453125 44.09375 39.453125 51.125 \nQ 39.453125 56.34375 35.734375 59.171875 \nQ 32.03125 62.015625 27.09375 62.015625 \nQ 18.3125 62.015625 14.9375 56.15625 \nQ 13.09375 52.9375 12.84375 46.96875 \nL 4.15625 46.96875 \nQ 4.15625 54.78125 7.28125 60.25 \nQ 12.640625 70.015625 26.171875 70.015625 \nQ 36.859375 70.015625 42.71875 65.25 \nQ 48.578125 60.5 48.578125 51.46875 \nQ 48.578125 45.015625 45.125 41.015625 \nQ 42.96875 38.53125 39.546875 37.109375 \nQ 45.0625 35.59375 48.15625 31.265625 \nQ 51.265625 26.953125 51.265625 20.703125 \nQ 51.265625 10.6875 44.671875 4.390625 \nQ 38.09375 -1.90625 25.984375 -1.90625 \nz\n\" id=\"Helvetica-51\"/>\n     <path d=\"M 52.296875 68.75 \nL 52.296875 61.078125 \nQ 48.921875 57.8125 43.328125 49.703125 \nQ 37.75 41.609375 33.453125 32.234375 \nQ 29.203125 23.09375 27 15.578125 \nQ 25.59375 10.75 23.34375 0 \nL 13.625 0 \nQ 16.9375 20.015625 28.265625 39.84375 \nQ 34.96875 51.46875 42.328125 59.90625 \nL 3.65625 59.90625 \nL 3.65625 68.75 \nz\n\" id=\"Helvetica-55\"/>\n    </defs>\n    <g style=\"fill:#440154;\" transform=\"translate(100.639719 64.104531)scale(0.1 -0.1)\">\n     <use xlink:href=\"#Helvetica-51\"/>\n     <use x=\"55.615234\" xlink:href=\"#Helvetica-55\"/>\n    </g>\n   </g>\n   <g id=\"text_8\">\n    <!-- 13 -->\n    <g style=\"fill:#fde725;\" transform=\"translate(209.359719 64.104531)scale(0.1 -0.1)\">\n     <use xlink:href=\"#Helvetica-49\"/>\n     <use x=\"55.615234\" xlink:href=\"#Helvetica-51\"/>\n    </g>\n   </g>\n   <g id=\"text_9\">\n    <!-- 13 -->\n    <g style=\"fill:#fde725;\" transform=\"translate(100.639719 172.824531)scale(0.1 -0.1)\">\n     <use xlink:href=\"#Helvetica-49\"/>\n     <use x=\"55.615234\" xlink:href=\"#Helvetica-51\"/>\n    </g>\n   </g>\n   <g id=\"text_10\">\n    <!-- 46 -->\n    <defs>\n     <path d=\"M 33.0625 24.75 \nL 33.0625 56.453125 \nL 10.640625 24.75 \nz\nM 33.203125 0 \nL 33.203125 17.09375 \nL 2.546875 17.09375 \nL 2.546875 25.6875 \nL 34.578125 70.125 \nL 42 70.125 \nL 42 24.75 \nL 52.296875 24.75 \nL 52.296875 17.09375 \nL 42 17.09375 \nL 42 0 \nz\n\" id=\"Helvetica-52\"/>\n     <path d=\"M 29.25 70.21875 \nQ 40.96875 70.21875 45.578125 64.140625 \nQ 50.203125 58.0625 50.203125 51.609375 \nL 41.5 51.609375 \nQ 40.71875 55.765625 39.015625 58.109375 \nQ 35.84375 62.5 29.390625 62.5 \nQ 22.015625 62.5 17.671875 55.6875 \nQ 13.328125 48.875 12.84375 36.1875 \nQ 15.875 40.625 20.453125 42.828125 \nQ 24.65625 44.78125 29.828125 44.78125 \nQ 38.625 44.78125 45.15625 39.15625 \nQ 51.703125 33.546875 51.703125 22.40625 \nQ 51.703125 12.890625 45.5 5.53125 \nQ 39.3125 -1.8125 27.828125 -1.8125 \nQ 18.015625 -1.8125 10.890625 5.640625 \nQ 3.765625 13.09375 3.765625 30.71875 \nQ 3.765625 43.75 6.9375 52.828125 \nQ 13.03125 70.21875 29.25 70.21875 \nz\nM 28.609375 6 \nQ 35.546875 6 38.984375 10.65625 \nQ 42.4375 15.328125 42.4375 21.6875 \nQ 42.4375 27.046875 39.359375 31.90625 \nQ 36.28125 36.765625 28.171875 36.765625 \nQ 22.515625 36.765625 18.234375 33 \nQ 13.96875 29.25 13.96875 21.6875 \nQ 13.96875 15.046875 17.84375 10.515625 \nQ 21.734375 6 28.609375 6 \nz\n\" id=\"Helvetica-54\"/>\n    </defs>\n    <g style=\"fill:#440154;\" transform=\"translate(209.359719 172.824531)scale(0.1 -0.1)\">\n     <use xlink:href=\"#Helvetica-52\"/>\n     <use x=\"55.615234\" xlink:href=\"#Helvetica-54\"/>\n    </g>\n   </g>\n  </g>\n  <g id=\"axes_2\">\n   <g id=\"patch_7\">\n    <path clip-path=\"url(#pe05cea2d79)\" d=\"M 286.020656 224.64 \nL 286.020656 223.790625 \nL 286.020656 8.049375 \nL 286.020656 7.2 \nL 296.892656 7.2 \nL 296.892656 8.049375 \nL 296.892656 223.790625 \nL 296.892656 224.64 \nz\n\" style=\"fill:#ffffff;stroke:#ffffff;stroke-linejoin:miter;stroke-width:0.01;\"/>\n   </g>\n   <image height=\"217\" id=\"imageddd318925e\" transform=\"scale(1 -1)translate(0 -217)\" width=\"11\" x=\"286\" xlink:href=\"data:image/png;base64,\niVBORw0KGgoAAAANSUhEUgAAAAsAAADZCAYAAAD2WsoCAAAABHNCSVQICAgIfAhkiAAAAVpJREFUaIHt2jmOA0EMQ9Ha2ifzGeb+F7F74sn0AgKyMY4JgvxSVXubz/Vzj+LrzDWr2nHGXHWxOe8tMcB5LshMzoOct6ATzsMmGBMTjeBQcjRiQ/lAGjfF2C1W1DLXZ6Ix7KTEYhjnWAzZjTsWgwoSOiqIMUCMu0HOIP6n8cdZ7udkjJxzj4I9nIOcg3cdiOlp1WQo30+jruUHvcToQeP7x90EHdAAaaOCPW7+Mevn+yPfQvSggStqNCBzEh2JhXMPGvAWSWNQwZEr2MIZvidDzhYjWFDE9RRcMEVjifNa7w4xiMaSM0iZt9AIFozRyBUMiqUgOZ8cjVjmNVOZjzmDeAfRQYwrVpA4I41UjGu+6uJNNOhGym2dxCAaGCO2SOKcHHfqKkB0IH7QuK1gbDdix+oaqd2gM5hc/lRmLFjWqnPdeJyH/NxAztucQbxFfMmfPRZ8/sfMqRi/ZtuAZsNQHUMAAAAASUVORK5CYII=\" y=\"-7\"/>\n   <g id=\"matplotlib.axis_3\"/>\n   <g id=\"matplotlib.axis_4\">\n    <g id=\"ytick_3\">\n     <g id=\"line2d_5\"/>\n     <g id=\"text_11\">\n      <!-- 15 -->\n      <defs>\n       <path d=\"M 12.359375 17.828125 \nQ 13.234375 10.296875 19.34375 7.421875 \nQ 22.46875 5.953125 26.5625 5.953125 \nQ 34.375 5.953125 38.125 10.9375 \nQ 41.890625 15.921875 41.890625 21.96875 \nQ 41.890625 29.296875 37.421875 33.296875 \nQ 32.953125 37.3125 26.703125 37.3125 \nQ 22.171875 37.3125 18.921875 35.546875 \nQ 15.671875 33.796875 13.375 30.671875 \nL 5.765625 31.109375 \nL 11.078125 68.75 \nL 47.40625 68.75 \nL 47.40625 60.25 \nL 17.671875 60.25 \nL 14.703125 40.828125 \nQ 17.140625 42.671875 19.34375 43.609375 \nQ 23.25 45.21875 28.375 45.21875 \nQ 37.984375 45.21875 44.671875 39.015625 \nQ 51.375 32.8125 51.375 23.296875 \nQ 51.375 13.375 45.234375 5.796875 \nQ 39.109375 -1.765625 25.6875 -1.765625 \nQ 17.140625 -1.765625 10.5625 3.046875 \nQ 4 7.859375 3.21875 17.828125 \nz\n\" id=\"Helvetica-53\"/>\n      </defs>\n      <g style=\"fill:#262626;\" transform=\"translate(302.492656 215.981084)scale(0.126 -0.126)\">\n       <use xlink:href=\"#Helvetica-49\"/>\n       <use x=\"55.615234\" xlink:href=\"#Helvetica-53\"/>\n      </g>\n     </g>\n    </g>\n    <g id=\"ytick_4\">\n     <g id=\"line2d_6\"/>\n     <g id=\"text_12\">\n      <!-- 20 -->\n      <defs>\n       <path d=\"M 3.125 0 \nQ 3.609375 9.03125 6.859375 15.71875 \nQ 10.109375 22.40625 19.53125 27.875 \nL 28.90625 33.296875 \nQ 35.203125 36.96875 37.75 39.546875 \nQ 41.75 43.609375 41.75 48.828125 \nQ 41.75 54.9375 38.078125 58.515625 \nQ 34.421875 62.109375 28.328125 62.109375 \nQ 19.28125 62.109375 15.828125 55.28125 \nQ 13.96875 51.609375 13.765625 45.125 \nL 4.828125 45.125 \nQ 4.984375 54.25 8.203125 60.015625 \nQ 13.921875 70.171875 28.375 70.171875 \nQ 40.375 70.171875 45.921875 63.671875 \nQ 51.46875 57.171875 51.46875 49.21875 \nQ 51.46875 40.828125 45.5625 34.859375 \nQ 42.140625 31.390625 33.296875 26.46875 \nL 26.609375 22.75 \nQ 21.828125 20.125 19.09375 17.71875 \nQ 14.203125 13.484375 12.9375 8.296875 \nL 51.125 8.296875 \nL 51.125 0 \nL 3.125 0 \nz\n\" id=\"Helvetica-50\"/>\n      </defs>\n      <g style=\"fill:#262626;\" transform=\"translate(302.492656 183.035629)scale(0.126 -0.126)\">\n       <use xlink:href=\"#Helvetica-50\"/>\n       <use x=\"55.615234\" xlink:href=\"#Helvetica-48\"/>\n      </g>\n     </g>\n    </g>\n    <g id=\"ytick_5\">\n     <g id=\"line2d_7\"/>\n     <g id=\"text_13\">\n      <!-- 25 -->\n      <g style=\"fill:#262626;\" transform=\"translate(302.492656 150.090175)scale(0.126 -0.126)\">\n       <use xlink:href=\"#Helvetica-50\"/>\n       <use x=\"55.615234\" xlink:href=\"#Helvetica-53\"/>\n      </g>\n     </g>\n    </g>\n    <g id=\"ytick_6\">\n     <g id=\"line2d_8\"/>\n     <g id=\"text_14\">\n      <!-- 30 -->\n      <g style=\"fill:#262626;\" transform=\"translate(302.492656 117.14472)scale(0.126 -0.126)\">\n       <use xlink:href=\"#Helvetica-51\"/>\n       <use x=\"55.615234\" xlink:href=\"#Helvetica-48\"/>\n      </g>\n     </g>\n    </g>\n    <g id=\"ytick_7\">\n     <g id=\"line2d_9\"/>\n     <g id=\"text_15\">\n      <!-- 35 -->\n      <g style=\"fill:#262626;\" transform=\"translate(302.492656 84.199266)scale(0.126 -0.126)\">\n       <use xlink:href=\"#Helvetica-51\"/>\n       <use x=\"55.615234\" xlink:href=\"#Helvetica-53\"/>\n      </g>\n     </g>\n    </g>\n    <g id=\"ytick_8\">\n     <g id=\"line2d_10\"/>\n     <g id=\"text_16\">\n      <!-- 40 -->\n      <g style=\"fill:#262626;\" transform=\"translate(302.492656 51.253811)scale(0.126 -0.126)\">\n       <use xlink:href=\"#Helvetica-52\"/>\n       <use x=\"55.615234\" xlink:href=\"#Helvetica-48\"/>\n      </g>\n     </g>\n    </g>\n    <g id=\"ytick_9\">\n     <g id=\"line2d_11\"/>\n     <g id=\"text_17\">\n      <!-- 45 -->\n      <g style=\"fill:#262626;\" transform=\"translate(302.492656 18.308357)scale(0.126 -0.126)\">\n       <use xlink:href=\"#Helvetica-52\"/>\n       <use x=\"55.615234\" xlink:href=\"#Helvetica-53\"/>\n      </g>\n     </g>\n    </g>\n   </g>\n   <g id=\"patch_8\">\n    <path d=\"M 286.020656 224.64 \nL 286.020656 223.790625 \nL 286.020656 8.049375 \nL 286.020656 7.2 \nL 296.892656 7.2 \nL 296.892656 8.049375 \nL 296.892656 223.790625 \nL 296.892656 224.64 \nz\n\" style=\"fill:none;stroke:#cccccc;stroke-linejoin:miter;stroke-width:1.12;\"/>\n   </g>\n  </g>\n </g>\n <defs>\n  <clipPath id=\"pd7ac13f97b\">\n   <rect height=\"217.44\" width=\"217.44\" x=\"51.840656\" y=\"7.2\"/>\n  </clipPath>\n  <clipPath id=\"pe05cea2d79\">\n   <rect height=\"217.44\" width=\"10.872\" x=\"286.020656\" y=\"7.2\"/>\n  </clipPath>\n </defs>\n</svg>\n",
      "image/png": "[encoded data removed]"
     },
     "metadata": {}
    }
   ],
   "metadata": {}
  },
  {
   "cell_type": "markdown",
   "source": [
    "## Class Imbalance"
   ],
   "metadata": {}
  },
  {
   "cell_type": "code",
   "execution_count": 68,
   "source": [
    "# Let's try to fix this imbalance to increase accuracy\n",
    "# Almost 50% of the data are 1s or -1s, with minimal 0s\n",
    "y.value_counts()"
   ],
   "outputs": [
    {
     "output_type": "execute_result",
     "data": {
      "text/plain": [
       " 1.0    220\n",
       "-1.0    215\n",
       " 0.0      1\n",
       "Name: 5d-direction, dtype: int64"
      ]
     },
     "metadata": {},
     "execution_count": 68
    }
   ],
   "metadata": {}
  },
  {
   "cell_type": "code",
   "execution_count": 69,
   "source": [
    "from imblearn.under_sampling import RandomUnderSampler\n",
    "from imblearn.over_sampling import RandomOverSampler\n",
    "\n",
    "def over_under_sample(X_train, y_train, Under=True, Over=True):\n",
    "    \"\"\"\n",
    "    Input: training features and target\n",
    "    Output: under/oversampled datasets\n",
    "    \"\"\"\n",
    "    rus = RandomUnderSampler(random_state=42)\n",
    "    ros = RandomOverSampler(random_state=42)\n",
    "\n",
    "    if Under and Over:\n",
    "        X_train_under, y_train_under = rus.fit_sample(X_train, y_train)\n",
    "        X_train_over, y_train_over = ros.fit_sample(X_train, y_train)\n",
    "\n",
    "        return X_train_under, y_train_under, X_train_over, y_train_over\n",
    "\n",
    "    elif Under:\n",
    "        X_train_under, y_train_under = rus.fit_sample(X_train, y_train)\n",
    "\n",
    "        return X_train_under, y_train_under\n",
    "    else:\n",
    "        X_train_over, y_train_over = ros.fit_sample(X_train, y_train)\n",
    "\n",
    "        return X_train_over, y_train_over"
   ],
   "outputs": [],
   "metadata": {}
  },
  {
   "cell_type": "code",
   "execution_count": 70,
   "source": [
    "X_scaled_over, y_over = over_under_sample(X_scaled, y, Under=False, Over=True)"
   ],
   "outputs": [],
   "metadata": {}
  },
  {
   "cell_type": "code",
   "execution_count": 74,
   "source": [
    "gbm_tuned_scores_over = cross_val_score(gbm_tuned, X_scaled_over, y_over, cv=5)\n",
    "\n",
    "print(f\"XGBoost mean scores: {np.mean(gbm_tuned_scores_over):.4}\")"
   ],
   "outputs": [
    {
     "output_type": "stream",
     "name": "stdout",
     "text": [
      "XGBoost mean scores: 0.847\n"
     ]
    }
   ],
   "metadata": {}
  },
  {
   "cell_type": "code",
   "execution_count": 77,
   "source": [
    "gbm_tuned_over = xgb.XGBClassifier(\n",
    "    subsample = 0.7999999999999999,\n",
    "    n_estimators = 1000,\n",
    "    max_depth = 3,\n",
    "    learning_rate = 0.1,\n",
    "    colsample_bytree = 0.7,\n",
    "    colsample_bylevel = 0.8999999999999999\n",
    ")"
   ],
   "outputs": [],
   "metadata": {}
  },
  {
   "cell_type": "code",
   "execution_count": 78,
   "source": [
    "# Confusion Matrix and Recall/Precision scores\n",
    "gbm_tuned_over.fit(X_scaled_over, y_over)\n",
    "prec_score = precision_score(y_test, gbm_tuned_over.predict(X_test_scaled), average='weighted')\n",
    "\n",
    "print(f\"Precision Score: {prec_score:.4f}\")"
   ],
   "outputs": [
    {
     "output_type": "stream",
     "name": "stdout",
     "text": [
      "Precision Score: 0.7986\n"
     ]
    }
   ],
   "metadata": {}
  },
  {
   "cell_type": "code",
   "execution_count": 79,
   "source": [
    "# Recall Score\n",
    "rec_score = recall_score(y_test, gbm_tuned_over.predict(X_test_scaled), average='weighted')\n",
    "\n",
    "print(f\"Recall Score: {rec_score:.4f}\")"
   ],
   "outputs": [
    {
     "output_type": "stream",
     "name": "stdout",
     "text": [
      "Recall Score: 0.7982\n"
     ]
    }
   ],
   "metadata": {}
  },
  {
   "cell_type": "code",
   "execution_count": null,
   "source": [
    "# Scores went up another 3 points!"
   ],
   "outputs": [],
   "metadata": {}
  },
  {
   "cell_type": "code",
   "execution_count": 80,
   "source": [
    "plot_confusion_matrix(gbm_tuned_over, X_test_scaled, y_test)\n",
    "plt.grid(b=None)"
   ],
   "outputs": [
    {
     "output_type": "display_data",
     "data": {
      "text/plain": [
       "<Figure size 432x288 with 2 Axes>"
      ],
      "image/svg+xml": "<?xml version=\"1.0\" encoding=\"utf-8\" standalone=\"no\"?>\n<!DOCTYPE svg PUBLIC \"-//W3C//DTD SVG 1.1//EN\"\n  \"http://www.w3.org/Graphics/SVG/1.1/DTD/svg11.dtd\">\n<!-- Created with matplotlib (https://matplotlib.org/) -->\n<svg height=\"270.955359pt\" version=\"1.1\" viewBox=\"0 0 323.706219 270.955359\" width=\"323.706219pt\" xmlns=\"http://www.w3.org/2000/svg\" xmlns:xlink=\"http://www.w3.org/1999/xlink\">\n <defs>\n  <style type=\"text/css\">\n*{stroke-linecap:butt;stroke-linejoin:round;}\n  </style>\n </defs>\n <g id=\"figure_1\">\n  <g id=\"patch_1\">\n   <path d=\"M 0 270.955359 \nL 323.706219 270.955359 \nL 323.706219 0 \nL 0 0 \nz\n\" style=\"fill:#ffffff;\"/>\n  </g>\n  <g id=\"axes_1\">\n   <g id=\"patch_2\">\n    <path d=\"M 51.840656 229.159266 \nL 269.280656 229.159266 \nL 269.280656 11.719266 \nL 51.840656 11.719266 \nz\n\" style=\"fill:#ffffff;\"/>\n   </g>\n   <g clip-path=\"url(#pc2e9de7004)\">\n    <image height=\"218\" id=\"image5ba213e4f9\" transform=\"scale(1 -1)translate(0 -218)\" width=\"218\" x=\"51.840656\" xlink:href=\"data:image/png;base64,\niVBORw0KGgoAAAANSUhEUgAAANoAAADaCAYAAADAHVzbAAAABHNCSVQICAgIfAhkiAAAAphJREFUeJzt1bENwkAABEHbog+LOkjJSGnWXbgKWiCEGj7ZF2KmgktWt97X52fhpxyvc/YEBm2zB8A/EBoEhAYBoUFAaBAQGgSEBgGhQUBoEBAaBIQGAaFBQGgQEBoEhAYBoUFAaBAQGgSEBgGhQUBoEBAaBIQGAaFBQGgQEBoEhAYBoUFAaBAQGgSEBgGhQUBoEBAaBIQGAaFBQGgQEBoEhAYBoUFAaBAQGgSEBgGhQUBoEBAaBIQGAaFBQGgQEBoEhAYBoUFAaBAQGgSEBgGhQUBoEBAaBIQGAaFBQGgQEBoEhAYBoUFAaBAQGgSEBgGhQUBoEBAaBIQGAaFBQGgQEBoEhAYBoUFAaBAQGgSEBgGhQUBoEBAaBIQGAaFBQGgQEBoEhAYBoUFAaBAQGgSEBgGhQUBoEBAaBIQGAaFBQGgQEBoEhAYBoUFAaBAQGgSEBgGhQUBoEBAaBIQGAaFB4PI+rrM3MOhx22dPYJBHg4DQICA0CAgNAkKDgNAgIDQICA0CQoOA0CAgNAgIDQJCg4DQICA0CAgNAkKDgNAgIDQICA0CQoOA0CAgNAgIDQJCg4DQICA0CAgNAkKDgNAgIDQICA0CQoOA0CAgNAgIDQJCg4DQICA0CAgNAkKDgNAgIDQICA0CQoOA0CAgNAgIDQJCg4DQICA0CAgNAkKDgNAgIDQICA0CQoOA0CAgNAgIDQJCg4DQICA0CAgNAkKDgNAgIDQICA0CQoOA0CAgNAgIDQJCg4DQICA0CAgNAkKDgNAgIDQICA0CQoOA0CAgNAgIDQJCg4DQICA0CAgNAkKDgNAgIDQICA0CQoOA0CAgNAgIDQJCg4DQICA0CAgNAkKDgNAgIDQICA0CQoOA0CAgNAgIDQJfWHAIM/cpWtUAAAAASUVORK5CYII=\" y=\"-11.159266\"/>\n   </g>\n   <g id=\"matplotlib.axis_1\">\n    <g id=\"xtick_1\">\n     <g id=\"line2d_1\"/>\n     <g id=\"text_1\">\n      <!-- -1.0 -->\n      <defs>\n       <path d=\"M 4.15625 32.375 \nL 28.65625 32.375 \nL 28.65625 23.34375 \nL 4.15625 23.34375 \nz\n\" id=\"Helvetica-45\"/>\n       <path d=\"M 9.578125 49.515625 \nL 9.578125 56.25 \nQ 19.09375 57.171875 22.84375 59.34375 \nQ 26.609375 61.53125 28.46875 69.625 \nL 35.40625 69.625 \nL 35.40625 0 \nL 26.03125 0 \nL 26.03125 49.515625 \nz\n\" id=\"Helvetica-49\"/>\n       <path d=\"M 8.546875 10.640625 \nL 18.75 10.640625 \nL 18.75 0 \nL 8.546875 0 \nz\n\" id=\"Helvetica-46\"/>\n       <path d=\"M 27.046875 69.921875 \nQ 40.625 69.921875 46.6875 58.734375 \nQ 51.375 50.09375 51.375 35.0625 \nQ 51.375 20.796875 47.125 11.46875 \nQ 40.96875 -1.90625 27 -1.90625 \nQ 14.40625 -1.90625 8.25 9.03125 \nQ 3.125 18.171875 3.125 33.546875 \nQ 3.125 45.453125 6.203125 54 \nQ 11.96875 69.921875 27.046875 69.921875 \nz\nM 26.953125 6.109375 \nQ 33.796875 6.109375 37.84375 12.15625 \nQ 41.890625 18.21875 41.890625 34.71875 \nQ 41.890625 46.625 38.953125 54.3125 \nQ 36.03125 62.015625 27.59375 62.015625 \nQ 19.828125 62.015625 16.234375 54.703125 \nQ 12.640625 47.40625 12.640625 33.203125 \nQ 12.640625 22.515625 14.9375 16.015625 \nQ 18.453125 6.109375 26.953125 6.109375 \nz\n\" id=\"Helvetica-48\"/>\n      </defs>\n      <g style=\"fill:#262626;\" transform=\"translate(95.345953 243.797797)scale(0.126 -0.126)\">\n       <use xlink:href=\"#Helvetica-45\"/>\n       <use x=\"33.300781\" xlink:href=\"#Helvetica-49\"/>\n       <use x=\"88.916016\" xlink:href=\"#Helvetica-46\"/>\n       <use x=\"116.699219\" xlink:href=\"#Helvetica-48\"/>\n      </g>\n     </g>\n    </g>\n    <g id=\"xtick_2\">\n     <g id=\"line2d_2\"/>\n     <g id=\"text_2\">\n      <!-- 0.0 -->\n      <g style=\"fill:#262626;\" transform=\"translate(206.163656 243.797797)scale(0.126 -0.126)\">\n       <use xlink:href=\"#Helvetica-48\"/>\n       <use x=\"55.615234\" xlink:href=\"#Helvetica-46\"/>\n       <use x=\"83.398438\" xlink:href=\"#Helvetica-48\"/>\n      </g>\n     </g>\n    </g>\n    <g id=\"text_3\">\n     <!-- Predicted label -->\n     <defs>\n      <path d=\"M 8.546875 71.734375 \nL 40.828125 71.734375 \nQ 50.390625 71.734375 56.25 66.328125 \nQ 62.109375 60.9375 62.109375 51.171875 \nQ 62.109375 42.78125 56.875 36.546875 \nQ 51.65625 30.328125 40.828125 30.328125 \nL 18.265625 30.328125 \nL 18.265625 0 \nL 8.546875 0 \nz\nM 52.296875 51.125 \nQ 52.296875 59.03125 46.4375 61.859375 \nQ 43.21875 63.375 37.59375 63.375 \nL 18.265625 63.375 \nL 18.265625 38.53125 \nL 37.59375 38.53125 \nQ 44.140625 38.53125 48.21875 41.3125 \nQ 52.296875 44.09375 52.296875 51.125 \nz\n\" id=\"Helvetica-80\"/>\n      <path d=\"M 6.6875 52.296875 \nL 15.046875 52.296875 \nL 15.046875 43.265625 \nQ 16.0625 45.90625 20.0625 49.6875 \nQ 24.078125 53.46875 29.296875 53.46875 \nQ 29.546875 53.46875 30.125 53.421875 \nQ 30.71875 53.375 32.125 53.21875 \nL 32.125 43.953125 \nQ 31.34375 44.09375 30.6875 44.140625 \nQ 30.03125 44.1875 29.25 44.1875 \nQ 22.609375 44.1875 19.046875 39.90625 \nQ 15.484375 35.640625 15.484375 30.078125 \nL 15.484375 0 \nL 6.6875 0 \nz\n\" id=\"Helvetica-114\"/>\n      <path d=\"M 28.21875 53.46875 \nQ 33.796875 53.46875 39.015625 50.859375 \nQ 44.234375 48.25 46.96875 44.09375 \nQ 49.609375 40.140625 50.484375 34.859375 \nQ 51.265625 31.25 51.265625 23.34375 \nL 12.9375 23.34375 \nQ 13.1875 15.375 16.703125 10.5625 \nQ 20.21875 5.765625 27.59375 5.765625 \nQ 34.46875 5.765625 38.578125 10.296875 \nQ 40.921875 12.9375 41.890625 16.40625 \nL 50.53125 16.40625 \nQ 50.203125 13.53125 48.265625 9.984375 \nQ 46.34375 6.453125 43.953125 4.203125 \nQ 39.9375 0.296875 34.03125 -1.078125 \nQ 30.859375 -1.859375 26.859375 -1.859375 \nQ 17.09375 -1.859375 10.296875 5.25 \nQ 3.515625 12.359375 3.515625 25.140625 \nQ 3.515625 37.75 10.34375 45.609375 \nQ 17.1875 53.46875 28.21875 53.46875 \nz\nM 42.234375 30.328125 \nQ 41.703125 36.03125 39.75 39.453125 \nQ 36.140625 45.796875 27.6875 45.796875 \nQ 21.625 45.796875 17.515625 41.421875 \nQ 13.421875 37.0625 13.1875 30.328125 \nz\nM 27.390625 53.5625 \nz\n\" id=\"Helvetica-101\"/>\n      <path d=\"M 12.015625 25.53125 \nQ 12.015625 17.140625 15.578125 11.46875 \nQ 19.140625 5.8125 27 5.8125 \nQ 33.109375 5.8125 37.03125 11.0625 \nQ 40.96875 16.3125 40.96875 26.125 \nQ 40.96875 36.03125 36.90625 40.796875 \nQ 32.859375 45.5625 26.90625 45.5625 \nQ 20.265625 45.5625 16.140625 40.484375 \nQ 12.015625 35.40625 12.015625 25.53125 \nz\nM 25.25 53.21875 \nQ 31.25 53.21875 35.296875 50.6875 \nQ 37.640625 49.21875 40.625 45.5625 \nL 40.625 71.96875 \nL 49.078125 71.96875 \nL 49.078125 0 \nL 41.15625 0 \nL 41.15625 7.28125 \nQ 38.09375 2.4375 33.890625 0.28125 \nQ 29.6875 -1.859375 24.265625 -1.859375 \nQ 15.53125 -1.859375 9.125 5.484375 \nQ 2.734375 12.84375 2.734375 25.046875 \nQ 2.734375 36.46875 8.5625 44.84375 \nQ 14.40625 53.21875 25.25 53.21875 \nz\n\" id=\"Helvetica-100\"/>\n      <path d=\"M 6.453125 52.046875 \nL 15.375 52.046875 \nL 15.375 0 \nL 6.453125 0 \nz\nM 6.453125 71.734375 \nL 15.375 71.734375 \nL 15.375 61.765625 \nL 6.453125 61.765625 \nz\n\" id=\"Helvetica-105\"/>\n      <path d=\"M 26.609375 53.8125 \nQ 35.453125 53.8125 40.984375 49.515625 \nQ 46.53125 45.21875 47.65625 34.71875 \nL 39.109375 34.71875 \nQ 38.328125 39.546875 35.546875 42.75 \nQ 32.765625 45.953125 26.609375 45.953125 \nQ 18.21875 45.953125 14.59375 37.75 \nQ 12.25 32.421875 12.25 24.609375 \nQ 12.25 16.75 15.5625 11.375 \nQ 18.890625 6 26.03125 6 \nQ 31.5 6 34.6875 9.34375 \nQ 37.890625 12.703125 39.109375 18.5 \nL 47.65625 18.5 \nQ 46.1875 8.109375 40.328125 3.296875 \nQ 34.46875 -1.515625 25.34375 -1.515625 \nQ 15.09375 -1.515625 8.984375 5.984375 \nQ 2.875 13.484375 2.875 24.703125 \nQ 2.875 38.484375 9.5625 46.140625 \nQ 16.265625 53.8125 26.609375 53.8125 \nz\nM 25.25 53.5625 \nz\n\" id=\"Helvetica-99\"/>\n      <path d=\"M 8.203125 66.890625 \nL 17.09375 66.890625 \nL 17.09375 52.296875 \nL 25.4375 52.296875 \nL 25.4375 45.125 \nL 17.09375 45.125 \nL 17.09375 10.984375 \nQ 17.09375 8.25 18.953125 7.328125 \nQ 19.96875 6.78125 22.359375 6.78125 \nQ 23 6.78125 23.734375 6.8125 \nQ 24.46875 6.84375 25.4375 6.9375 \nL 25.4375 0 \nQ 23.921875 -0.4375 22.28125 -0.625 \nQ 20.65625 -0.828125 18.75 -0.828125 \nQ 12.59375 -0.828125 10.390625 2.3125 \nQ 8.203125 5.46875 8.203125 10.5 \nL 8.203125 45.125 \nL 1.125 45.125 \nL 1.125 52.296875 \nL 8.203125 52.296875 \nz\n\" id=\"Helvetica-116\"/>\n      <path id=\"Helvetica-32\"/>\n      <path d=\"M 6.6875 71.734375 \nL 15.484375 71.734375 \nL 15.484375 0 \nL 6.6875 0 \nz\n\" id=\"Helvetica-108\"/>\n      <path d=\"M 13.1875 13.921875 \nQ 13.1875 10.109375 15.96875 7.90625 \nQ 18.75 5.71875 22.5625 5.71875 \nQ 27.203125 5.71875 31.546875 7.859375 \nQ 38.875 11.421875 38.875 19.53125 \nL 38.875 26.609375 \nQ 37.25 25.59375 34.703125 24.90625 \nQ 32.171875 24.21875 29.734375 23.921875 \nL 24.421875 23.25 \nQ 19.625 22.609375 17.234375 21.234375 \nQ 13.1875 18.953125 13.1875 13.921875 \nz\nM 34.46875 31.6875 \nQ 37.5 32.078125 38.53125 34.234375 \nQ 39.109375 35.40625 39.109375 37.59375 \nQ 39.109375 42.09375 35.90625 44.109375 \nQ 32.71875 46.140625 26.765625 46.140625 \nQ 19.875 46.140625 17 42.4375 \nQ 15.375 40.375 14.890625 36.328125 \nL 6.6875 36.328125 \nQ 6.9375 46 12.96875 49.78125 \nQ 19 53.5625 26.953125 53.5625 \nQ 36.1875 53.5625 41.9375 50.046875 \nQ 47.65625 46.53125 47.65625 39.109375 \nL 47.65625 8.984375 \nQ 47.65625 7.625 48.21875 6.78125 \nQ 48.78125 5.953125 50.59375 5.953125 \nQ 51.171875 5.953125 51.90625 6.03125 \nQ 52.640625 6.109375 53.46875 6.25 \nL 53.46875 -0.25 \nQ 51.421875 -0.828125 50.34375 -0.96875 \nQ 49.265625 -1.125 47.40625 -1.125 \nQ 42.875 -1.125 40.828125 2.09375 \nQ 39.75 3.8125 39.3125 6.9375 \nQ 36.625 3.421875 31.59375 0.828125 \nQ 26.5625 -1.765625 20.515625 -1.765625 \nQ 13.234375 -1.765625 8.609375 2.65625 \nQ 4 7.078125 4 13.71875 \nQ 4 21 8.546875 25 \nQ 13.09375 29 20.453125 29.9375 \nz\nM 27.203125 53.5625 \nz\n\" id=\"Helvetica-97\"/>\n      <path d=\"M 5.765625 71.96875 \nL 14.3125 71.96875 \nL 14.3125 45.953125 \nQ 17.1875 49.703125 21.1875 51.671875 \nQ 25.203125 53.65625 29.890625 53.65625 \nQ 39.65625 53.65625 45.734375 46.9375 \nQ 51.8125 40.234375 51.8125 27.15625 \nQ 51.8125 14.75 45.796875 6.546875 \nQ 39.796875 -1.65625 29.15625 -1.65625 \nQ 23.1875 -1.65625 19.09375 1.21875 \nQ 16.65625 2.9375 13.875 6.6875 \nL 13.875 0 \nL 5.765625 0 \nz\nM 28.609375 6.109375 \nQ 35.75 6.109375 39.28125 11.765625 \nQ 42.828125 17.4375 42.828125 26.703125 \nQ 42.828125 34.96875 39.28125 40.375 \nQ 35.75 45.796875 28.859375 45.796875 \nQ 22.859375 45.796875 18.328125 41.359375 \nQ 13.8125 36.921875 13.8125 26.703125 \nQ 13.8125 19.34375 15.671875 14.75 \nQ 19.140625 6.109375 28.609375 6.109375 \nz\n\" id=\"Helvetica-98\"/>\n     </defs>\n     <g style=\"fill:#262626;\" transform=\"translate(112.933781 260.753859)scale(0.144 -0.144)\">\n      <use xlink:href=\"#Helvetica-80\"/>\n      <use x=\"66.699219\" xlink:href=\"#Helvetica-114\"/>\n      <use x=\"100\" xlink:href=\"#Helvetica-101\"/>\n      <use x=\"155.615234\" xlink:href=\"#Helvetica-100\"/>\n      <use x=\"211.230469\" xlink:href=\"#Helvetica-105\"/>\n      <use x=\"233.447266\" xlink:href=\"#Helvetica-99\"/>\n      <use x=\"283.447266\" xlink:href=\"#Helvetica-116\"/>\n      <use x=\"311.230469\" xlink:href=\"#Helvetica-101\"/>\n      <use x=\"366.845703\" xlink:href=\"#Helvetica-100\"/>\n      <use x=\"422.460938\" xlink:href=\"#Helvetica-32\"/>\n      <use x=\"450.244141\" xlink:href=\"#Helvetica-108\"/>\n      <use x=\"472.460938\" xlink:href=\"#Helvetica-97\"/>\n      <use x=\"528.076172\" xlink:href=\"#Helvetica-98\"/>\n      <use x=\"583.691406\" xlink:href=\"#Helvetica-101\"/>\n      <use x=\"639.306641\" xlink:href=\"#Helvetica-108\"/>\n     </g>\n    </g>\n   </g>\n   <g id=\"matplotlib.axis_2\">\n    <g id=\"ytick_1\">\n     <g id=\"line2d_3\"/>\n     <g id=\"text_4\">\n      <!-- -1.0 -->\n      <g style=\"fill:#262626;\" transform=\"translate(24.53125 70.598531)scale(0.126 -0.126)\">\n       <use xlink:href=\"#Helvetica-45\"/>\n       <use x=\"33.300781\" xlink:href=\"#Helvetica-49\"/>\n       <use x=\"88.916016\" xlink:href=\"#Helvetica-46\"/>\n       <use x=\"116.699219\" xlink:href=\"#Helvetica-48\"/>\n      </g>\n     </g>\n    </g>\n    <g id=\"ytick_2\">\n     <g id=\"line2d_4\"/>\n     <g id=\"text_5\">\n      <!-- 0.0 -->\n      <g style=\"fill:#262626;\" transform=\"translate(28.726656 179.318531)scale(0.126 -0.126)\">\n       <use xlink:href=\"#Helvetica-48\"/>\n       <use x=\"55.615234\" xlink:href=\"#Helvetica-46\"/>\n       <use x=\"83.398438\" xlink:href=\"#Helvetica-48\"/>\n      </g>\n     </g>\n    </g>\n    <g id=\"text_6\">\n     <!-- True label -->\n     <defs>\n      <path d=\"M 59.8125 71.734375 \nL 59.8125 63.1875 \nL 35.640625 63.1875 \nL 35.640625 0 \nL 25.78125 0 \nL 25.78125 63.1875 \nL 1.609375 63.1875 \nL 1.609375 71.734375 \nz\n\" id=\"Helvetica-84\"/>\n      <path d=\"M 15.234375 52.296875 \nL 15.234375 17.578125 \nQ 15.234375 13.578125 16.5 11.03125 \nQ 18.84375 6.34375 25.25 6.34375 \nQ 34.421875 6.34375 37.75 14.546875 \nQ 39.546875 18.953125 39.546875 26.609375 \nL 39.546875 52.296875 \nL 48.34375 52.296875 \nL 48.34375 0 \nL 40.046875 0 \nL 40.140625 7.71875 \nQ 38.421875 4.734375 35.890625 2.6875 \nQ 30.859375 -1.421875 23.6875 -1.421875 \nQ 12.5 -1.421875 8.453125 6.0625 \nQ 6.25 10.0625 6.25 16.75 \nL 6.25 52.296875 \nz\nM 27.296875 53.5625 \nz\n\" id=\"Helvetica-117\"/>\n     </defs>\n     <g style=\"fill:#262626;\" transform=\"translate(17.52975 152.453391)rotate(-90)scale(0.144 -0.144)\">\n      <use xlink:href=\"#Helvetica-84\"/>\n      <use x=\"61.083984\" xlink:href=\"#Helvetica-114\"/>\n      <use x=\"94.384766\" xlink:href=\"#Helvetica-117\"/>\n      <use x=\"150\" xlink:href=\"#Helvetica-101\"/>\n      <use x=\"205.615234\" xlink:href=\"#Helvetica-32\"/>\n      <use x=\"233.398438\" xlink:href=\"#Helvetica-108\"/>\n      <use x=\"255.615234\" xlink:href=\"#Helvetica-97\"/>\n      <use x=\"311.230469\" xlink:href=\"#Helvetica-98\"/>\n      <use x=\"366.845703\" xlink:href=\"#Helvetica-101\"/>\n      <use x=\"422.460938\" xlink:href=\"#Helvetica-108\"/>\n     </g>\n    </g>\n   </g>\n   <g id=\"patch_3\">\n    <path d=\"M 51.840656 229.159266 \nL 51.840656 11.719266 \n\" style=\"fill:none;stroke:#cccccc;stroke-linecap:square;stroke-linejoin:miter;stroke-width:1.12;\"/>\n   </g>\n   <g id=\"patch_4\">\n    <path d=\"M 269.280656 229.159266 \nL 269.280656 11.719266 \n\" style=\"fill:none;stroke:#cccccc;stroke-linecap:square;stroke-linejoin:miter;stroke-width:1.12;\"/>\n   </g>\n   <g id=\"patch_5\">\n    <path d=\"M 51.840656 229.159266 \nL 269.280656 229.159266 \n\" style=\"fill:none;stroke:#cccccc;stroke-linecap:square;stroke-linejoin:miter;stroke-width:1.12;\"/>\n   </g>\n   <g id=\"patch_6\">\n    <path d=\"M 51.840656 11.719266 \nL 269.280656 11.719266 \n\" style=\"fill:none;stroke:#cccccc;stroke-linecap:square;stroke-linejoin:miter;stroke-width:1.12;\"/>\n   </g>\n   <g id=\"text_7\">\n    <!-- 37 -->\n    <defs>\n     <path d=\"M 25.984375 -1.90625 \nQ 13.578125 -1.90625 7.984375 4.90625 \nQ 2.390625 11.71875 2.390625 21.484375 \nL 11.578125 21.484375 \nQ 12.15625 14.703125 14.109375 11.625 \nQ 17.53125 6.109375 26.46875 6.109375 \nQ 33.40625 6.109375 37.59375 9.8125 \nQ 41.796875 13.53125 41.796875 19.390625 \nQ 41.796875 26.609375 37.375 29.484375 \nQ 32.953125 32.375 25.09375 32.375 \nQ 24.21875 32.375 23.3125 32.34375 \nQ 22.40625 32.328125 21.484375 32.28125 \nL 21.484375 40.046875 \nQ 22.859375 39.890625 23.78125 39.84375 \nQ 24.703125 39.796875 25.78125 39.796875 \nQ 30.71875 39.796875 33.890625 41.359375 \nQ 39.453125 44.09375 39.453125 51.125 \nQ 39.453125 56.34375 35.734375 59.171875 \nQ 32.03125 62.015625 27.09375 62.015625 \nQ 18.3125 62.015625 14.9375 56.15625 \nQ 13.09375 52.9375 12.84375 46.96875 \nL 4.15625 46.96875 \nQ 4.15625 54.78125 7.28125 60.25 \nQ 12.640625 70.015625 26.171875 70.015625 \nQ 36.859375 70.015625 42.71875 65.25 \nQ 48.578125 60.5 48.578125 51.46875 \nQ 48.578125 45.015625 45.125 41.015625 \nQ 42.96875 38.53125 39.546875 37.109375 \nQ 45.0625 35.59375 48.15625 31.265625 \nQ 51.265625 26.953125 51.265625 20.703125 \nQ 51.265625 10.6875 44.671875 4.390625 \nQ 38.09375 -1.90625 25.984375 -1.90625 \nz\n\" id=\"Helvetica-51\"/>\n     <path d=\"M 52.296875 68.75 \nL 52.296875 61.078125 \nQ 48.921875 57.8125 43.328125 49.703125 \nQ 37.75 41.609375 33.453125 32.234375 \nQ 29.203125 23.09375 27 15.578125 \nQ 25.59375 10.75 23.34375 0 \nL 13.625 0 \nQ 16.9375 20.015625 28.265625 39.84375 \nQ 34.96875 51.46875 42.328125 59.90625 \nL 3.65625 59.90625 \nL 3.65625 68.75 \nz\n\" id=\"Helvetica-55\"/>\n    </defs>\n    <g style=\"fill:#440154;\" transform=\"translate(100.639719 68.623797)scale(0.1 -0.1)\">\n     <use xlink:href=\"#Helvetica-51\"/>\n     <use x=\"55.615234\" xlink:href=\"#Helvetica-55\"/>\n    </g>\n   </g>\n   <g id=\"text_8\">\n    <!-- 13 -->\n    <g style=\"fill:#fde725;\" transform=\"translate(209.359719 68.623797)scale(0.1 -0.1)\">\n     <use xlink:href=\"#Helvetica-49\"/>\n     <use x=\"55.615234\" xlink:href=\"#Helvetica-51\"/>\n    </g>\n   </g>\n   <g id=\"text_9\">\n    <!-- 9 -->\n    <defs>\n     <path d=\"M 13.28125 16.890625 \nQ 13.671875 9.625 18.890625 6.84375 \nQ 21.578125 5.375 24.953125 5.375 \nQ 31.25 5.375 35.6875 10.625 \nQ 40.140625 15.875 42 31.9375 \nQ 39.0625 27.296875 34.734375 25.40625 \nQ 30.421875 23.53125 25.4375 23.53125 \nQ 15.328125 23.53125 9.4375 29.828125 \nQ 3.5625 36.140625 3.5625 46.046875 \nQ 3.5625 55.5625 9.375 62.78125 \nQ 15.1875 70.015625 26.515625 70.015625 \nQ 41.796875 70.015625 47.609375 56.25 \nQ 50.828125 48.6875 50.828125 37.3125 \nQ 50.828125 24.46875 46.96875 14.546875 \nQ 40.578125 -1.953125 25.296875 -1.953125 \nQ 15.046875 -1.953125 9.71875 3.421875 \nQ 4.390625 8.796875 4.390625 16.890625 \nz\nM 26.609375 31.25 \nQ 31.84375 31.25 36.15625 34.6875 \nQ 40.484375 38.140625 40.484375 46.734375 \nQ 40.484375 54.4375 36.59375 58.21875 \nQ 32.71875 62.015625 26.703125 62.015625 \nQ 20.265625 62.015625 16.484375 57.6875 \nQ 12.703125 53.375 12.703125 46.140625 \nQ 12.703125 39.3125 16.015625 35.28125 \nQ 19.34375 31.25 26.609375 31.25 \nz\n\" id=\"Helvetica-57\"/>\n    </defs>\n    <g style=\"fill:#fde725;\" transform=\"translate(103.420187 177.343797)scale(0.1 -0.1)\">\n     <use xlink:href=\"#Helvetica-57\"/>\n    </g>\n   </g>\n   <g id=\"text_10\">\n    <!-- 50 -->\n    <defs>\n     <path d=\"M 12.359375 17.828125 \nQ 13.234375 10.296875 19.34375 7.421875 \nQ 22.46875 5.953125 26.5625 5.953125 \nQ 34.375 5.953125 38.125 10.9375 \nQ 41.890625 15.921875 41.890625 21.96875 \nQ 41.890625 29.296875 37.421875 33.296875 \nQ 32.953125 37.3125 26.703125 37.3125 \nQ 22.171875 37.3125 18.921875 35.546875 \nQ 15.671875 33.796875 13.375 30.671875 \nL 5.765625 31.109375 \nL 11.078125 68.75 \nL 47.40625 68.75 \nL 47.40625 60.25 \nL 17.671875 60.25 \nL 14.703125 40.828125 \nQ 17.140625 42.671875 19.34375 43.609375 \nQ 23.25 45.21875 28.375 45.21875 \nQ 37.984375 45.21875 44.671875 39.015625 \nQ 51.375 32.8125 51.375 23.296875 \nQ 51.375 13.375 45.234375 5.796875 \nQ 39.109375 -1.765625 25.6875 -1.765625 \nQ 17.140625 -1.765625 10.5625 3.046875 \nQ 4 7.859375 3.21875 17.828125 \nz\n\" id=\"Helvetica-53\"/>\n    </defs>\n    <g style=\"fill:#440154;\" transform=\"translate(209.359719 177.343797)scale(0.1 -0.1)\">\n     <use xlink:href=\"#Helvetica-53\"/>\n     <use x=\"55.615234\" xlink:href=\"#Helvetica-48\"/>\n    </g>\n   </g>\n  </g>\n  <g id=\"axes_2\">\n   <g id=\"patch_7\">\n    <path clip-path=\"url(#p0ef233726e)\" d=\"M 286.020656 229.159266 \nL 286.020656 228.309891 \nL 286.020656 12.568641 \nL 286.020656 11.719266 \nL 296.892656 11.719266 \nL 296.892656 12.568641 \nL 296.892656 228.309891 \nL 296.892656 229.159266 \nz\n\" style=\"fill:#ffffff;stroke:#ffffff;stroke-linejoin:miter;stroke-width:0.01;\"/>\n   </g>\n   <image height=\"217\" id=\"imagec5335fadf4\" transform=\"scale(1 -1)translate(0 -217)\" width=\"11\" x=\"286\" xlink:href=\"data:image/png;base64,\niVBORw0KGgoAAAANSUhEUgAAAAsAAADZCAYAAAD2WsoCAAAABHNCSVQICAgIfAhkiAAAAVpJREFUaIHt2jmOA0EMQ9Ha2ifzGeb+F7F74sn0AgKyMY4JgvxSVXubz/Vzj+LrzDWr2nHGXHWxOe8tMcB5LshMzoOct6ATzsMmGBMTjeBQcjRiQ/lAGjfF2C1W1DLXZ6Ix7KTEYhjnWAzZjTsWgwoSOiqIMUCMu0HOIP6n8cdZ7udkjJxzj4I9nIOcg3cdiOlp1WQo30+jruUHvcToQeP7x90EHdAAaaOCPW7+Mevn+yPfQvSggStqNCBzEh2JhXMPGvAWSWNQwZEr2MIZvidDzhYjWFDE9RRcMEVjifNa7w4xiMaSM0iZt9AIFozRyBUMiqUgOZ8cjVjmNVOZjzmDeAfRQYwrVpA4I41UjGu+6uJNNOhGym2dxCAaGCO2SOKcHHfqKkB0IH7QuK1gbDdix+oaqd2gM5hc/lRmLFjWqnPdeJyH/NxAztucQbxFfMmfPRZ8/sfMqRi/ZtuAZsNQHUMAAAAASUVORK5CYII=\" y=\"-11\"/>\n   <g id=\"matplotlib.axis_3\"/>\n   <g id=\"matplotlib.axis_4\">\n    <g id=\"ytick_3\">\n     <g id=\"line2d_5\"/>\n     <g id=\"text_11\">\n      <!-- 10 -->\n      <g style=\"fill:#262626;\" transform=\"translate(302.492656 228.375117)scale(0.126 -0.126)\">\n       <use xlink:href=\"#Helvetica-49\"/>\n       <use x=\"55.615234\" xlink:href=\"#Helvetica-48\"/>\n      </g>\n     </g>\n    </g>\n    <g id=\"ytick_4\">\n     <g id=\"line2d_6\"/>\n     <g id=\"text_12\">\n      <!-- 20 -->\n      <defs>\n       <path d=\"M 3.125 0 \nQ 3.609375 9.03125 6.859375 15.71875 \nQ 10.109375 22.40625 19.53125 27.875 \nL 28.90625 33.296875 \nQ 35.203125 36.96875 37.75 39.546875 \nQ 41.75 43.609375 41.75 48.828125 \nQ 41.75 54.9375 38.078125 58.515625 \nQ 34.421875 62.109375 28.328125 62.109375 \nQ 19.28125 62.109375 15.828125 55.28125 \nQ 13.96875 51.609375 13.765625 45.125 \nL 4.828125 45.125 \nQ 4.984375 54.25 8.203125 60.015625 \nQ 13.921875 70.171875 28.375 70.171875 \nQ 40.375 70.171875 45.921875 63.671875 \nQ 51.46875 57.171875 51.46875 49.21875 \nQ 51.46875 40.828125 45.5625 34.859375 \nQ 42.140625 31.390625 33.296875 26.46875 \nL 26.609375 22.75 \nQ 21.828125 20.125 19.09375 17.71875 \nQ 14.203125 13.484375 12.9375 8.296875 \nL 51.125 8.296875 \nL 51.125 0 \nL 3.125 0 \nz\n\" id=\"Helvetica-50\"/>\n      </defs>\n      <g style=\"fill:#262626;\" transform=\"translate(302.492656 175.34097)scale(0.126 -0.126)\">\n       <use xlink:href=\"#Helvetica-50\"/>\n       <use x=\"55.615234\" xlink:href=\"#Helvetica-48\"/>\n      </g>\n     </g>\n    </g>\n    <g id=\"ytick_5\">\n     <g id=\"line2d_7\"/>\n     <g id=\"text_13\">\n      <!-- 30 -->\n      <g style=\"fill:#262626;\" transform=\"translate(302.492656 122.306824)scale(0.126 -0.126)\">\n       <use xlink:href=\"#Helvetica-51\"/>\n       <use x=\"55.615234\" xlink:href=\"#Helvetica-48\"/>\n      </g>\n     </g>\n    </g>\n    <g id=\"ytick_6\">\n     <g id=\"line2d_8\"/>\n     <g id=\"text_14\">\n      <!-- 40 -->\n      <defs>\n       <path d=\"M 33.0625 24.75 \nL 33.0625 56.453125 \nL 10.640625 24.75 \nz\nM 33.203125 0 \nL 33.203125 17.09375 \nL 2.546875 17.09375 \nL 2.546875 25.6875 \nL 34.578125 70.125 \nL 42 70.125 \nL 42 24.75 \nL 52.296875 24.75 \nL 52.296875 17.09375 \nL 42 17.09375 \nL 42 0 \nz\n\" id=\"Helvetica-52\"/>\n      </defs>\n      <g style=\"fill:#262626;\" transform=\"translate(302.492656 69.272678)scale(0.126 -0.126)\">\n       <use xlink:href=\"#Helvetica-52\"/>\n       <use x=\"55.615234\" xlink:href=\"#Helvetica-48\"/>\n      </g>\n     </g>\n    </g>\n    <g id=\"ytick_7\">\n     <g id=\"line2d_9\"/>\n     <g id=\"text_15\">\n      <!-- 50 -->\n      <g style=\"fill:#262626;\" transform=\"translate(302.492656 16.238531)scale(0.126 -0.126)\">\n       <use xlink:href=\"#Helvetica-53\"/>\n       <use x=\"55.615234\" xlink:href=\"#Helvetica-48\"/>\n      </g>\n     </g>\n    </g>\n   </g>\n   <g id=\"patch_8\">\n    <path d=\"M 286.020656 229.159266 \nL 286.020656 228.309891 \nL 286.020656 12.568641 \nL 286.020656 11.719266 \nL 296.892656 11.719266 \nL 296.892656 12.568641 \nL 296.892656 228.309891 \nL 296.892656 229.159266 \nz\n\" style=\"fill:none;stroke:#cccccc;stroke-linejoin:miter;stroke-width:1.12;\"/>\n   </g>\n  </g>\n </g>\n <defs>\n  <clipPath id=\"pc2e9de7004\">\n   <rect height=\"217.44\" width=\"217.44\" x=\"51.840656\" y=\"11.719266\"/>\n  </clipPath>\n  <clipPath id=\"p0ef233726e\">\n   <rect height=\"217.44\" width=\"10.872\" x=\"286.020656\" y=\"11.719266\"/>\n  </clipPath>\n </defs>\n</svg>\n",
      "image/png": "[encoded data removed]"
     },
     "metadata": {}
    }
   ],
   "metadata": {}
  },
  {
   "cell_type": "code",
   "execution_count": null,
   "source": [
    "## Feature Selection"
   ],
   "outputs": [],
   "metadata": {}
  },
  {
   "cell_type": "code",
   "execution_count": null,
   "source": [],
   "outputs": [],
   "metadata": {}
  }
 ],
 "metadata": {
  "kernelspec": {
   "name": "python3",
   "display_name": "Python 3.8.3 64-bit ('base': conda)"
  },
  "language_info": {
   "codemirror_mode": {
    "name": "ipython",
    "version": 3
   },
   "file_extension": ".py",
   "mimetype": "text/x-python",
   "name": "python",
   "nbconvert_exporter": "python",
   "pygments_lexer": "ipython3",
   "version": "3.8.3"
  },
  "interpreter": {
   "hash": "dca0ade3e726a953b501b15e8e990130d2b7799f14cfd9f4271676035ebe5511"
  }
 },
 "nbformat": 4,
 "nbformat_minor": 4
}