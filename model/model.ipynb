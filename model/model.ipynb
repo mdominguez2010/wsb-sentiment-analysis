{
 "cells": [
  {
   "cell_type": "markdown",
   "metadata": {},
   "source": [
    "# Objective\n",
    "\n",
    "Develop a minimum viable model that can predict which direction a stock will go\n",
    "\n",
    "## The Data\n",
    "\n",
    "### Input Variables\n",
    "\n",
    "1. Sentiment\n",
    "    - Bullish, Bearish, Total_compound\n",
    "2. Financial\n",
    "3. Technical\n",
    "\n",
    "### Target Variable\n",
    "\n",
    "1. 1-day price direction\n",
    "2. 2-day price direction\n",
    "3. 5-day price direction"
   ]
  },
  {
   "cell_type": "markdown",
   "metadata": {},
   "source": [
    "# Import Libraries"
   ]
  },
  {
   "cell_type": "code",
   "execution_count": 2,
   "metadata": {},
   "outputs": [],
   "source": [
    "import secrets\n",
    "\n",
    "import pandas as pd\n",
    "import numpy as np\n",
    "import pickle\n",
    "\n",
    "import requests\n",
    "# from secrets import api_key_alpha\n",
    "import datetime\n",
    "import time"
   ]
  },
  {
   "cell_type": "markdown",
   "metadata": {},
   "source": [
    "# Cleaning the Data"
   ]
  },
  {
   "cell_type": "code",
   "execution_count": 3,
   "metadata": {},
   "outputs": [],
   "source": [
    "# Import data and convert date column to datetime datatype\n",
    "raw_data = pd.read_csv('../data/historic_sentiment_analysis.csv')\n",
    "raw_data['date'] = pd.to_datetime(raw_data['date'])"
   ]
  },
  {
   "cell_type": "code",
   "execution_count": 4,
   "metadata": {},
   "outputs": [
    {
     "name": "stdout",
     "output_type": "stream",
     "text": [
      "<class 'pandas.core.frame.DataFrame'>\n",
      "RangeIndex: 1345 entries, 0 to 1344\n",
      "Data columns (total 100 columns):\n",
      " #   Column                              Non-Null Count  Dtype         \n",
      "---  ------                              --------------  -----         \n",
      " 0   stock                               1345 non-null   object        \n",
      " 1   Bearish                             1345 non-null   float64       \n",
      " 2   Neutral                             1345 non-null   float64       \n",
      " 3   Bullish                             1345 non-null   float64       \n",
      " 4   Total_Compound                      1345 non-null   float64       \n",
      " 5   date                                1345 non-null   datetime64[ns]\n",
      " 6   assetType                           1345 non-null   object        \n",
      " 7   assetMainType                       1345 non-null   object        \n",
      " 8   cusip                               1345 non-null   object        \n",
      " 9   symbol                              1345 non-null   object        \n",
      " 10  description                         1345 non-null   object        \n",
      " 11  bidPrice                            1345 non-null   float64       \n",
      " 12  bidSize                             1345 non-null   int64         \n",
      " 13  bidId                               1345 non-null   object        \n",
      " 14  askPrice                            1345 non-null   float64       \n",
      " 15  askSize                             1345 non-null   int64         \n",
      " 16  askId                               1345 non-null   object        \n",
      " 17  lastPrice                           1345 non-null   float64       \n",
      " 18  lastSize                            1345 non-null   int64         \n",
      " 19  lastId                              1345 non-null   object        \n",
      " 20  openPrice                           1345 non-null   float64       \n",
      " 21  highPrice                           1345 non-null   float64       \n",
      " 22  lowPrice                            1345 non-null   float64       \n",
      " 23  bidTick                             1345 non-null   object        \n",
      " 24  closePrice                          1345 non-null   float64       \n",
      " 25  netChange                           1345 non-null   float64       \n",
      " 26  totalVolume                         1345 non-null   int64         \n",
      " 27  quoteTimeInLong                     1345 non-null   float64       \n",
      " 28  tradeTimeInLong                     1345 non-null   float64       \n",
      " 29  mark                                1345 non-null   float64       \n",
      " 30  exchange                            1345 non-null   object        \n",
      " 31  exchangeName                        1345 non-null   object        \n",
      " 32  marginable                          1345 non-null   bool          \n",
      " 33  shortable                           1345 non-null   bool          \n",
      " 34  volatility                          1345 non-null   float64       \n",
      " 35  digits                              1345 non-null   int64         \n",
      " 36  52WkHigh                            1345 non-null   float64       \n",
      " 37  52WkLow                             1345 non-null   float64       \n",
      " 38  nAV                                 1345 non-null   float64       \n",
      " 39  peRatio                             1345 non-null   float64       \n",
      " 40  divAmount                           1345 non-null   float64       \n",
      " 41  divYield                            1345 non-null   float64       \n",
      " 42  divDate                             358 non-null    object        \n",
      " 43  securityStatus                      1345 non-null   object        \n",
      " 44  regularMarketLastPrice              1345 non-null   float64       \n",
      " 45  regularMarketLastSize               1345 non-null   int64         \n",
      " 46  regularMarketNetChange              1345 non-null   float64       \n",
      " 47  regularMarketTradeTimeInLong        1345 non-null   float64       \n",
      " 48  netPercentChangeInDouble            1345 non-null   float64       \n",
      " 49  markChangeInDouble                  1345 non-null   float64       \n",
      " 50  markPercentChangeInDouble           1345 non-null   float64       \n",
      " 51  regularMarketPercentChangeInDouble  1345 non-null   float64       \n",
      " 52  delayed                             1345 non-null   bool          \n",
      " 53  realtimeEntitled                    1345 non-null   bool          \n",
      " 54  symbol.1                            5 non-null      object        \n",
      " 55  high52                              1345 non-null   float64       \n",
      " 56  low52                               1345 non-null   float64       \n",
      " 57  dividendAmount                      1345 non-null   float64       \n",
      " 58  dividendYield                       1345 non-null   float64       \n",
      " 59  dividendDate                        1345 non-null   object        \n",
      " 60  peRatio.1                           5 non-null      float64       \n",
      " 61  pegRatio                            1345 non-null   float64       \n",
      " 62  pbRatio                             1345 non-null   float64       \n",
      " 63  prRatio                             1345 non-null   float64       \n",
      " 64  pcfRatio                            1345 non-null   float64       \n",
      " 65  grossMarginTTM                      1345 non-null   float64       \n",
      " 66  grossMarginMRQ                      1345 non-null   float64       \n",
      " 67  netProfitMarginTTM                  1345 non-null   float64       \n",
      " 68  netProfitMarginMRQ                  1345 non-null   float64       \n",
      " 69  operatingMarginTTM                  1345 non-null   float64       \n",
      " 70  operatingMarginMRQ                  1345 non-null   float64       \n",
      " 71  returnOnEquity                      1345 non-null   float64       \n",
      " 72  returnOnAssets                      1345 non-null   float64       \n",
      " 73  returnOnInvestment                  1345 non-null   float64       \n",
      " 74  quickRatio                          1345 non-null   float64       \n",
      " 75  currentRatio                        1345 non-null   float64       \n",
      " 76  interestCoverage                    1345 non-null   float64       \n",
      " 77  totalDebtToCapital                  1345 non-null   float64       \n",
      " 78  ltDebtToEquity                      1345 non-null   float64       \n",
      " 79  totalDebtToEquity                   1345 non-null   float64       \n",
      " 80  epsTTM                              1345 non-null   float64       \n",
      " 81  epsChangePercentTTM                 1345 non-null   float64       \n",
      " 82  epsChangeYear                       1345 non-null   float64       \n",
      " 83  epsChange                           1345 non-null   float64       \n",
      " 84  revChangeYear                       1345 non-null   float64       \n",
      " 85  revChangeTTM                        1345 non-null   float64       \n",
      " 86  revChangeIn                         1345 non-null   float64       \n",
      " 87  sharesOutstanding                   1345 non-null   float64       \n",
      " 88  marketCapFloat                      1345 non-null   float64       \n",
      " 89  marketCap                           1345 non-null   float64       \n",
      " 90  bookValuePerShare                   1345 non-null   float64       \n",
      " 91  shortIntToFloat                     1345 non-null   float64       \n",
      " 92  shortIntDayToCover                  1345 non-null   float64       \n",
      " 93  divGrowthRate3Year                  1345 non-null   float64       \n",
      " 94  dividendPayAmount                   1345 non-null   float64       \n",
      " 95  dividendPayDate                     1345 non-null   object        \n",
      " 96  beta                                1345 non-null   float64       \n",
      " 97  vol1DayAvg                          1345 non-null   float64       \n",
      " 98  vol10DayAvg                         1345 non-null   float64       \n",
      " 99  vol3MonthAvg                        1345 non-null   float64       \n",
      "dtypes: bool(4), datetime64[ns](1), float64(72), int64(6), object(17)\n",
      "memory usage: 1014.1+ KB\n"
     ]
    }
   ],
   "source": [
    "raw_data.info()"
   ]
  },
  {
   "cell_type": "markdown",
   "metadata": {},
   "source": [
    "## Unnecessary Columns\n",
    "\n",
    "Let's dig into dividend data. "
   ]
  },
  {
   "cell_type": "code",
   "execution_count": 5,
   "metadata": {},
   "outputs": [
    {
     "data": {
      "text/html": [
       "<div>\n",
       "<style scoped>\n",
       "    .dataframe tbody tr th:only-of-type {\n",
       "        vertical-align: middle;\n",
       "    }\n",
       "\n",
       "    .dataframe tbody tr th {\n",
       "        vertical-align: top;\n",
       "    }\n",
       "\n",
       "    .dataframe thead th {\n",
       "        text-align: right;\n",
       "    }\n",
       "</style>\n",
       "<table border=\"1\" class=\"dataframe\">\n",
       "  <thead>\n",
       "    <tr style=\"text-align: right;\">\n",
       "      <th></th>\n",
       "      <th>divYield</th>\n",
       "      <th>divAmount</th>\n",
       "      <th>divDate</th>\n",
       "      <th>dividendYield</th>\n",
       "      <th>dividendAmount</th>\n",
       "      <th>dividendDate</th>\n",
       "    </tr>\n",
       "  </thead>\n",
       "  <tbody>\n",
       "    <tr>\n",
       "      <th>0</th>\n",
       "      <td>0.00</td>\n",
       "      <td>0.00</td>\n",
       "      <td>NaN</td>\n",
       "      <td>0.00</td>\n",
       "      <td>0.00</td>\n",
       "      <td></td>\n",
       "    </tr>\n",
       "    <tr>\n",
       "      <th>1</th>\n",
       "      <td>0.00</td>\n",
       "      <td>0.00</td>\n",
       "      <td>NaN</td>\n",
       "      <td>0.00</td>\n",
       "      <td>0.00</td>\n",
       "      <td></td>\n",
       "    </tr>\n",
       "    <tr>\n",
       "      <th>2</th>\n",
       "      <td>0.00</td>\n",
       "      <td>0.00</td>\n",
       "      <td>NaN</td>\n",
       "      <td>0.00</td>\n",
       "      <td>0.00</td>\n",
       "      <td></td>\n",
       "    </tr>\n",
       "    <tr>\n",
       "      <th>3</th>\n",
       "      <td>0.70</td>\n",
       "      <td>0.88</td>\n",
       "      <td>00:00.0</td>\n",
       "      <td>0.70</td>\n",
       "      <td>0.88</td>\n",
       "      <td>00:00.0</td>\n",
       "    </tr>\n",
       "    <tr>\n",
       "      <th>4</th>\n",
       "      <td>0.00</td>\n",
       "      <td>0.00</td>\n",
       "      <td>NaN</td>\n",
       "      <td>0.00</td>\n",
       "      <td>0.00</td>\n",
       "      <td></td>\n",
       "    </tr>\n",
       "    <tr>\n",
       "      <th>5</th>\n",
       "      <td>0.00</td>\n",
       "      <td>0.00</td>\n",
       "      <td>NaN</td>\n",
       "      <td>0.00</td>\n",
       "      <td>0.00</td>\n",
       "      <td></td>\n",
       "    </tr>\n",
       "    <tr>\n",
       "      <th>6</th>\n",
       "      <td>0.00</td>\n",
       "      <td>0.00</td>\n",
       "      <td>NaN</td>\n",
       "      <td>0.00</td>\n",
       "      <td>0.00</td>\n",
       "      <td></td>\n",
       "    </tr>\n",
       "    <tr>\n",
       "      <th>7</th>\n",
       "      <td>0.00</td>\n",
       "      <td>0.00</td>\n",
       "      <td>NaN</td>\n",
       "      <td>0.00</td>\n",
       "      <td>0.00</td>\n",
       "      <td></td>\n",
       "    </tr>\n",
       "    <tr>\n",
       "      <th>8</th>\n",
       "      <td>0.71</td>\n",
       "      <td>0.88</td>\n",
       "      <td>00:00.0</td>\n",
       "      <td>0.71</td>\n",
       "      <td>0.88</td>\n",
       "      <td>00:00.0</td>\n",
       "    </tr>\n",
       "    <tr>\n",
       "      <th>9</th>\n",
       "      <td>0.09</td>\n",
       "      <td>0.64</td>\n",
       "      <td>00:00.0</td>\n",
       "      <td>0.09</td>\n",
       "      <td>0.64</td>\n",
       "      <td>00:00.0</td>\n",
       "    </tr>\n",
       "  </tbody>\n",
       "</table>\n",
       "</div>"
      ],
      "text/plain": [
       "   divYield  divAmount  divDate  dividendYield  dividendAmount dividendDate\n",
       "0      0.00       0.00      NaN           0.00            0.00             \n",
       "1      0.00       0.00      NaN           0.00            0.00             \n",
       "2      0.00       0.00      NaN           0.00            0.00             \n",
       "3      0.70       0.88  00:00.0           0.70            0.88      00:00.0\n",
       "4      0.00       0.00      NaN           0.00            0.00             \n",
       "5      0.00       0.00      NaN           0.00            0.00             \n",
       "6      0.00       0.00      NaN           0.00            0.00             \n",
       "7      0.00       0.00      NaN           0.00            0.00             \n",
       "8      0.71       0.88  00:00.0           0.71            0.88      00:00.0\n",
       "9      0.09       0.64  00:00.0           0.09            0.64      00:00.0"
      ]
     },
     "execution_count": 5,
     "metadata": {},
     "output_type": "execute_result"
    }
   ],
   "source": [
    "raw_data[['divYield', 'divAmount', 'divDate', 'dividendYield', 'dividendAmount', 'dividendDate']].head(10)"
   ]
  },
  {
   "cell_type": "markdown",
   "metadata": {},
   "source": [
    "Most of the values are null/zero values because most stocks don't provide dividends.\n",
    "\n",
    "Also, there are duplicate columns (ex: divAmount & dividendAmount).\n",
    "\n",
    "For simplicity, let's consolidate them columns into one as follows:\n",
    "1. Remove the dividendDate/divDate columns. Keeping this would be redundant\n",
    "2. Remove divYield column, it contains the same information as divAmount\n",
    "3. The information from the 6 columns is contained in divAmount:\n",
    "    - Whether the stock pays a dividend or not\n",
    "    - How much is paid per stock owned"
   ]
  },
  {
   "cell_type": "code",
   "execution_count": 6,
   "metadata": {},
   "outputs": [],
   "source": [
    "raw_data.drop(['divYield', 'divDate', 'dividendYield', 'dividendAmount', 'dividendDate', 'dividendPayDate'], axis=1, inplace=True)"
   ]
  },
  {
   "cell_type": "markdown",
   "metadata": {},
   "source": [
    "Several columns are either identifiers, duplicates or empty, we don't need them for this project"
   ]
  },
  {
   "cell_type": "code",
   "execution_count": 7,
   "metadata": {},
   "outputs": [],
   "source": [
    "raw_data.drop(['cusip',\n",
    "           'assetType',\n",
    "           'description',\n",
    "           'assetMainType',\n",
    "           'symbol',\n",
    "           'securityStatus',\n",
    "           'symbol.1',\n",
    "           'bidTick',\n",
    "           'exchangeName',\n",
    "           'peRatio.1'], axis=1, inplace=True)"
   ]
  },
  {
   "cell_type": "markdown",
   "metadata": {},
   "source": [
    "Categorical columns"
   ]
  },
  {
   "cell_type": "code",
   "execution_count": 8,
   "metadata": {},
   "outputs": [
    {
     "data": {
      "text/html": [
       "<div>\n",
       "<style scoped>\n",
       "    .dataframe tbody tr th:only-of-type {\n",
       "        vertical-align: middle;\n",
       "    }\n",
       "\n",
       "    .dataframe tbody tr th {\n",
       "        vertical-align: top;\n",
       "    }\n",
       "\n",
       "    .dataframe thead th {\n",
       "        text-align: right;\n",
       "    }\n",
       "</style>\n",
       "<table border=\"1\" class=\"dataframe\">\n",
       "  <thead>\n",
       "    <tr style=\"text-align: right;\">\n",
       "      <th></th>\n",
       "      <th>stock</th>\n",
       "      <th>bidId</th>\n",
       "      <th>askId</th>\n",
       "      <th>lastId</th>\n",
       "      <th>exchange</th>\n",
       "    </tr>\n",
       "  </thead>\n",
       "  <tbody>\n",
       "    <tr>\n",
       "      <th>0</th>\n",
       "      <td>CLOV</td>\n",
       "      <td>P</td>\n",
       "      <td>P</td>\n",
       "      <td>P</td>\n",
       "      <td>q</td>\n",
       "    </tr>\n",
       "    <tr>\n",
       "      <th>1</th>\n",
       "      <td>CLNE</td>\n",
       "      <td>Q</td>\n",
       "      <td>P</td>\n",
       "      <td>P</td>\n",
       "      <td>q</td>\n",
       "    </tr>\n",
       "    <tr>\n",
       "      <th>2</th>\n",
       "      <td>TLRY</td>\n",
       "      <td>P</td>\n",
       "      <td>P</td>\n",
       "      <td>P</td>\n",
       "      <td>q</td>\n",
       "    </tr>\n",
       "    <tr>\n",
       "      <th>3</th>\n",
       "      <td>AAPL</td>\n",
       "      <td>P</td>\n",
       "      <td>P</td>\n",
       "      <td>D</td>\n",
       "      <td>q</td>\n",
       "    </tr>\n",
       "    <tr>\n",
       "      <th>4</th>\n",
       "      <td>WKHS</td>\n",
       "      <td>P</td>\n",
       "      <td>P</td>\n",
       "      <td>D</td>\n",
       "      <td>q</td>\n",
       "    </tr>\n",
       "    <tr>\n",
       "      <th>...</th>\n",
       "      <td>...</td>\n",
       "      <td>...</td>\n",
       "      <td>...</td>\n",
       "      <td>...</td>\n",
       "      <td>...</td>\n",
       "    </tr>\n",
       "    <tr>\n",
       "      <th>1340</th>\n",
       "      <td>MSFT</td>\n",
       "      <td>K</td>\n",
       "      <td>Z</td>\n",
       "      <td>D</td>\n",
       "      <td>q</td>\n",
       "    </tr>\n",
       "    <tr>\n",
       "      <th>1341</th>\n",
       "      <td>SOFI</td>\n",
       "      <td>Q</td>\n",
       "      <td>Q</td>\n",
       "      <td>D</td>\n",
       "      <td>q</td>\n",
       "    </tr>\n",
       "    <tr>\n",
       "      <th>1342</th>\n",
       "      <td>NVDA</td>\n",
       "      <td>N</td>\n",
       "      <td>H</td>\n",
       "      <td>D</td>\n",
       "      <td>q</td>\n",
       "    </tr>\n",
       "    <tr>\n",
       "      <th>1343</th>\n",
       "      <td>AAPL</td>\n",
       "      <td>K</td>\n",
       "      <td>Q</td>\n",
       "      <td>J</td>\n",
       "      <td>q</td>\n",
       "    </tr>\n",
       "    <tr>\n",
       "      <th>1344</th>\n",
       "      <td>PYPL</td>\n",
       "      <td>Q</td>\n",
       "      <td>Q</td>\n",
       "      <td>D</td>\n",
       "      <td>q</td>\n",
       "    </tr>\n",
       "  </tbody>\n",
       "</table>\n",
       "<p>1345 rows × 5 columns</p>\n",
       "</div>"
      ],
      "text/plain": [
       "     stock bidId askId lastId exchange\n",
       "0     CLOV     P     P      P        q\n",
       "1     CLNE     Q     P      P        q\n",
       "2     TLRY     P     P      P        q\n",
       "3     AAPL     P     P      D        q\n",
       "4     WKHS     P     P      D        q\n",
       "...    ...   ...   ...    ...      ...\n",
       "1340  MSFT     K     Z      D        q\n",
       "1341  SOFI     Q     Q      D        q\n",
       "1342  NVDA     N     H      D        q\n",
       "1343  AAPL     K     Q      J        q\n",
       "1344  PYPL     Q     Q      D        q\n",
       "\n",
       "[1345 rows x 5 columns]"
      ]
     },
     "execution_count": 8,
     "metadata": {},
     "output_type": "execute_result"
    }
   ],
   "source": [
    "raw_data.select_dtypes(include='object')"
   ]
  },
  {
   "cell_type": "code",
   "execution_count": 9,
   "metadata": {},
   "outputs": [
    {
     "name": "stdout",
     "output_type": "stream",
     "text": [
      "15\n",
      "15\n",
      "15\n",
      "1\n"
     ]
    }
   ],
   "source": [
    "print(raw_data['bidId'].nunique())\n",
    "print(raw_data['askId'].nunique())\n",
    "print(raw_data['lastId'].nunique())\n",
    "print(raw_data['exchange'].nunique())"
   ]
  },
  {
   "cell_type": "markdown",
   "metadata": {},
   "source": [
    "exchange column has only 1 unique value, which would likely not add predictability"
   ]
  },
  {
   "cell_type": "code",
   "execution_count": 10,
   "metadata": {},
   "outputs": [],
   "source": [
    "raw_data.drop(['exchange'], axis=1, inplace=True)"
   ]
  },
  {
   "cell_type": "code",
   "execution_count": 11,
   "metadata": {},
   "outputs": [
    {
     "name": "stdout",
     "output_type": "stream",
     "text": [
      "<class 'pandas.core.frame.DataFrame'>\n",
      "RangeIndex: 1345 entries, 0 to 1344\n",
      "Data columns (total 83 columns):\n",
      " #   Column                              Non-Null Count  Dtype         \n",
      "---  ------                              --------------  -----         \n",
      " 0   stock                               1345 non-null   object        \n",
      " 1   Bearish                             1345 non-null   float64       \n",
      " 2   Neutral                             1345 non-null   float64       \n",
      " 3   Bullish                             1345 non-null   float64       \n",
      " 4   Total_Compound                      1345 non-null   float64       \n",
      " 5   date                                1345 non-null   datetime64[ns]\n",
      " 6   bidPrice                            1345 non-null   float64       \n",
      " 7   bidSize                             1345 non-null   int64         \n",
      " 8   bidId                               1345 non-null   object        \n",
      " 9   askPrice                            1345 non-null   float64       \n",
      " 10  askSize                             1345 non-null   int64         \n",
      " 11  askId                               1345 non-null   object        \n",
      " 12  lastPrice                           1345 non-null   float64       \n",
      " 13  lastSize                            1345 non-null   int64         \n",
      " 14  lastId                              1345 non-null   object        \n",
      " 15  openPrice                           1345 non-null   float64       \n",
      " 16  highPrice                           1345 non-null   float64       \n",
      " 17  lowPrice                            1345 non-null   float64       \n",
      " 18  closePrice                          1345 non-null   float64       \n",
      " 19  netChange                           1345 non-null   float64       \n",
      " 20  totalVolume                         1345 non-null   int64         \n",
      " 21  quoteTimeInLong                     1345 non-null   float64       \n",
      " 22  tradeTimeInLong                     1345 non-null   float64       \n",
      " 23  mark                                1345 non-null   float64       \n",
      " 24  marginable                          1345 non-null   bool          \n",
      " 25  shortable                           1345 non-null   bool          \n",
      " 26  volatility                          1345 non-null   float64       \n",
      " 27  digits                              1345 non-null   int64         \n",
      " 28  52WkHigh                            1345 non-null   float64       \n",
      " 29  52WkLow                             1345 non-null   float64       \n",
      " 30  nAV                                 1345 non-null   float64       \n",
      " 31  peRatio                             1345 non-null   float64       \n",
      " 32  divAmount                           1345 non-null   float64       \n",
      " 33  regularMarketLastPrice              1345 non-null   float64       \n",
      " 34  regularMarketLastSize               1345 non-null   int64         \n",
      " 35  regularMarketNetChange              1345 non-null   float64       \n",
      " 36  regularMarketTradeTimeInLong        1345 non-null   float64       \n",
      " 37  netPercentChangeInDouble            1345 non-null   float64       \n",
      " 38  markChangeInDouble                  1345 non-null   float64       \n",
      " 39  markPercentChangeInDouble           1345 non-null   float64       \n",
      " 40  regularMarketPercentChangeInDouble  1345 non-null   float64       \n",
      " 41  delayed                             1345 non-null   bool          \n",
      " 42  realtimeEntitled                    1345 non-null   bool          \n",
      " 43  high52                              1345 non-null   float64       \n",
      " 44  low52                               1345 non-null   float64       \n",
      " 45  pegRatio                            1345 non-null   float64       \n",
      " 46  pbRatio                             1345 non-null   float64       \n",
      " 47  prRatio                             1345 non-null   float64       \n",
      " 48  pcfRatio                            1345 non-null   float64       \n",
      " 49  grossMarginTTM                      1345 non-null   float64       \n",
      " 50  grossMarginMRQ                      1345 non-null   float64       \n",
      " 51  netProfitMarginTTM                  1345 non-null   float64       \n",
      " 52  netProfitMarginMRQ                  1345 non-null   float64       \n",
      " 53  operatingMarginTTM                  1345 non-null   float64       \n",
      " 54  operatingMarginMRQ                  1345 non-null   float64       \n",
      " 55  returnOnEquity                      1345 non-null   float64       \n",
      " 56  returnOnAssets                      1345 non-null   float64       \n",
      " 57  returnOnInvestment                  1345 non-null   float64       \n",
      " 58  quickRatio                          1345 non-null   float64       \n",
      " 59  currentRatio                        1345 non-null   float64       \n",
      " 60  interestCoverage                    1345 non-null   float64       \n",
      " 61  totalDebtToCapital                  1345 non-null   float64       \n",
      " 62  ltDebtToEquity                      1345 non-null   float64       \n",
      " 63  totalDebtToEquity                   1345 non-null   float64       \n",
      " 64  epsTTM                              1345 non-null   float64       \n",
      " 65  epsChangePercentTTM                 1345 non-null   float64       \n",
      " 66  epsChangeYear                       1345 non-null   float64       \n",
      " 67  epsChange                           1345 non-null   float64       \n",
      " 68  revChangeYear                       1345 non-null   float64       \n",
      " 69  revChangeTTM                        1345 non-null   float64       \n",
      " 70  revChangeIn                         1345 non-null   float64       \n",
      " 71  sharesOutstanding                   1345 non-null   float64       \n",
      " 72  marketCapFloat                      1345 non-null   float64       \n",
      " 73  marketCap                           1345 non-null   float64       \n",
      " 74  bookValuePerShare                   1345 non-null   float64       \n",
      " 75  shortIntToFloat                     1345 non-null   float64       \n",
      " 76  shortIntDayToCover                  1345 non-null   float64       \n",
      " 77  divGrowthRate3Year                  1345 non-null   float64       \n",
      " 78  dividendPayAmount                   1345 non-null   float64       \n",
      " 79  beta                                1345 non-null   float64       \n",
      " 80  vol1DayAvg                          1345 non-null   float64       \n",
      " 81  vol10DayAvg                         1345 non-null   float64       \n",
      " 82  vol3MonthAvg                        1345 non-null   float64       \n",
      "dtypes: bool(4), datetime64[ns](1), float64(68), int64(6), object(4)\n",
      "memory usage: 835.5+ KB\n"
     ]
    }
   ],
   "source": [
    "raw_data.info()"
   ]
  },
  {
   "cell_type": "markdown",
   "metadata": {},
   "source": [
    "## Boolean Values"
   ]
  },
  {
   "cell_type": "code",
   "execution_count": 12,
   "metadata": {},
   "outputs": [
    {
     "data": {
      "text/html": [
       "<div>\n",
       "<style scoped>\n",
       "    .dataframe tbody tr th:only-of-type {\n",
       "        vertical-align: middle;\n",
       "    }\n",
       "\n",
       "    .dataframe tbody tr th {\n",
       "        vertical-align: top;\n",
       "    }\n",
       "\n",
       "    .dataframe thead th {\n",
       "        text-align: right;\n",
       "    }\n",
       "</style>\n",
       "<table border=\"1\" class=\"dataframe\">\n",
       "  <thead>\n",
       "    <tr style=\"text-align: right;\">\n",
       "      <th></th>\n",
       "      <th>marginable</th>\n",
       "      <th>shortable</th>\n",
       "      <th>delayed</th>\n",
       "      <th>realtimeEntitled</th>\n",
       "    </tr>\n",
       "  </thead>\n",
       "  <tbody>\n",
       "    <tr>\n",
       "      <th>0</th>\n",
       "      <td>True</td>\n",
       "      <td>True</td>\n",
       "      <td>True</td>\n",
       "      <td>False</td>\n",
       "    </tr>\n",
       "    <tr>\n",
       "      <th>1</th>\n",
       "      <td>True</td>\n",
       "      <td>True</td>\n",
       "      <td>True</td>\n",
       "      <td>False</td>\n",
       "    </tr>\n",
       "    <tr>\n",
       "      <th>2</th>\n",
       "      <td>True</td>\n",
       "      <td>True</td>\n",
       "      <td>True</td>\n",
       "      <td>False</td>\n",
       "    </tr>\n",
       "    <tr>\n",
       "      <th>3</th>\n",
       "      <td>True</td>\n",
       "      <td>True</td>\n",
       "      <td>True</td>\n",
       "      <td>False</td>\n",
       "    </tr>\n",
       "    <tr>\n",
       "      <th>4</th>\n",
       "      <td>True</td>\n",
       "      <td>True</td>\n",
       "      <td>True</td>\n",
       "      <td>False</td>\n",
       "    </tr>\n",
       "    <tr>\n",
       "      <th>...</th>\n",
       "      <td>...</td>\n",
       "      <td>...</td>\n",
       "      <td>...</td>\n",
       "      <td>...</td>\n",
       "    </tr>\n",
       "    <tr>\n",
       "      <th>1340</th>\n",
       "      <td>True</td>\n",
       "      <td>True</td>\n",
       "      <td>True</td>\n",
       "      <td>False</td>\n",
       "    </tr>\n",
       "    <tr>\n",
       "      <th>1341</th>\n",
       "      <td>True</td>\n",
       "      <td>True</td>\n",
       "      <td>True</td>\n",
       "      <td>False</td>\n",
       "    </tr>\n",
       "    <tr>\n",
       "      <th>1342</th>\n",
       "      <td>True</td>\n",
       "      <td>True</td>\n",
       "      <td>True</td>\n",
       "      <td>False</td>\n",
       "    </tr>\n",
       "    <tr>\n",
       "      <th>1343</th>\n",
       "      <td>True</td>\n",
       "      <td>True</td>\n",
       "      <td>True</td>\n",
       "      <td>False</td>\n",
       "    </tr>\n",
       "    <tr>\n",
       "      <th>1344</th>\n",
       "      <td>True</td>\n",
       "      <td>True</td>\n",
       "      <td>True</td>\n",
       "      <td>False</td>\n",
       "    </tr>\n",
       "  </tbody>\n",
       "</table>\n",
       "<p>1345 rows × 4 columns</p>\n",
       "</div>"
      ],
      "text/plain": [
       "      marginable  shortable  delayed  realtimeEntitled\n",
       "0           True       True     True             False\n",
       "1           True       True     True             False\n",
       "2           True       True     True             False\n",
       "3           True       True     True             False\n",
       "4           True       True     True             False\n",
       "...          ...        ...      ...               ...\n",
       "1340        True       True     True             False\n",
       "1341        True       True     True             False\n",
       "1342        True       True     True             False\n",
       "1343        True       True     True             False\n",
       "1344        True       True     True             False\n",
       "\n",
       "[1345 rows x 4 columns]"
      ]
     },
     "execution_count": 12,
     "metadata": {},
     "output_type": "execute_result"
    }
   ],
   "source": [
    "raw_data.select_dtypes(include='boolean')"
   ]
  },
  {
   "cell_type": "code",
   "execution_count": 13,
   "metadata": {},
   "outputs": [
    {
     "name": "stdout",
     "output_type": "stream",
     "text": [
      "2\n",
      "2\n",
      "1\n",
      "1\n"
     ]
    }
   ],
   "source": [
    "print(raw_data['marginable'].nunique())\n",
    "print(raw_data['shortable'].nunique())\n",
    "print(raw_data['delayed'].nunique())\n",
    "print(raw_data['realtimeEntitled'].nunique())"
   ]
  },
  {
   "cell_type": "markdown",
   "metadata": {},
   "source": [
    "Two of these columns provide no valuable information"
   ]
  },
  {
   "cell_type": "code",
   "execution_count": 14,
   "metadata": {},
   "outputs": [],
   "source": [
    "raw_data.drop(['delayed', 'realtimeEntitled'], axis=1, inplace=True, )"
   ]
  },
  {
   "cell_type": "markdown",
   "metadata": {},
   "source": [
    "## Null Values"
   ]
  },
  {
   "cell_type": "code",
   "execution_count": 15,
   "metadata": {},
   "outputs": [
    {
     "data": {
      "text/plain": [
       "0"
      ]
     },
     "execution_count": 15,
     "metadata": {},
     "output_type": "execute_result"
    }
   ],
   "source": [
    "raw_data.isna().sum().sum()"
   ]
  },
  {
   "cell_type": "markdown",
   "metadata": {},
   "source": [
    "We're good to go"
   ]
  },
  {
   "cell_type": "markdown",
   "metadata": {},
   "source": [
    "## Columns with minimal unique values\n",
    "\n",
    "Variables with a single value in the column will not likely provide any predictability"
   ]
  },
  {
   "cell_type": "code",
   "execution_count": 16,
   "metadata": {},
   "outputs": [],
   "source": [
    "list(raw_data.columns)\n",
    "\n",
    "for column in list(raw_data.columns):\n",
    "    if raw_data[column].nunique() <= 1:\n",
    "        raw_data.drop(column, axis=1, inplace=True)"
   ]
  },
  {
   "cell_type": "markdown",
   "metadata": {},
   "source": [
    "# Bring in price stock with Alpha Vantage API"
   ]
  },
  {
   "cell_type": "code",
   "execution_count": 17,
   "metadata": {},
   "outputs": [
    {
     "name": "stdout",
     "output_type": "stream",
     "text": [
      "2021-06-03\n",
      "2021-11-02\n",
      "152 days, 0:00:00\n"
     ]
    }
   ],
   "source": [
    "# Date range of our dataset\n",
    "print(raw_data['date'].min().date())\n",
    "print(raw_data['date'].max().date())\n",
    "print(raw_data['date'].max().date() - raw_data['date'].min().date())"
   ]
  },
  {
   "cell_type": "markdown",
   "metadata": {},
   "source": [
    "Based on the date range of our dataset, our API call should generate about 5 months of price history"
   ]
  },
  {
   "cell_type": "code",
   "execution_count": 18,
   "metadata": {},
   "outputs": [],
   "source": [
    "def get_daily_adjusted_price_data(api_key, stock):\n",
    "    url = f\"https://www.alphavantage.co/query?function=TIME_SERIES_DAILY_ADJUSTED&symbol={stock}&outputsize=full&apikey={api_key}\"\n",
    "    raw_data = requests.get(url).json()\n",
    "\n",
    "    return raw_data\n",
    "\n",
    "def create_dataframe(raw_data):\n",
    "    dataframe = pd.DataFrame(columns=['Date', 'Open', 'High', 'Low', 'Close', 'Adj Close', 'Volume'])\n",
    "\n",
    "    for key in raw_data[\"Time Series (Daily)\"].keys():\n",
    "        dataframe = dataframe.append(\n",
    "            pd.Series(\n",
    "                [\n",
    "                    datetime.datetime.strptime(key, '%Y-%m-%d'),\n",
    "                    pd.to_numeric(raw_data[\"Time Series (Daily)\"][key]['1. open']),\n",
    "                    pd.to_numeric(raw_data[\"Time Series (Daily)\"][key][\"2. high\"]),\n",
    "                    pd.to_numeric(raw_data[\"Time Series (Daily)\"][key][\"3. low\"]),\n",
    "                    pd.to_numeric(raw_data[\"Time Series (Daily)\"][key][\"4. close\"]),\n",
    "                    pd.to_numeric(raw_data[\"Time Series (Daily)\"][key][\"5. adjusted close\"]),\n",
    "                    pd.to_numeric(raw_data[\"Time Series (Daily)\"][key][\"6. volume\"])             \n",
    "                ], index=dataframe.columns\n",
    "            ), ignore_index=True\n",
    "        )\n",
    "\n",
    "    return dataframe\n",
    "\n",
    "def add_column(dataframe, value_to_add, column_name):\n",
    "    dataframe[f\"{column_name}\"] = [value_to_add for x in range(len(dataframe))]\n",
    "\n",
    "    return dataframe\n",
    "\n",
    "def calc_returns(dataframe, n_days):\n",
    "    dataframe[f\"{n_days}d-logreturn\"] = np.log(dataframe['Adj Close'] / dataframe['Adj Close'].shift(n_days))\n",
    "\n",
    "    return dataframe\n",
    "\n",
    "def calc_direction(dataframe, n_days):\n",
    "    dataframe[f\"{n_days}d-direction\"] = [1 if x > 0 else -1 if x < 0 else 0 for x in dataframe[f\"{n_days}d-logreturn\"]]\n",
    "\n",
    "    return dataframe\n",
    "\n",
    "def concat_dataframes(dataframe1, dataframe2):\n",
    "    price_data = pd.concat([dataframe1, dataframe2], ignore_index=True)\n",
    "    price_data = price_data[['Date',\n",
    "                             'stock',\n",
    "                             'Adj Close',\n",
    "                             '1d-logreturn',\n",
    "                             '1d-direction',\n",
    "                             '2d-logreturn',\n",
    "                             '2d-direction',\n",
    "                             '5d-logreturn',\n",
    "                             '5d-direction']]\n",
    "\n",
    "    return price_data\n",
    "\n",
    "def clean_dataframe(dataframe):\n",
    "    # First n values in direction columns should be NaN\n",
    "    dataframe['1d-direction'][0] = np.nan\n",
    "    dataframe['2d-direction'][0: 2] = [np.nan for x in dataframe['2d-direction'][0: 2]]\n",
    "    dataframe['5d-direction'][0: 5] = [np.nan for x in dataframe['5d-direction'][0: 5]]\n",
    "\n",
    "    # Shift columnd to properly align in a manner to ensure the features are observable\n",
    "    # with respectto the target\n",
    "    dataframe['1d-logreturn'] = dataframe['1d-logreturn'].shift(1)\n",
    "    dataframe['1d-direction'] = dataframe['1d-direction'].shift(1)\n",
    "\n",
    "    dataframe['2d-logreturn'] = dataframe['2d-logreturn'].shift(1)\n",
    "    dataframe['2d-direction'] = dataframe['2d-direction'].shift(1)\n",
    "\n",
    "    dataframe['5d-logreturn'] = dataframe['5d-logreturn'].shift(1)\n",
    "    dataframe['5d-direction'] = dataframe['5d-direction'].shift(1)\n",
    "\n",
    "    dataframe.dropna(inplace=True)\n",
    "    dataframe.reset_index(inplace=True)\n",
    "    dataframe.drop('index', axis=1, inplace=True)\n",
    "\n",
    "    return dataframe"
   ]
  },
  {
   "cell_type": "code",
   "execution_count": null,
   "metadata": {},
   "outputs": [],
   "source": [
    "# Caution: this piece takes several minutes to run\n",
    "STOCKS = list(raw_data['stock'].unique())\n",
    "bad_api_calls = []\n",
    "price_data = pd.DataFrame()\n",
    "\n",
    "for stock in STOCKS:\n",
    "\n",
    "    # Make api call\n",
    "    api_call = get_daily_adjusted_price_data(secrets.API_KEY_ALPHA_VANTAGE, stock)\n",
    "\n",
    "    try:\n",
    "        # Create dataframe\n",
    "        dataframe = create_dataframe(api_call)\n",
    "        # Add column for stock symbol\n",
    "        add_column(dataframe, stock, 'stock')\n",
    "\n",
    "        # Calc returns\n",
    "        calc_returns(dataframe, 1)\n",
    "        calc_returns(dataframe, 2)\n",
    "        calc_returns(dataframe, 5)\n",
    "\n",
    "        # Calc direction\n",
    "        calc_direction(dataframe, 1)\n",
    "        calc_direction(dataframe, 2)\n",
    "        calc_direction(dataframe, 5)\n",
    "\n",
    "        # Concat dataframes\n",
    "        price_data = concat_dataframes(price_data, dataframe)\n",
    "\n",
    "    except KeyError:\n",
    "        bad_api_calls.append(stock)\n",
    "        pass\n",
    "\n",
    "    time.sleep(13)\n",
    "\n",
    "clean_dataframe(price_data)\n",
    "\n",
    "print(len(STOCKS))\n",
    "print(len(bad_api_calls), \"bad api calls\")\n",
    "print(bad_api_calls)"
   ]
  },
  {
   "cell_type": "markdown",
   "metadata": {},
   "source": [
    "There's still an issue with Alpha Vantage's API calls"
   ]
  },
  {
   "cell_type": "code",
   "execution_count": 20,
   "metadata": {},
   "outputs": [],
   "source": [
    "# with open('../data/price_data.pickle', 'wb') as f:\n",
    "#     pickle.dump(price_data, f)\n",
    "\n",
    "with open('../data/price_data.pickle', 'rb') as f:\n",
    "    price_data = pickle.load(f)"
   ]
  },
  {
   "cell_type": "code",
   "execution_count": 21,
   "metadata": {},
   "outputs": [],
   "source": [
    "price_data.rename(\n",
    "    {\n",
    "    'Date':'date',\n",
    "    'Adj Close': 'close'\n",
    "    }, axis=1, inplace=True\n",
    ")"
   ]
  },
  {
   "cell_type": "code",
   "execution_count": 22,
   "metadata": {},
   "outputs": [],
   "source": [
    "# Filter out date range to focus on the particular dates in which the sentiment analysis was conducted\n",
    "filter_ = (price_data['date'] >= raw_data['date'].min()) & (price_data['date'] <= raw_data['date'].max())\n",
    "\n",
    "price_data = price_data[filter_]\n",
    "price_data.reset_index(inplace=True)\n",
    "price_data.drop('index', axis=1, inplace=True)"
   ]
  },
  {
   "cell_type": "code",
   "execution_count": 23,
   "metadata": {},
   "outputs": [],
   "source": [
    "# In this step, we will combine the price dataset and a sentiment analysis dataset into one\n",
    "# 'combined_df'\n",
    "final_dataset = price_data.merge(raw_data, on=['date', 'stock'], how='left', suffixes=(None, \"_y\"))"
   ]
  },
  {
   "cell_type": "code",
   "execution_count": 24,
   "metadata": {},
   "outputs": [],
   "source": [
    "# Drop extra columns that contain '_y' as a suffix\n",
    "for column in final_dataset.columns.to_list():\n",
    "    if column[-2:] == '_y':\n",
    "        final_dataset.drop(labels=column, axis=1, inplace=True)"
   ]
  },
  {
   "cell_type": "code",
   "execution_count": 25,
   "metadata": {},
   "outputs": [],
   "source": [
    "# Remove any duplcate columns resulted form the merge\n",
    "final_dataset = final_dataset.loc[:, ~final_dataset.columns.duplicated()]\n",
    "final_dataset.sort_values(by=['date', 'stock'], ignore_index=True, inplace=True)"
   ]
  },
  {
   "cell_type": "code",
   "execution_count": 26,
   "metadata": {},
   "outputs": [],
   "source": [
    "# Now, what to do with NaN values?\n",
    "# Bearish, Bullish, Neutral, and Total_Compound columns, fill with small value to indicate little to no sentiment on that day\n",
    "fill_na_list = ['Bearish', 'Bullish', 'Neutral', 'Total_Compound']\n",
    "for column_header in fill_na_list:\n",
    "    final_dataset[column_header].fillna(value=0.005, inplace=True)"
   ]
  },
  {
   "cell_type": "code",
   "execution_count": 27,
   "metadata": {},
   "outputs": [],
   "source": [
    "null_values_list = list(final_dataset.isna().sum()[final_dataset.isna().sum() > 0].index)\n",
    "#print(combined_df.isna().sum().sum())\n",
    "\n",
    "for indx in null_values_list:\n",
    "    try:\n",
    "        final_dataset[indx] = final_dataset.groupby('stock')[indx].transform(lambda x: x.fillna(x.mean()))\n",
    "    except TypeError:\n",
    "        pass\n",
    "\n",
    "#print(combined_df.isna().sum().sum())"
   ]
  },
  {
   "cell_type": "code",
   "execution_count": 28,
   "metadata": {},
   "outputs": [
    {
     "name": "stdout",
     "output_type": "stream",
     "text": [
      "7063\n",
      "935\n"
     ]
    }
   ],
   "source": [
    "# Simply remove the remainder of the null values\n",
    "\n",
    "print(len(final_dataset))\n",
    "\n",
    "final_dataset.dropna(inplace=True)\n",
    "final_dataset.reset_index(drop=True, inplace=True)\n",
    "\n",
    "print(len(final_dataset))"
   ]
  },
  {
   "cell_type": "code",
   "execution_count": 29,
   "metadata": {},
   "outputs": [
    {
     "data": {
      "text/plain": [
       "0"
      ]
     },
     "execution_count": 29,
     "metadata": {},
     "output_type": "execute_result"
    }
   ],
   "source": [
    "final_dataset.isna().sum().sum()"
   ]
  },
  {
   "cell_type": "markdown",
   "metadata": {},
   "source": [
    "## Data types"
   ]
  },
  {
   "cell_type": "code",
   "execution_count": 30,
   "metadata": {},
   "outputs": [],
   "source": [
    "# Convert columns to numeric datatype\n",
    "int_list = ['bidSize', 'askSize', 'lastSize', 'totalVolume', 'regularMarketLastSize']\n",
    "\n",
    "for int_ in int_list:\n",
    "    final_dataset[int_] = pd.to_numeric(final_dataset[int_])\n",
    "\n",
    "final_dataset['1d-direction'] = pd.to_numeric(final_dataset['1d-direction'])"
   ]
  },
  {
   "cell_type": "code",
   "execution_count": 31,
   "metadata": {},
   "outputs": [
    {
     "data": {
      "text/plain": [
       "Index(['stock', 'bidId', 'askId', 'lastId', 'marginable', 'shortable'], dtype='object')"
      ]
     },
     "execution_count": 31,
     "metadata": {},
     "output_type": "execute_result"
    }
   ],
   "source": [
    "final_dataset.select_dtypes('object').columns"
   ]
  },
  {
   "cell_type": "code",
   "execution_count": 32,
   "metadata": {},
   "outputs": [],
   "source": [
    "# Some columns should be integer data types\n",
    "final_dataset['sharesOutstanding'] = pd.to_numeric(final_dataset['sharesOutstanding'])\n",
    "final_dataset['vol1DayAvg'] = pd.to_numeric(final_dataset['vol1DayAvg'])\n",
    "final_dataset['vol10DayAvg'] = pd.to_numeric(final_dataset['vol10DayAvg'])\n",
    "final_dataset['vol3MonthAvg'] = pd.to_numeric(final_dataset['vol3MonthAvg'])"
   ]
  },
  {
   "cell_type": "code",
   "execution_count": 33,
   "metadata": {},
   "outputs": [
    {
     "data": {
      "text/plain": [
       "Index(['close', '1d-logreturn', '1d-direction', '2d-logreturn', '2d-direction',\n",
       "       '5d-logreturn', '5d-direction', 'Bearish', 'Neutral', 'Bullish',\n",
       "       'Total_Compound', 'bidPrice', 'bidSize', 'askPrice', 'askSize',\n",
       "       'lastPrice', 'lastSize', 'openPrice', 'highPrice', 'lowPrice',\n",
       "       'closePrice', 'netChange', 'totalVolume', 'quoteTimeInLong',\n",
       "       'tradeTimeInLong', 'mark', 'volatility', '52WkHigh', '52WkLow',\n",
       "       'peRatio', 'divAmount', 'regularMarketLastPrice',\n",
       "       'regularMarketLastSize', 'regularMarketNetChange',\n",
       "       'regularMarketTradeTimeInLong', 'netPercentChangeInDouble',\n",
       "       'markChangeInDouble', 'markPercentChangeInDouble',\n",
       "       'regularMarketPercentChangeInDouble', 'high52', 'low52', 'pegRatio',\n",
       "       'pbRatio', 'prRatio', 'pcfRatio', 'grossMarginTTM', 'grossMarginMRQ',\n",
       "       'netProfitMarginTTM', 'netProfitMarginMRQ', 'operatingMarginTTM',\n",
       "       'operatingMarginMRQ', 'returnOnEquity', 'returnOnAssets',\n",
       "       'returnOnInvestment', 'quickRatio', 'currentRatio', 'interestCoverage',\n",
       "       'totalDebtToCapital', 'ltDebtToEquity', 'totalDebtToEquity', 'epsTTM',\n",
       "       'epsChangePercentTTM', 'epsChangeYear', 'revChangeTTM', 'revChangeIn',\n",
       "       'sharesOutstanding', 'marketCapFloat', 'marketCap', 'bookValuePerShare',\n",
       "       'dividendPayAmount', 'beta', 'vol1DayAvg', 'vol10DayAvg',\n",
       "       'vol3MonthAvg'],\n",
       "      dtype='object')"
      ]
     },
     "execution_count": 33,
     "metadata": {},
     "output_type": "execute_result"
    }
   ],
   "source": [
    "final_dataset.select_dtypes(['int64', 'float64', 'int32', 'float32']).columns"
   ]
  },
  {
   "cell_type": "code",
   "execution_count": null,
   "metadata": {},
   "outputs": [],
   "source": [
    "# Pickle the data\n",
    "with open(\"../data/final_dataset.pickle\", \"wb\") as f:\n",
    "    pickle.dump(final_dataset, f)"
   ]
  },
  {
   "cell_type": "markdown",
   "metadata": {},
   "source": [
    "Officially ready for modeling"
   ]
  },
  {
   "cell_type": "markdown",
   "metadata": {},
   "source": [
    "# Minimal Viable Product"
   ]
  },
  {
   "cell_type": "markdown",
   "metadata": {},
   "source": [
    "## Features and Target Variables"
   ]
  },
  {
   "cell_type": "code",
   "execution_count": 34,
   "metadata": {},
   "outputs": [],
   "source": [
    "X = final_dataset.loc[:, 'Bearish':]\n",
    "y = final_dataset['5d-direction']"
   ]
  },
  {
   "cell_type": "markdown",
   "metadata": {},
   "source": [
    "## Encode Categorical Variables"
   ]
  },
  {
   "cell_type": "code",
   "execution_count": 35,
   "metadata": {},
   "outputs": [],
   "source": [
    "from sklearn.preprocessing import OneHotEncoder\n",
    "\n",
    "categoricals = list(X.select_dtypes('object').columns)\n",
    "numericals = list(X.select_dtypes(['int64', 'float64', 'int32', 'float32']).columns)\n",
    "\n",
    "def encode_cats(categoricals, numericals):\n",
    "    \"\"\"\n",
    "    Takes in a list of categorical columns and a list of numerical columns and returns the dataframe with encoded variables\n",
    "    \"\"\"\n",
    "    ohe = OneHotEncoder(sparse=False, drop='first')\n",
    "    cat_matrix = ohe.fit_transform(X.loc[:, categoricals])\n",
    "    X_ohe = pd.DataFrame(cat_matrix,\n",
    "                         columns=ohe.get_feature_names(categoricals), #create meaningful column names\n",
    "                         index=X.index) #keep the same index values\n",
    "    \n",
    "    return pd.concat([X.loc[:, numericals], X_ohe], axis=1)"
   ]
  },
  {
   "cell_type": "code",
   "execution_count": 36,
   "metadata": {},
   "outputs": [],
   "source": [
    "X = encode_cats(categoricals, numericals)"
   ]
  },
  {
   "cell_type": "code",
   "execution_count": 37,
   "metadata": {},
   "outputs": [],
   "source": [
    "from sklearn.linear_model import LogisticRegression\n",
    "from sklearn.ensemble import RandomForestClassifier\n",
    "from sklearn.neighbors import KNeighborsClassifier\n",
    "import xgboost as xgb\n",
    "from sklearn.model_selection import cross_val_score\n",
    "from sklearn.metrics import auc, roc_auc_score, plot_roc_curve, confusion_matrix, ConfusionMatrixDisplay, precision_recall_curve, PrecisionRecallDisplay, plot_confusion_matrix, precision_score, recall_score\n",
    "from sklearn.model_selection import train_test_split, GridSearchCV, RandomizedSearchCV\n",
    "from sklearn.preprocessing import StandardScaler\n",
    "\n",
    "import matplotlib.pyplot as plt"
   ]
  },
  {
   "cell_type": "code",
   "execution_count": 38,
   "metadata": {},
   "outputs": [],
   "source": [
    "def warn(*args, **kwargs):\n",
    "    pass\n",
    "import warnings\n",
    "warnings.warn = warn\n",
    "\n",
    "X_train, X_test, y_train, y_test = train_test_split(X, y, test_size=.2, random_state=42) #hold out 20% of the data for final testing\n",
    "\n",
    "scaler = StandardScaler()\n",
    "X_train_scaled = scaler.fit_transform(X_train)\n",
    "X_test_scaled = scaler.transform(X_test)"
   ]
  },
  {
   "cell_type": "code",
   "execution_count": 39,
   "metadata": {},
   "outputs": [
    {
     "name": "stdout",
     "output_type": "stream",
     "text": [
      "KNN mean scores: 0.5843\n",
      "Logistic Regression mean scores: 0.6016\n",
      "Random Forest mean scores: 0.7099\n",
      "XGBoost mean scores: 0.7286\n"
     ]
    }
   ],
   "source": [
    "knn = KNeighborsClassifier()\n",
    "knn_scores = cross_val_score(knn, X_train_scaled, y_train, cv=5)\n",
    "\n",
    "lr = LogisticRegression(max_iter=1000)\n",
    "lr_scores = cross_val_score(lr, X_train_scaled, y_train, cv = 5)\n",
    "\n",
    "rf = RandomForestClassifier()\n",
    "rf_scores = cross_val_score(rf, X_train_scaled, y_train, cv=5)\n",
    "\n",
    "gbm = xgb.XGBClassifier()\n",
    "gbm_scores = cross_val_score(gbm, X_train_scaled, y_train, cv=5)\n",
    "\n",
    "print(f\"KNN mean scores: {np.mean(knn_scores):.4}\")\n",
    "\n",
    "print(f\"Logistic Regression mean scores: {np.mean(lr_scores):.4}\")\n",
    "\n",
    "print(f\"Random Forest mean scores: {np.mean(rf_scores):.4}\")\n",
    "\n",
    "print(f\"XGBoost mean scores: {np.mean(gbm_scores):.4}\")\n",
    "\n",
    "# save best model\n",
    "best_model = {\n",
    "    knn: np.mean(knn_scores),\n",
    "    lr: np.mean(lr_scores),\n",
    "    rf: np.mean(rf_scores),\n",
    "    gbm: np.mean(gbm_scores)\n",
    "}\n",
    "\n",
    "# sort by mean scores (dict values)\n",
    "# then select the last model (highest mean scores)\n",
    "best_model = {k: v for k, v in sorted(best_model.items(), key=lambda item: item[1])}\n",
    "best_model = list(best_model.keys())[-1]"
   ]
  },
  {
   "cell_type": "markdown",
   "metadata": {},
   "source": [
    "## Confusion Matrix"
   ]
  },
  {
   "cell_type": "code",
   "execution_count": 40,
   "metadata": {},
   "outputs": [
    {
     "name": "stdout",
     "output_type": "stream",
     "text": [
      "Precision Score: 0.7731\n"
     ]
    }
   ],
   "source": [
    "# Precicion score\n",
    "gbm.fit(X_train_scaled, y_train)\n",
    "prec_score = precision_score(y_test, gbm.predict(X_test_scaled), average='weighted')\n",
    "\n",
    "print(f\"Precision Score: {prec_score:.4f}\")"
   ]
  },
  {
   "cell_type": "code",
   "execution_count": 41,
   "metadata": {},
   "outputs": [
    {
     "name": "stdout",
     "output_type": "stream",
     "text": [
      "Recall Score: 0.7701\n"
     ]
    }
   ],
   "source": [
    "# Recall Score\n",
    "rec_score = recall_score(y_test, gbm.predict(X_test_scaled), average='weighted')\n",
    "\n",
    "print(f\"Recall Score: {rec_score:.4f}\")"
   ]
  },
  {
   "cell_type": "code",
   "execution_count": 42,
   "metadata": {},
   "outputs": [
    {
     "data": {
      "image/png": "[encoded data removed]",
      "text/plain": [
       "<Figure size 432x288 with 2 Axes>"
      ]
     },
     "metadata": {},
     "output_type": "display_data"
    }
   ],
   "source": [
    "plot_confusion_matrix(gbm, X_test_scaled, y_test)\n",
    "plt.grid(b=None)"
   ]
  },
  {
   "cell_type": "markdown",
   "metadata": {},
   "source": [
    "## Class Imbalance"
   ]
  },
  {
   "cell_type": "code",
   "execution_count": 43,
   "metadata": {},
   "outputs": [
    {
     "data": {
      "text/plain": [
       "-1.0    392\n",
       " 1.0    354\n",
       " 0.0      2\n",
       "Name: 5d-direction, dtype: int64"
      ]
     },
     "execution_count": 43,
     "metadata": {},
     "output_type": "execute_result"
    }
   ],
   "source": [
    "# Let's try to fix this imbalance to increase accuracy\n",
    "# Almost 50% of the data are 1s or -1s, with minimal 0s\n",
    "y_train.value_counts()"
   ]
  },
  {
   "cell_type": "code",
   "execution_count": 44,
   "metadata": {},
   "outputs": [],
   "source": [
    "from imblearn.under_sampling import RandomUnderSampler\n",
    "from imblearn.over_sampling import RandomOverSampler\n",
    "\n",
    "def over_under_sample(X_train, y_train, Under=True, Over=True):\n",
    "    \"\"\"\n",
    "    Input: training features and target\n",
    "    Output: under/oversampled datasets\n",
    "    \"\"\"\n",
    "    rus = RandomUnderSampler(random_state=42)\n",
    "    ros = RandomOverSampler(random_state=42)\n",
    "\n",
    "    if Under and Over:\n",
    "        X_train_under, y_train_under = rus.fit_sample(X_train, y_train)\n",
    "        X_train_over, y_train_over = ros.fit_sample(X_train, y_train)\n",
    "\n",
    "        return X_train_under, y_train_under, X_train_over, y_train_over\n",
    "\n",
    "    elif Under:\n",
    "        X_train_under, y_train_under = rus.fit_sample(X_train, y_train)\n",
    "\n",
    "        return X_train_under, y_train_under\n",
    "    else:\n",
    "        X_train_over, y_train_over = ros.fit_sample(X_train, y_train)\n",
    "\n",
    "        return X_train_over, y_train_over"
   ]
  },
  {
   "cell_type": "code",
   "execution_count": 45,
   "metadata": {},
   "outputs": [],
   "source": [
    "X_train_scaled_over, y_train_over = over_under_sample(X_train_scaled, y_train, Under=False, Over=True)"
   ]
  },
  {
   "cell_type": "code",
   "execution_count": 46,
   "metadata": {},
   "outputs": [
    {
     "name": "stdout",
     "output_type": "stream",
     "text": [
      "XGBoost mean scores: 0.8333\n"
     ]
    }
   ],
   "source": [
    "gbm_scores_over = cross_val_score(gbm, X_train_scaled_over, y_train_over, cv=5)\n",
    "\n",
    "print(f\"XGBoost mean scores: {np.mean(gbm_scores_over):.4}\")"
   ]
  },
  {
   "cell_type": "code",
   "execution_count": 47,
   "metadata": {},
   "outputs": [
    {
     "name": "stdout",
     "output_type": "stream",
     "text": [
      "Precision Score: 0.7597\n"
     ]
    }
   ],
   "source": [
    "# Confusion Matrix and Recall/Precision scores\n",
    "gbm_over = xgb.XGBClassifier()\n",
    "gbm_over.fit(X_train_scaled_over, y_train_over)\n",
    "prec_score = precision_score(y_test, gbm_over.predict(X_test_scaled), average='weighted')\n",
    "\n",
    "print(f\"Precision Score: {prec_score:.4f}\")"
   ]
  },
  {
   "cell_type": "code",
   "execution_count": 48,
   "metadata": {},
   "outputs": [
    {
     "name": "stdout",
     "output_type": "stream",
     "text": [
      "Recall Score: 0.7540\n"
     ]
    }
   ],
   "source": [
    "# Recall Score\n",
    "rec_score = recall_score(y_test, gbm_over.predict(X_test_scaled), average='weighted')\n",
    "\n",
    "print(f\"Recall Score: {rec_score:.4f}\")"
   ]
  },
  {
   "cell_type": "code",
   "execution_count": 49,
   "metadata": {},
   "outputs": [],
   "source": [
    "# Scores went down 2 points"
   ]
  },
  {
   "cell_type": "code",
   "execution_count": 50,
   "metadata": {},
   "outputs": [
    {
     "data": {
      "image/png": "[encoded data removed]",
      "text/plain": [
       "<Figure size 432x288 with 2 Axes>"
      ]
     },
     "metadata": {},
     "output_type": "display_data"
    }
   ],
   "source": [
    "plot_confusion_matrix(gbm_over, X_test_scaled, y_test)\n",
    "plt.grid(b=None)"
   ]
  },
  {
   "cell_type": "markdown",
   "metadata": {},
   "source": [
    "## ROC AUC"
   ]
  },
  {
   "cell_type": "code",
   "execution_count": 51,
   "metadata": {},
   "outputs": [
    {
     "data": {
      "image/png": "[encoded data removed]",
      "text/plain": [
       "<Figure size 1008x720 with 1 Axes>"
      ]
     },
     "metadata": {},
     "output_type": "display_data"
    }
   ],
   "source": [
    "# Plot ROC area under the curve\n",
    "from sklearn.preprocessing import label_binarize\n",
    "from sklearn.multiclass import OneVsRestClassifier\n",
    "from sklearn.metrics import roc_curve, auc\n",
    "from itertools import cycle\n",
    "from sklearn import svm\n",
    "from scipy import interp\n",
    "\n",
    "# Binarize the output\n",
    "y = label_binarize(y, classes=[-1, 0, 1])\n",
    "n_classes = y.shape[1]\n",
    "\n",
    "# shuffle and split training and test sets\n",
    "X_train, X_test, y_train, y_test = train_test_split(X, y, test_size=.2, random_state=42)\n",
    "\n",
    "# Scale the data\n",
    "scaler = StandardScaler()\n",
    "X_train_scaled = scaler.fit_transform(X_train)\n",
    "X_test_scaled = scaler.transform(X_test)\n",
    "\n",
    "# Oversampling\n",
    "X_train_scaled_over, y_train_over = over_under_sample(X_train_scaled, y_train, Under=False, Over=True)\n",
    "\n",
    "# Learn to predict each class against the other\n",
    "classifier = OneVsRestClassifier(svm.SVC(kernel='linear', probability=True,\n",
    "                                 random_state=42))\n",
    "y_score = classifier.fit(X_train_scaled_over, y_train_over).decision_function(X_test_scaled)\n",
    "\n",
    "# Compute ROC curve and ROC area for each class\n",
    "fpr = dict()\n",
    "tpr = dict()\n",
    "roc_auc = dict()\n",
    "\n",
    "for i in range(n_classes):\n",
    "    fpr[i], tpr[i], thresh = roc_curve(y_test[:, i], y_score[:, i])\n",
    "    roc_auc[i] = auc(fpr[i], tpr[i])\n",
    "\n",
    "# Compute micro-average ROC curve and ROC area\n",
    "fpr[\"micro\"], tpr[\"micro\"], _ = roc_curve(y_test.ravel(), y_score.ravel())\n",
    "roc_auc[\"micro\"] = auc(fpr[\"micro\"], tpr[\"micro\"])\n",
    "\n",
    "# First aggregate all false positive rates\n",
    "all_fpr = np.unique(np.concatenate([fpr[i] for i in range(n_classes)]))\n",
    "\n",
    "# Then interpolate all ROC curves at this points\n",
    "mean_tpr = np.zeros_like(all_fpr)\n",
    "for i in range(n_classes):\n",
    "    mean_tpr += interp(all_fpr, fpr[i], tpr[i])\n",
    "\n",
    "# Finally average it and compute AUC\n",
    "mean_tpr /= n_classes\n",
    "\n",
    "fpr[\"macro\"] = all_fpr\n",
    "tpr[\"macro\"] = mean_tpr\n",
    "roc_auc[\"macro\"] = auc(fpr[\"macro\"], tpr[\"macro\"])\n",
    "\n",
    "# Plot all ROC curves\n",
    "plt.figure(figsize=(14, 10))\n",
    "plt.grid(b=None)\n",
    "lw = 2\n",
    "plt.plot(fpr[\"micro\"], tpr[\"micro\"],\n",
    "         label='micro-average ROC curve (area = {0:0.2f})'\n",
    "               ''.format(roc_auc[\"micro\"]),\n",
    "         color='deeppink', linestyle=':', linewidth=4)\n",
    "\n",
    "plt.plot(fpr[\"macro\"], tpr[\"macro\"],\n",
    "         label='macro-average ROC curve (area = {0:0.2f})'\n",
    "               ''.format(roc_auc[\"macro\"]),\n",
    "         color='navy', linestyle=':', linewidth=4)\n",
    "\n",
    "colors = cycle(['aqua', 'darkorange', 'cornflowerblue'])\n",
    "for i, color in zip(range(n_classes), colors):\n",
    "    plt.plot(fpr[i], tpr[i], color=color, lw=lw,\n",
    "             label='ROC curve of class {0} (area = {1:0.2f})'\n",
    "             ''.format(i, roc_auc[i]))\n",
    "\n",
    "plt.plot([0, 1], [0, 1], 'k--', lw=lw)\n",
    "plt.xlim([0.0, 1.0])\n",
    "plt.ylim([0.0, 1.05])\n",
    "plt.xlabel('False Positive Rate')\n",
    "plt.ylabel('True Positive Rate')\n",
    "plt.title('Receiver operating characteristic to multi-class')\n",
    "plt.legend(loc=\"lower right\")\n",
    "plt.show()"
   ]
  },
  {
   "cell_type": "markdown",
   "metadata": {},
   "source": [
    "# Model Interpretation"
   ]
  },
  {
   "cell_type": "code",
   "execution_count": null,
   "metadata": {},
   "outputs": [],
   "source": [
    "# Shapley"
   ]
  },
  {
   "cell_type": "code",
   "execution_count": null,
   "metadata": {},
   "outputs": [],
   "source": []
  },
  {
   "cell_type": "code",
   "execution_count": null,
   "metadata": {},
   "outputs": [],
   "source": []
  },
  {
   "cell_type": "code",
   "execution_count": null,
   "metadata": {},
   "outputs": [],
   "source": []
  },
  {
   "cell_type": "markdown",
   "metadata": {},
   "source": [
    "# Conclusion"
   ]
  },
  {
   "cell_type": "code",
   "execution_count": null,
   "metadata": {},
   "outputs": [],
   "source": []
  },
  {
   "cell_type": "code",
   "execution_count": null,
   "metadata": {},
   "outputs": [],
   "source": []
  },
  {
   "cell_type": "code",
   "execution_count": null,
   "metadata": {},
   "outputs": [],
   "source": []
  },
  {
   "cell_type": "code",
   "execution_count": null,
   "metadata": {},
   "outputs": [],
   "source": []
  },
  {
   "cell_type": "code",
   "execution_count": null,
   "metadata": {},
   "outputs": [],
   "source": []
  },
  {
   "cell_type": "code",
   "execution_count": null,
   "metadata": {},
   "outputs": [],
   "source": []
  }
 ],
 "metadata": {
  "interpreter": {
   "hash": "40d3a090f54c6569ab1632332b64b2c03c39dcf918b08424e98f38b5ae0af88f"
  },
  "kernelspec": {
   "display_name": "Python 3.8.3 64-bit ('base': conda)",
   "name": "python3"
  },
  "language_info": {
   "codemirror_mode": {
    "name": "ipython",
    "version": 3
   },
   "file_extension": ".py",
   "mimetype": "text/x-python",
   "name": "python",
   "nbconvert_exporter": "python",
   "pygments_lexer": "ipython3",
   "version": "3.8.3"
  }
 },
 "nbformat": 4,
 "nbformat_minor": 4
}
