{
 "cells": [
  {
   "cell_type": "markdown",
   "source": [
    "# Objective\n",
    "\n",
    "Develop a minimum viable model that can predict which direction a stock will go\n",
    "\n",
    "## The Data\n",
    "\n",
    "### Input Variables\n",
    "\n",
    "1. Sentiment\n",
    "    - Bullish, Bearish, Total_compound\n",
    "2. Financial\n",
    "3. Technical\n",
    "\n",
    "### Target Variable\n",
    "\n",
    "1. 1-day price direction\n",
    "2. 2-day price direction"
   ],
   "metadata": {}
  },
  {
   "cell_type": "markdown",
   "source": [
    "# Import Libraries"
   ],
   "metadata": {}
  },
  {
   "cell_type": "code",
   "execution_count": 1,
   "source": [
    "import pandas as pd\n",
    "import numpy as np\n",
    "import plotly.graph_objects as go\n",
    "import pickle\n",
    "\n",
    "import requests\n",
    "from secrets import api_key_alpha\n",
    "import datetime\n",
    "import time"
   ],
   "outputs": [],
   "metadata": {}
  },
  {
   "cell_type": "markdown",
   "source": [
    "# Cleaning the Data"
   ],
   "metadata": {}
  },
  {
   "cell_type": "code",
   "execution_count": 2,
   "source": [
    "# Import data and convert date column to datetime datatype\n",
    "data = pd.read_csv('../historic_sentiment_analysis.csv')\n",
    "data['date'] = pd.to_datetime(data['date'])"
   ],
   "outputs": [],
   "metadata": {}
  },
  {
   "cell_type": "code",
   "execution_count": 3,
   "source": [
    "data.info()"
   ],
   "outputs": [
    {
     "output_type": "stream",
     "name": "stdout",
     "text": [
      "<class 'pandas.core.frame.DataFrame'>\n",
      "RangeIndex: 1085 entries, 0 to 1084\n",
      "Data columns (total 100 columns):\n",
      " #   Column                              Non-Null Count  Dtype         \n",
      "---  ------                              --------------  -----         \n",
      " 0   stock                               1085 non-null   object        \n",
      " 1   Bearish                             1085 non-null   float64       \n",
      " 2   Neutral                             1085 non-null   float64       \n",
      " 3   Bullish                             1085 non-null   float64       \n",
      " 4   Total_Compound                      1085 non-null   float64       \n",
      " 5   date                                1085 non-null   datetime64[ns]\n",
      " 6   assetType                           1085 non-null   object        \n",
      " 7   assetMainType                       1085 non-null   object        \n",
      " 8   cusip                               1085 non-null   object        \n",
      " 9   symbol                              1085 non-null   object        \n",
      " 10  description                         1085 non-null   object        \n",
      " 11  bidPrice                            1085 non-null   float64       \n",
      " 12  bidSize                             1085 non-null   int64         \n",
      " 13  bidId                               1085 non-null   object        \n",
      " 14  askPrice                            1085 non-null   float64       \n",
      " 15  askSize                             1085 non-null   int64         \n",
      " 16  askId                               1085 non-null   object        \n",
      " 17  lastPrice                           1085 non-null   float64       \n",
      " 18  lastSize                            1085 non-null   int64         \n",
      " 19  lastId                              1085 non-null   object        \n",
      " 20  openPrice                           1085 non-null   float64       \n",
      " 21  highPrice                           1085 non-null   float64       \n",
      " 22  lowPrice                            1085 non-null   float64       \n",
      " 23  bidTick                             1085 non-null   object        \n",
      " 24  closePrice                          1085 non-null   float64       \n",
      " 25  netChange                           1085 non-null   float64       \n",
      " 26  totalVolume                         1085 non-null   int64         \n",
      " 27  quoteTimeInLong                     1085 non-null   float64       \n",
      " 28  tradeTimeInLong                     1085 non-null   float64       \n",
      " 29  mark                                1085 non-null   float64       \n",
      " 30  exchange                            1085 non-null   object        \n",
      " 31  exchangeName                        1085 non-null   object        \n",
      " 32  marginable                          1085 non-null   bool          \n",
      " 33  shortable                           1085 non-null   bool          \n",
      " 34  volatility                          1085 non-null   float64       \n",
      " 35  digits                              1085 non-null   int64         \n",
      " 36  52WkHigh                            1085 non-null   float64       \n",
      " 37  52WkLow                             1085 non-null   float64       \n",
      " 38  nAV                                 1085 non-null   int64         \n",
      " 39  peRatio                             1085 non-null   float64       \n",
      " 40  divAmount                           1085 non-null   float64       \n",
      " 41  divYield                            1085 non-null   float64       \n",
      " 42  divDate                             285 non-null    object        \n",
      " 43  securityStatus                      1085 non-null   object        \n",
      " 44  regularMarketLastPrice              1085 non-null   float64       \n",
      " 45  regularMarketLastSize               1085 non-null   int64         \n",
      " 46  regularMarketNetChange              1085 non-null   float64       \n",
      " 47  regularMarketTradeTimeInLong        1085 non-null   float64       \n",
      " 48  netPercentChangeInDouble            1085 non-null   float64       \n",
      " 49  markChangeInDouble                  1085 non-null   float64       \n",
      " 50  markPercentChangeInDouble           1085 non-null   float64       \n",
      " 51  regularMarketPercentChangeInDouble  1085 non-null   float64       \n",
      " 52  delayed                             1085 non-null   bool          \n",
      " 53  realtimeEntitled                    1085 non-null   bool          \n",
      " 54  symbol.1                            5 non-null      object        \n",
      " 55  high52                              1085 non-null   float64       \n",
      " 56  low52                               1085 non-null   float64       \n",
      " 57  dividendAmount                      1085 non-null   float64       \n",
      " 58  dividendYield                       1085 non-null   float64       \n",
      " 59  dividendDate                        1085 non-null   object        \n",
      " 60  peRatio.1                           5 non-null      float64       \n",
      " 61  pegRatio                            1085 non-null   float64       \n",
      " 62  pbRatio                             1085 non-null   float64       \n",
      " 63  prRatio                             1085 non-null   float64       \n",
      " 64  pcfRatio                            1085 non-null   float64       \n",
      " 65  grossMarginTTM                      1085 non-null   float64       \n",
      " 66  grossMarginMRQ                      1085 non-null   float64       \n",
      " 67  netProfitMarginTTM                  1085 non-null   float64       \n",
      " 68  netProfitMarginMRQ                  1085 non-null   float64       \n",
      " 69  operatingMarginTTM                  1085 non-null   float64       \n",
      " 70  operatingMarginMRQ                  1085 non-null   float64       \n",
      " 71  returnOnEquity                      1085 non-null   float64       \n",
      " 72  returnOnAssets                      1085 non-null   float64       \n",
      " 73  returnOnInvestment                  1085 non-null   float64       \n",
      " 74  quickRatio                          1085 non-null   float64       \n",
      " 75  currentRatio                        1085 non-null   float64       \n",
      " 76  interestCoverage                    1085 non-null   float64       \n",
      " 77  totalDebtToCapital                  1085 non-null   float64       \n",
      " 78  ltDebtToEquity                      1085 non-null   float64       \n",
      " 79  totalDebtToEquity                   1085 non-null   float64       \n",
      " 80  epsTTM                              1085 non-null   float64       \n",
      " 81  epsChangePercentTTM                 1085 non-null   float64       \n",
      " 82  epsChangeYear                       1085 non-null   float64       \n",
      " 83  epsChange                           1085 non-null   int64         \n",
      " 84  revChangeYear                       1085 non-null   int64         \n",
      " 85  revChangeTTM                        1085 non-null   float64       \n",
      " 86  revChangeIn                         1085 non-null   float64       \n",
      " 87  sharesOutstanding                   1085 non-null   int64         \n",
      " 88  marketCapFloat                      1085 non-null   float64       \n",
      " 89  marketCap                           1085 non-null   float64       \n",
      " 90  bookValuePerShare                   1085 non-null   float64       \n",
      " 91  shortIntToFloat                     1085 non-null   int64         \n",
      " 92  shortIntDayToCover                  1085 non-null   int64         \n",
      " 93  divGrowthRate3Year                  1085 non-null   int64         \n",
      " 94  dividendPayAmount                   1085 non-null   float64       \n",
      " 95  dividendPayDate                     1085 non-null   object        \n",
      " 96  beta                                1085 non-null   float64       \n",
      " 97  vol1DayAvg                          1085 non-null   int64         \n",
      " 98  vol10DayAvg                         1085 non-null   int64         \n",
      " 99  vol3MonthAvg                        1085 non-null   int64         \n",
      "dtypes: bool(4), datetime64[ns](1), float64(62), int64(16), object(17)\n",
      "memory usage: 818.1+ KB\n"
     ]
    }
   ],
   "metadata": {}
  },
  {
   "cell_type": "markdown",
   "source": [
    "## Unnecessary Columns\n",
    "\n",
    "Let's dig into dividend data. "
   ],
   "metadata": {}
  },
  {
   "cell_type": "code",
   "execution_count": 4,
   "source": [
    "data[['divYield', 'divAmount', 'divDate', 'dividendYield', 'dividendAmount', 'dividendDate']].head(10)"
   ],
   "outputs": [
    {
     "output_type": "execute_result",
     "data": {
      "text/html": [
       "<div>\n",
       "<style scoped>\n",
       "    .dataframe tbody tr th:only-of-type {\n",
       "        vertical-align: middle;\n",
       "    }\n",
       "\n",
       "    .dataframe tbody tr th {\n",
       "        vertical-align: top;\n",
       "    }\n",
       "\n",
       "    .dataframe thead th {\n",
       "        text-align: right;\n",
       "    }\n",
       "</style>\n",
       "<table border=\"1\" class=\"dataframe\">\n",
       "  <thead>\n",
       "    <tr style=\"text-align: right;\">\n",
       "      <th></th>\n",
       "      <th>divYield</th>\n",
       "      <th>divAmount</th>\n",
       "      <th>divDate</th>\n",
       "      <th>dividendYield</th>\n",
       "      <th>dividendAmount</th>\n",
       "      <th>dividendDate</th>\n",
       "    </tr>\n",
       "  </thead>\n",
       "  <tbody>\n",
       "    <tr>\n",
       "      <th>0</th>\n",
       "      <td>0.00</td>\n",
       "      <td>0.00</td>\n",
       "      <td>NaN</td>\n",
       "      <td>0.00</td>\n",
       "      <td>0.00</td>\n",
       "      <td></td>\n",
       "    </tr>\n",
       "    <tr>\n",
       "      <th>1</th>\n",
       "      <td>0.00</td>\n",
       "      <td>0.00</td>\n",
       "      <td>NaN</td>\n",
       "      <td>0.00</td>\n",
       "      <td>0.00</td>\n",
       "      <td></td>\n",
       "    </tr>\n",
       "    <tr>\n",
       "      <th>2</th>\n",
       "      <td>0.00</td>\n",
       "      <td>0.00</td>\n",
       "      <td>NaN</td>\n",
       "      <td>0.00</td>\n",
       "      <td>0.00</td>\n",
       "      <td></td>\n",
       "    </tr>\n",
       "    <tr>\n",
       "      <th>3</th>\n",
       "      <td>0.70</td>\n",
       "      <td>0.88</td>\n",
       "      <td>00:00.0</td>\n",
       "      <td>0.70</td>\n",
       "      <td>0.88</td>\n",
       "      <td>00:00.0</td>\n",
       "    </tr>\n",
       "    <tr>\n",
       "      <th>4</th>\n",
       "      <td>0.00</td>\n",
       "      <td>0.00</td>\n",
       "      <td>NaN</td>\n",
       "      <td>0.00</td>\n",
       "      <td>0.00</td>\n",
       "      <td></td>\n",
       "    </tr>\n",
       "    <tr>\n",
       "      <th>5</th>\n",
       "      <td>0.00</td>\n",
       "      <td>0.00</td>\n",
       "      <td>NaN</td>\n",
       "      <td>0.00</td>\n",
       "      <td>0.00</td>\n",
       "      <td></td>\n",
       "    </tr>\n",
       "    <tr>\n",
       "      <th>6</th>\n",
       "      <td>0.00</td>\n",
       "      <td>0.00</td>\n",
       "      <td>NaN</td>\n",
       "      <td>0.00</td>\n",
       "      <td>0.00</td>\n",
       "      <td></td>\n",
       "    </tr>\n",
       "    <tr>\n",
       "      <th>7</th>\n",
       "      <td>0.00</td>\n",
       "      <td>0.00</td>\n",
       "      <td>NaN</td>\n",
       "      <td>0.00</td>\n",
       "      <td>0.00</td>\n",
       "      <td></td>\n",
       "    </tr>\n",
       "    <tr>\n",
       "      <th>8</th>\n",
       "      <td>0.71</td>\n",
       "      <td>0.88</td>\n",
       "      <td>00:00.0</td>\n",
       "      <td>0.71</td>\n",
       "      <td>0.88</td>\n",
       "      <td>00:00.0</td>\n",
       "    </tr>\n",
       "    <tr>\n",
       "      <th>9</th>\n",
       "      <td>0.09</td>\n",
       "      <td>0.64</td>\n",
       "      <td>00:00.0</td>\n",
       "      <td>0.09</td>\n",
       "      <td>0.64</td>\n",
       "      <td>00:00.0</td>\n",
       "    </tr>\n",
       "  </tbody>\n",
       "</table>\n",
       "</div>"
      ],
      "text/plain": [
       "   divYield  divAmount  divDate  dividendYield  dividendAmount dividendDate\n",
       "0      0.00       0.00      NaN           0.00            0.00             \n",
       "1      0.00       0.00      NaN           0.00            0.00             \n",
       "2      0.00       0.00      NaN           0.00            0.00             \n",
       "3      0.70       0.88  00:00.0           0.70            0.88      00:00.0\n",
       "4      0.00       0.00      NaN           0.00            0.00             \n",
       "5      0.00       0.00      NaN           0.00            0.00             \n",
       "6      0.00       0.00      NaN           0.00            0.00             \n",
       "7      0.00       0.00      NaN           0.00            0.00             \n",
       "8      0.71       0.88  00:00.0           0.71            0.88      00:00.0\n",
       "9      0.09       0.64  00:00.0           0.09            0.64      00:00.0"
      ]
     },
     "metadata": {},
     "execution_count": 4
    }
   ],
   "metadata": {}
  },
  {
   "cell_type": "markdown",
   "source": [
    "Most of the values are null/zero values because most stocks don't provide dividends.\n",
    "\n",
    "Also, there are duplicate columns (ex: divAmount & dividendAmount).\n",
    "\n",
    "For simplicity, let's consolidate them columns into one as follows:\n",
    "1. Remove the dividendDate/divDate columns. Keeping this would be redundant\n",
    "2. Remove divYield column, it contains the same information as divAmount\n",
    "3. The information from the 6 columns is contained in divAmount:\n",
    "    - Whether the stock pays a dividend or not\n",
    "    - How much is paid per stock owned"
   ],
   "metadata": {}
  },
  {
   "cell_type": "code",
   "execution_count": null,
   "source": [],
   "outputs": [],
   "metadata": {}
  },
  {
   "cell_type": "code",
   "execution_count": 5,
   "source": [
    "data.drop(['divYield', 'divDate', 'dividendYield', 'dividendAmount', 'dividendDate', 'dividendPayDate'], axis=1, inplace=True)"
   ],
   "outputs": [],
   "metadata": {}
  },
  {
   "cell_type": "markdown",
   "source": [
    "Several columns are either identifiers, duplicates or empty, we don't need them for this project"
   ],
   "metadata": {}
  },
  {
   "cell_type": "code",
   "execution_count": 6,
   "source": [
    "data.drop(['cusip',\n",
    "           'assetType',\n",
    "           'description',\n",
    "           'assetMainType',\n",
    "           'symbol',\n",
    "           'securityStatus',\n",
    "           'symbol.1',\n",
    "           'bidTick',\n",
    "           'exchangeName',\n",
    "           'peRatio.1'], axis=1, inplace=True)"
   ],
   "outputs": [],
   "metadata": {}
  },
  {
   "cell_type": "markdown",
   "source": [
    "Categorical columns"
   ],
   "metadata": {}
  },
  {
   "cell_type": "code",
   "execution_count": 7,
   "source": [
    "data.select_dtypes(include='object')"
   ],
   "outputs": [
    {
     "output_type": "execute_result",
     "data": {
      "text/html": [
       "<div>\n",
       "<style scoped>\n",
       "    .dataframe tbody tr th:only-of-type {\n",
       "        vertical-align: middle;\n",
       "    }\n",
       "\n",
       "    .dataframe tbody tr th {\n",
       "        vertical-align: top;\n",
       "    }\n",
       "\n",
       "    .dataframe thead th {\n",
       "        text-align: right;\n",
       "    }\n",
       "</style>\n",
       "<table border=\"1\" class=\"dataframe\">\n",
       "  <thead>\n",
       "    <tr style=\"text-align: right;\">\n",
       "      <th></th>\n",
       "      <th>stock</th>\n",
       "      <th>bidId</th>\n",
       "      <th>askId</th>\n",
       "      <th>lastId</th>\n",
       "      <th>exchange</th>\n",
       "    </tr>\n",
       "  </thead>\n",
       "  <tbody>\n",
       "    <tr>\n",
       "      <th>0</th>\n",
       "      <td>CLOV</td>\n",
       "      <td>P</td>\n",
       "      <td>P</td>\n",
       "      <td>P</td>\n",
       "      <td>q</td>\n",
       "    </tr>\n",
       "    <tr>\n",
       "      <th>1</th>\n",
       "      <td>CLNE</td>\n",
       "      <td>Q</td>\n",
       "      <td>P</td>\n",
       "      <td>P</td>\n",
       "      <td>q</td>\n",
       "    </tr>\n",
       "    <tr>\n",
       "      <th>2</th>\n",
       "      <td>TLRY</td>\n",
       "      <td>P</td>\n",
       "      <td>P</td>\n",
       "      <td>P</td>\n",
       "      <td>q</td>\n",
       "    </tr>\n",
       "    <tr>\n",
       "      <th>3</th>\n",
       "      <td>AAPL</td>\n",
       "      <td>P</td>\n",
       "      <td>P</td>\n",
       "      <td>D</td>\n",
       "      <td>q</td>\n",
       "    </tr>\n",
       "    <tr>\n",
       "      <th>4</th>\n",
       "      <td>WKHS</td>\n",
       "      <td>P</td>\n",
       "      <td>P</td>\n",
       "      <td>D</td>\n",
       "      <td>q</td>\n",
       "    </tr>\n",
       "    <tr>\n",
       "      <th>...</th>\n",
       "      <td>...</td>\n",
       "      <td>...</td>\n",
       "      <td>...</td>\n",
       "      <td>...</td>\n",
       "      <td>...</td>\n",
       "    </tr>\n",
       "    <tr>\n",
       "      <th>1080</th>\n",
       "      <td>TSLA</td>\n",
       "      <td>Q</td>\n",
       "      <td>U</td>\n",
       "      <td>D</td>\n",
       "      <td>q</td>\n",
       "    </tr>\n",
       "    <tr>\n",
       "      <th>1081</th>\n",
       "      <td>WISH</td>\n",
       "      <td>U</td>\n",
       "      <td>N</td>\n",
       "      <td>D</td>\n",
       "      <td>q</td>\n",
       "    </tr>\n",
       "    <tr>\n",
       "      <th>1082</th>\n",
       "      <td>AAPL</td>\n",
       "      <td>K</td>\n",
       "      <td>Z</td>\n",
       "      <td>D</td>\n",
       "      <td>q</td>\n",
       "    </tr>\n",
       "    <tr>\n",
       "      <th>1083</th>\n",
       "      <td>MSFT</td>\n",
       "      <td>Q</td>\n",
       "      <td>V</td>\n",
       "      <td>D</td>\n",
       "      <td>q</td>\n",
       "    </tr>\n",
       "    <tr>\n",
       "      <th>1084</th>\n",
       "      <td>ASML</td>\n",
       "      <td>V</td>\n",
       "      <td>Y</td>\n",
       "      <td>D</td>\n",
       "      <td>q</td>\n",
       "    </tr>\n",
       "  </tbody>\n",
       "</table>\n",
       "<p>1085 rows × 5 columns</p>\n",
       "</div>"
      ],
      "text/plain": [
       "     stock bidId askId lastId exchange\n",
       "0     CLOV     P     P      P        q\n",
       "1     CLNE     Q     P      P        q\n",
       "2     TLRY     P     P      P        q\n",
       "3     AAPL     P     P      D        q\n",
       "4     WKHS     P     P      D        q\n",
       "...    ...   ...   ...    ...      ...\n",
       "1080  TSLA     Q     U      D        q\n",
       "1081  WISH     U     N      D        q\n",
       "1082  AAPL     K     Z      D        q\n",
       "1083  MSFT     Q     V      D        q\n",
       "1084  ASML     V     Y      D        q\n",
       "\n",
       "[1085 rows x 5 columns]"
      ]
     },
     "metadata": {},
     "execution_count": 7
    }
   ],
   "metadata": {}
  },
  {
   "cell_type": "code",
   "execution_count": 8,
   "source": [
    "print(data['bidId'].nunique())\n",
    "print(data['askId'].nunique())\n",
    "print(data['lastId'].nunique())\n",
    "print(data['exchange'].nunique())"
   ],
   "outputs": [
    {
     "output_type": "stream",
     "name": "stdout",
     "text": [
      "14\n",
      "15\n",
      "15\n",
      "1\n"
     ]
    }
   ],
   "metadata": {}
  },
  {
   "cell_type": "markdown",
   "source": [
    "exchange column has only 1 unique value, which would likely not add predictability"
   ],
   "metadata": {}
  },
  {
   "cell_type": "code",
   "execution_count": 9,
   "source": [
    "data.drop(['exchange'], axis=1, inplace=True)"
   ],
   "outputs": [],
   "metadata": {}
  },
  {
   "cell_type": "code",
   "execution_count": 10,
   "source": [
    "data.info()"
   ],
   "outputs": [
    {
     "output_type": "stream",
     "name": "stdout",
     "text": [
      "<class 'pandas.core.frame.DataFrame'>\n",
      "RangeIndex: 1085 entries, 0 to 1084\n",
      "Data columns (total 83 columns):\n",
      " #   Column                              Non-Null Count  Dtype         \n",
      "---  ------                              --------------  -----         \n",
      " 0   stock                               1085 non-null   object        \n",
      " 1   Bearish                             1085 non-null   float64       \n",
      " 2   Neutral                             1085 non-null   float64       \n",
      " 3   Bullish                             1085 non-null   float64       \n",
      " 4   Total_Compound                      1085 non-null   float64       \n",
      " 5   date                                1085 non-null   datetime64[ns]\n",
      " 6   bidPrice                            1085 non-null   float64       \n",
      " 7   bidSize                             1085 non-null   int64         \n",
      " 8   bidId                               1085 non-null   object        \n",
      " 9   askPrice                            1085 non-null   float64       \n",
      " 10  askSize                             1085 non-null   int64         \n",
      " 11  askId                               1085 non-null   object        \n",
      " 12  lastPrice                           1085 non-null   float64       \n",
      " 13  lastSize                            1085 non-null   int64         \n",
      " 14  lastId                              1085 non-null   object        \n",
      " 15  openPrice                           1085 non-null   float64       \n",
      " 16  highPrice                           1085 non-null   float64       \n",
      " 17  lowPrice                            1085 non-null   float64       \n",
      " 18  closePrice                          1085 non-null   float64       \n",
      " 19  netChange                           1085 non-null   float64       \n",
      " 20  totalVolume                         1085 non-null   int64         \n",
      " 21  quoteTimeInLong                     1085 non-null   float64       \n",
      " 22  tradeTimeInLong                     1085 non-null   float64       \n",
      " 23  mark                                1085 non-null   float64       \n",
      " 24  marginable                          1085 non-null   bool          \n",
      " 25  shortable                           1085 non-null   bool          \n",
      " 26  volatility                          1085 non-null   float64       \n",
      " 27  digits                              1085 non-null   int64         \n",
      " 28  52WkHigh                            1085 non-null   float64       \n",
      " 29  52WkLow                             1085 non-null   float64       \n",
      " 30  nAV                                 1085 non-null   int64         \n",
      " 31  peRatio                             1085 non-null   float64       \n",
      " 32  divAmount                           1085 non-null   float64       \n",
      " 33  regularMarketLastPrice              1085 non-null   float64       \n",
      " 34  regularMarketLastSize               1085 non-null   int64         \n",
      " 35  regularMarketNetChange              1085 non-null   float64       \n",
      " 36  regularMarketTradeTimeInLong        1085 non-null   float64       \n",
      " 37  netPercentChangeInDouble            1085 non-null   float64       \n",
      " 38  markChangeInDouble                  1085 non-null   float64       \n",
      " 39  markPercentChangeInDouble           1085 non-null   float64       \n",
      " 40  regularMarketPercentChangeInDouble  1085 non-null   float64       \n",
      " 41  delayed                             1085 non-null   bool          \n",
      " 42  realtimeEntitled                    1085 non-null   bool          \n",
      " 43  high52                              1085 non-null   float64       \n",
      " 44  low52                               1085 non-null   float64       \n",
      " 45  pegRatio                            1085 non-null   float64       \n",
      " 46  pbRatio                             1085 non-null   float64       \n",
      " 47  prRatio                             1085 non-null   float64       \n",
      " 48  pcfRatio                            1085 non-null   float64       \n",
      " 49  grossMarginTTM                      1085 non-null   float64       \n",
      " 50  grossMarginMRQ                      1085 non-null   float64       \n",
      " 51  netProfitMarginTTM                  1085 non-null   float64       \n",
      " 52  netProfitMarginMRQ                  1085 non-null   float64       \n",
      " 53  operatingMarginTTM                  1085 non-null   float64       \n",
      " 54  operatingMarginMRQ                  1085 non-null   float64       \n",
      " 55  returnOnEquity                      1085 non-null   float64       \n",
      " 56  returnOnAssets                      1085 non-null   float64       \n",
      " 57  returnOnInvestment                  1085 non-null   float64       \n",
      " 58  quickRatio                          1085 non-null   float64       \n",
      " 59  currentRatio                        1085 non-null   float64       \n",
      " 60  interestCoverage                    1085 non-null   float64       \n",
      " 61  totalDebtToCapital                  1085 non-null   float64       \n",
      " 62  ltDebtToEquity                      1085 non-null   float64       \n",
      " 63  totalDebtToEquity                   1085 non-null   float64       \n",
      " 64  epsTTM                              1085 non-null   float64       \n",
      " 65  epsChangePercentTTM                 1085 non-null   float64       \n",
      " 66  epsChangeYear                       1085 non-null   float64       \n",
      " 67  epsChange                           1085 non-null   int64         \n",
      " 68  revChangeYear                       1085 non-null   int64         \n",
      " 69  revChangeTTM                        1085 non-null   float64       \n",
      " 70  revChangeIn                         1085 non-null   float64       \n",
      " 71  sharesOutstanding                   1085 non-null   int64         \n",
      " 72  marketCapFloat                      1085 non-null   float64       \n",
      " 73  marketCap                           1085 non-null   float64       \n",
      " 74  bookValuePerShare                   1085 non-null   float64       \n",
      " 75  shortIntToFloat                     1085 non-null   int64         \n",
      " 76  shortIntDayToCover                  1085 non-null   int64         \n",
      " 77  divGrowthRate3Year                  1085 non-null   int64         \n",
      " 78  dividendPayAmount                   1085 non-null   float64       \n",
      " 79  beta                                1085 non-null   float64       \n",
      " 80  vol1DayAvg                          1085 non-null   int64         \n",
      " 81  vol10DayAvg                         1085 non-null   int64         \n",
      " 82  vol3MonthAvg                        1085 non-null   int64         \n",
      "dtypes: bool(4), datetime64[ns](1), float64(58), int64(16), object(4)\n",
      "memory usage: 674.0+ KB\n"
     ]
    }
   ],
   "metadata": {}
  },
  {
   "cell_type": "markdown",
   "source": [
    "## Boolean Values"
   ],
   "metadata": {}
  },
  {
   "cell_type": "code",
   "execution_count": 11,
   "source": [
    "data.select_dtypes(include='boolean')"
   ],
   "outputs": [
    {
     "output_type": "execute_result",
     "data": {
      "text/html": [
       "<div>\n",
       "<style scoped>\n",
       "    .dataframe tbody tr th:only-of-type {\n",
       "        vertical-align: middle;\n",
       "    }\n",
       "\n",
       "    .dataframe tbody tr th {\n",
       "        vertical-align: top;\n",
       "    }\n",
       "\n",
       "    .dataframe thead th {\n",
       "        text-align: right;\n",
       "    }\n",
       "</style>\n",
       "<table border=\"1\" class=\"dataframe\">\n",
       "  <thead>\n",
       "    <tr style=\"text-align: right;\">\n",
       "      <th></th>\n",
       "      <th>marginable</th>\n",
       "      <th>shortable</th>\n",
       "      <th>delayed</th>\n",
       "      <th>realtimeEntitled</th>\n",
       "    </tr>\n",
       "  </thead>\n",
       "  <tbody>\n",
       "    <tr>\n",
       "      <th>0</th>\n",
       "      <td>True</td>\n",
       "      <td>True</td>\n",
       "      <td>True</td>\n",
       "      <td>False</td>\n",
       "    </tr>\n",
       "    <tr>\n",
       "      <th>1</th>\n",
       "      <td>True</td>\n",
       "      <td>True</td>\n",
       "      <td>True</td>\n",
       "      <td>False</td>\n",
       "    </tr>\n",
       "    <tr>\n",
       "      <th>2</th>\n",
       "      <td>True</td>\n",
       "      <td>True</td>\n",
       "      <td>True</td>\n",
       "      <td>False</td>\n",
       "    </tr>\n",
       "    <tr>\n",
       "      <th>3</th>\n",
       "      <td>True</td>\n",
       "      <td>True</td>\n",
       "      <td>True</td>\n",
       "      <td>False</td>\n",
       "    </tr>\n",
       "    <tr>\n",
       "      <th>4</th>\n",
       "      <td>True</td>\n",
       "      <td>True</td>\n",
       "      <td>True</td>\n",
       "      <td>False</td>\n",
       "    </tr>\n",
       "    <tr>\n",
       "      <th>...</th>\n",
       "      <td>...</td>\n",
       "      <td>...</td>\n",
       "      <td>...</td>\n",
       "      <td>...</td>\n",
       "    </tr>\n",
       "    <tr>\n",
       "      <th>1080</th>\n",
       "      <td>True</td>\n",
       "      <td>True</td>\n",
       "      <td>True</td>\n",
       "      <td>False</td>\n",
       "    </tr>\n",
       "    <tr>\n",
       "      <th>1081</th>\n",
       "      <td>True</td>\n",
       "      <td>True</td>\n",
       "      <td>True</td>\n",
       "      <td>False</td>\n",
       "    </tr>\n",
       "    <tr>\n",
       "      <th>1082</th>\n",
       "      <td>True</td>\n",
       "      <td>True</td>\n",
       "      <td>True</td>\n",
       "      <td>False</td>\n",
       "    </tr>\n",
       "    <tr>\n",
       "      <th>1083</th>\n",
       "      <td>True</td>\n",
       "      <td>True</td>\n",
       "      <td>True</td>\n",
       "      <td>False</td>\n",
       "    </tr>\n",
       "    <tr>\n",
       "      <th>1084</th>\n",
       "      <td>True</td>\n",
       "      <td>True</td>\n",
       "      <td>True</td>\n",
       "      <td>False</td>\n",
       "    </tr>\n",
       "  </tbody>\n",
       "</table>\n",
       "<p>1085 rows × 4 columns</p>\n",
       "</div>"
      ],
      "text/plain": [
       "      marginable  shortable  delayed  realtimeEntitled\n",
       "0           True       True     True             False\n",
       "1           True       True     True             False\n",
       "2           True       True     True             False\n",
       "3           True       True     True             False\n",
       "4           True       True     True             False\n",
       "...          ...        ...      ...               ...\n",
       "1080        True       True     True             False\n",
       "1081        True       True     True             False\n",
       "1082        True       True     True             False\n",
       "1083        True       True     True             False\n",
       "1084        True       True     True             False\n",
       "\n",
       "[1085 rows x 4 columns]"
      ]
     },
     "metadata": {},
     "execution_count": 11
    }
   ],
   "metadata": {}
  },
  {
   "cell_type": "code",
   "execution_count": 12,
   "source": [
    "print(data['marginable'].nunique())\n",
    "print(data['shortable'].nunique())\n",
    "print(data['delayed'].nunique())\n",
    "print(data['realtimeEntitled'].nunique())"
   ],
   "outputs": [
    {
     "output_type": "stream",
     "name": "stdout",
     "text": [
      "2\n",
      "2\n",
      "1\n",
      "1\n"
     ]
    }
   ],
   "metadata": {}
  },
  {
   "cell_type": "markdown",
   "source": [
    "Two of these columns provide no valuable information"
   ],
   "metadata": {}
  },
  {
   "cell_type": "code",
   "execution_count": 13,
   "source": [
    "data.drop(['delayed', 'realtimeEntitled'], axis=1, inplace=True, )"
   ],
   "outputs": [],
   "metadata": {}
  },
  {
   "cell_type": "code",
   "execution_count": 14,
   "source": [
    "#data = data.transpose(copy=True).drop_duplicates().transpose(copy=True)"
   ],
   "outputs": [],
   "metadata": {}
  },
  {
   "cell_type": "markdown",
   "source": [
    "## Null Values"
   ],
   "metadata": {}
  },
  {
   "cell_type": "code",
   "execution_count": 15,
   "source": [
    "data.isna().sum().sum()"
   ],
   "outputs": [
    {
     "output_type": "execute_result",
     "data": {
      "text/plain": [
       "0"
      ]
     },
     "metadata": {},
     "execution_count": 15
    }
   ],
   "metadata": {}
  },
  {
   "cell_type": "markdown",
   "source": [
    "We're good to go"
   ],
   "metadata": {}
  },
  {
   "cell_type": "markdown",
   "source": [
    "## Columns with minimal unique values\n",
    "\n",
    "Variables with a single value in the column will not likely provide any predictability"
   ],
   "metadata": {}
  },
  {
   "cell_type": "code",
   "execution_count": 16,
   "source": [
    "list(data.columns)\n",
    "\n",
    "for column in list(data.columns):\n",
    "    if data[column].nunique() <= 1:\n",
    "        data.drop(column, axis=1, inplace=True)"
   ],
   "outputs": [],
   "metadata": {}
  },
  {
   "cell_type": "markdown",
   "source": [
    "# Bring in price stock with Alpha Vantage API"
   ],
   "metadata": {}
  },
  {
   "cell_type": "code",
   "execution_count": 17,
   "source": [
    "# Date range of our dataset\n",
    "print(data['date'].min().date())\n",
    "print(data['date'].max().date())\n",
    "print(data['date'].max().date() - data['date'].min().date())"
   ],
   "outputs": [
    {
     "output_type": "stream",
     "name": "stdout",
     "text": [
      "2021-06-03\n",
      "2021-10-06\n",
      "125 days, 0:00:00\n"
     ]
    }
   ],
   "metadata": {}
  },
  {
   "cell_type": "markdown",
   "source": [
    "Based on the date range of our dataset, our API call should generate about 5 months of price history"
   ],
   "metadata": {}
  },
  {
   "cell_type": "code",
   "execution_count": 18,
   "source": [
    "def get_daily_adjustred_price_data(api_key, stock):\n",
    "    url = f\"https://www.alphavantage.co/query?function=TIME_SERIES_DAILY_ADJUSTED&symbol={stock}&outputsize=full&apikey={api_key}\"\n",
    "    raw_data = requests.get(url).json()\n",
    "\n",
    "    return raw_data\n",
    "\n",
    "def create_dataframe(raw_data):\n",
    "    dataframe = pd.DataFrame(columns=['Date', 'Open', 'High', 'Low', 'Close', 'Adj Close', 'Volume'])\n",
    "\n",
    "    for key in raw_data[\"Time Series (Daily)\"].keys():\n",
    "        dataframe = dataframe.append(\n",
    "            pd.Series(\n",
    "                [\n",
    "                    datetime.datetime.strptime(key, '%Y-%m-%d'),\n",
    "                    pd.to_numeric(raw_data[\"Time Series (Daily)\"][key]['1. open']),\n",
    "                    pd.to_numeric(raw_data[\"Time Series (Daily)\"][key][\"2. high\"]),\n",
    "                    pd.to_numeric(raw_data[\"Time Series (Daily)\"][key][\"3. low\"]),\n",
    "                    pd.to_numeric(raw_data[\"Time Series (Daily)\"][key][\"4. close\"]),\n",
    "                    pd.to_numeric(raw_data[\"Time Series (Daily)\"][key][\"5. adjusted close\"]),\n",
    "                    pd.to_numeric(raw_data[\"Time Series (Daily)\"][key][\"6. volume\"])             \n",
    "                ], index=dataframe.columns\n",
    "            ), ignore_index=True\n",
    "        )\n",
    "\n",
    "    return dataframe\n",
    "\n",
    "def add_column(dataframe, value_to_add, column_name):\n",
    "    dataframe[f\"{column_name}\"] = [value_to_add for x in range(len(dataframe))]\n",
    "\n",
    "    return dataframe\n",
    "\n",
    "def calc_returns(dataframe, n_days):\n",
    "    dataframe[f\"{n_days}d-logreturn\"] = np.log(dataframe['Adj Close'] / dataframe['Adj Close'].shift(n_days))\n",
    "\n",
    "    return dataframe\n",
    "\n",
    "def calc_direction(dataframe, n_days):\n",
    "    dataframe[f\"{n_days}d-direction\"] = [1 if x > 0 else -1 if x < 0 else 0 for x in dataframe[f\"{n_days}d-logreturn\"]]\n",
    "\n",
    "    return dataframe\n",
    "\n",
    "def concat_dataframes(dataframe1, dataframe2):\n",
    "    price_data = pd.concat([dataframe1, dataframe2], ignore_index=True)\n",
    "    price_data = price_data[['Date',\n",
    "                             'stock',\n",
    "                             'Adj Close',\n",
    "                             '1d-logreturn',\n",
    "                             '1d-direction',\n",
    "                             '2d-logreturn',\n",
    "                             '2d-direction',\n",
    "                             '5d-logreturn',\n",
    "                             '5d-direction']]\n",
    "\n",
    "    return price_data\n",
    "\n",
    "def clean_dataframe(dataframe):\n",
    "    # First n values in direction columns should be NaN\n",
    "    dataframe['1d-direction'][0] = np.nan\n",
    "    dataframe['2d-direction'][0: 2] = [np.nan for x in dataframe['2d-direction'][0: 2]]\n",
    "    dataframe['5d-direction'][0: 5] = [np.nan for x in dataframe['5d-direction'][0: 5]]\n",
    "\n",
    "    # Shift columnd to properly align in a manner to ensure the features are observable\n",
    "    # with respectto the target\n",
    "    dataframe['1d-logreturn'] = dataframe['1d-logreturn'].shift(1)\n",
    "    dataframe['1d-direction'] = dataframe['1d-direction'].shift(1)\n",
    "\n",
    "    dataframe['2d-logreturn'] = dataframe['2d-logreturn'].shift(1)\n",
    "    dataframe['2d-direction'] = dataframe['2d-direction'].shift(1)\n",
    "\n",
    "    dataframe['5d-logreturn'] = dataframe['5d-logreturn'].shift(1)\n",
    "    dataframe['5d-direction'] = dataframe['5d-direction'].shift(1)\n",
    "\n",
    "    dataframe.dropna(inplace=True)\n",
    "    dataframe.reset_index(inplace=True)\n",
    "    dataframe.drop('index', axis=1, inplace=True)\n",
    "\n",
    "    return dataframe"
   ],
   "outputs": [],
   "metadata": {}
  },
  {
   "cell_type": "code",
   "execution_count": null,
   "source": [
    "STOCKS = list(data['stock'].unique())\n",
    "bad_api_calls = []\n",
    "price_data = pd.DataFrame()\n",
    "\n",
    "for stock in STOCKS:\n",
    "\n",
    "    # Make api call\n",
    "    raw_data = get_daily_adjustred_price_data(api_key_alpha, stock)\n",
    "\n",
    "    try:\n",
    "        # Create dataframe\n",
    "        dataframe = create_dataframe(raw_data)\n",
    "        # Add column for stock symbol\n",
    "        add_column(dataframe, stock, 'stock')\n",
    "\n",
    "        # Calc returns\n",
    "        calc_returns(dataframe, 1)\n",
    "        calc_returns(dataframe, 2)\n",
    "        calc_returns(dataframe, 5)\n",
    "\n",
    "        # Calc direction\n",
    "        calc_direction(dataframe, 1)\n",
    "        calc_direction(dataframe, 2)\n",
    "        calc_direction(dataframe, 5)\n",
    "\n",
    "        # Concat dataframes\n",
    "        price_data = concat_dataframes(price_data, dataframe)\n",
    "\n",
    "    except KeyError:\n",
    "        bad_api_calls.append(stock)\n",
    "        pass\n",
    "\n",
    "    time.sleep(5)\n",
    "\n",
    "clean_dataframe(price_data)\n",
    "\n",
    "# print(len(STOCKS))\n",
    "# print(len(bad_api_calls), \"bad api calls\")\n",
    "# print(bad_api_calls)"
   ],
   "outputs": [],
   "metadata": {}
  },
  {
   "cell_type": "code",
   "execution_count": null,
   "source": [
    "price_data"
   ],
   "outputs": [],
   "metadata": {}
  },
  {
   "cell_type": "markdown",
   "source": [
    "There's still an issue with Alpha Vantage's API calls"
   ],
   "metadata": {}
  },
  {
   "cell_type": "code",
   "execution_count": 19,
   "source": [
    "# with open('price_data.csv', 'wb') as f:\n",
    "#     pickle.dump(price_data, f)\n",
    "\n",
    "with open('price_data.csv', 'rb') as f:\n",
    "    price_data = pickle.load(f)"
   ],
   "outputs": [],
   "metadata": {}
  },
  {
   "cell_type": "code",
   "execution_count": 20,
   "source": [
    "price_data.rename(\n",
    "    {\n",
    "    'Date':'date',\n",
    "    'Adj Close': 'close'\n",
    "    }, axis=1, inplace=True\n",
    ")"
   ],
   "outputs": [],
   "metadata": {}
  },
  {
   "cell_type": "code",
   "execution_count": 21,
   "source": [
    "# Filter out date range to focus on the particular dates in which the sentiment analysis was conducted\n",
    "filter_ = (price_data['date'] >= data['date'].min()) & (price_data['date'] <= data['date'].max())\n",
    "\n",
    "price_data = price_data[filter_]\n",
    "price_data.reset_index(inplace=True)\n",
    "price_data.drop('index', axis=1, inplace=True)"
   ],
   "outputs": [],
   "metadata": {}
  },
  {
   "cell_type": "code",
   "execution_count": 22,
   "source": [
    "combined_df = price_data.merge(data, on=['date', 'stock'], how='left', suffixes=(None, \"_y\"))"
   ],
   "outputs": [],
   "metadata": {}
  },
  {
   "cell_type": "code",
   "execution_count": 23,
   "source": [
    "# Drop extra columns that contain '_y' as a suffix\n",
    "for column in combined_df.columns.to_list():\n",
    "    if column[-2:] == '_y':\n",
    "        combined_df.drop(labels=column, axis=1, inplace=True)"
   ],
   "outputs": [],
   "metadata": {}
  },
  {
   "cell_type": "code",
   "execution_count": 24,
   "source": [
    "# Remove any duplcate columns resulted form the merge\n",
    "combined_df = combined_df.loc[:, ~combined_df.columns.duplicated()]\n",
    "combined_df.sort_values(by=['date', 'stock'], ignore_index=True, inplace=True)"
   ],
   "outputs": [],
   "metadata": {}
  },
  {
   "cell_type": "code",
   "execution_count": 25,
   "source": [
    "# Now, what to do with NaN values?\n",
    "# Bearish, Bullish, Neutral, and Total_Compound columns, fill with small value to indicate little to no sentiment on that day\n",
    "fill_na_list = ['Bearish', 'Bullish', 'Neutral', 'Total_Compound']\n",
    "for column_header in fill_na_list:\n",
    "    combined_df[column_header].fillna(value=0.005, inplace=True)"
   ],
   "outputs": [],
   "metadata": {}
  },
  {
   "cell_type": "code",
   "execution_count": null,
   "source": [
    "null_values_list = list(combined_df.isna().sum()[combined_df.isna().sum() > 0].index)\n",
    "#print(combined_df.isna().sum().sum())\n",
    "\n",
    "for indx in null_values_list:\n",
    "    try:\n",
    "        combined_df[indx] = combined_df.groupby('stock')[indx].transform(lambda x: x.fillna(x.mean()))\n",
    "    except TypeError:\n",
    "        pass\n",
    "\n",
    "#print(combined_df.isna().sum().sum())"
   ],
   "outputs": [],
   "metadata": {}
  },
  {
   "cell_type": "code",
   "execution_count": 39,
   "source": [
    "# Simply remove the remainder of the null values\n",
    "\n",
    "print(len(combined_df))\n",
    "\n",
    "combined_df.dropna(inplace=True)\n",
    "combined_df.reset_index(drop=True, inplace=True)\n",
    "\n",
    "print(len(combined_df))"
   ],
   "outputs": [
    {
     "output_type": "stream",
     "name": "stdout",
     "text": [
      "4380\n",
      "643\n"
     ]
    }
   ],
   "metadata": {}
  },
  {
   "cell_type": "code",
   "execution_count": 43,
   "source": [
    "combined_df.isna().sum().sum()"
   ],
   "outputs": [
    {
     "output_type": "execute_result",
     "data": {
      "text/plain": [
       "0"
      ]
     },
     "metadata": {},
     "execution_count": 43
    }
   ],
   "metadata": {}
  },
  {
   "cell_type": "code",
   "execution_count": null,
   "source": [
    "#combined_df['sharesOutstanding'] = combined_df.groupby('stock')['sharesOutstanding'].transform(lambda x: x.fillna(x.mean()))"
   ],
   "outputs": [],
   "metadata": {}
  },
  {
   "cell_type": "markdown",
   "source": [
    "# WTF to do with the NaNs"
   ],
   "metadata": {}
  },
  {
   "cell_type": "code",
   "execution_count": null,
   "source": [
    "# # Instantiate empty dataframe to create combined dataframe\n",
    "# column_list = list(price_data.columns) + list(data.columns)\n",
    "# combined_df = pd.DataFrame(columns=column_list)\n",
    "\n",
    "# # Iterate through both dataframes to match date and stock and append matching rows into combined_df\n",
    "# for ind in price_data.index:\n",
    "#     for indx in data.index:\n",
    "#         if price_data['date'][ind] == data['date'][indx] and price_data['stock'][ind] == data['stock'][indx]:\n",
    "#             series_list = [\n",
    "#                 pd.to_datetime(price_data['date'][ind]),\n",
    "#                 price_data['stock'][ind],\n",
    "#                 price_data['close'][ind],\n",
    "#                 price_data['1d-logreturn'][ind],\n",
    "#                 price_data['1d-direction'][ind],\n",
    "#                 price_data['2d-logreturn'][ind],\n",
    "#                 price_data['2d-direction'][ind],\n",
    "#                 price_data['5d-logreturn'][ind],\n",
    "#                 price_data['5d-direction'][ind]] + list(data.iloc[indx])\n",
    "#             print(len(series_list))\n",
    "#             combined_df = combined_df.append(pd.Series(\n",
    "#                     series_list,\n",
    "#                     index=column_list\n",
    "#                 ), ignore_index=True)\n",
    "\n",
    "# # We don't need duplicate 'date' and 'stock' columns anymore\n",
    "# combined_df = combined_df.iloc[:, 2:]\n",
    "# combined_df.sort_values(by='date', ignore_index=True, inplace=True)"
   ],
   "outputs": [],
   "metadata": {}
  },
  {
   "cell_type": "code",
   "execution_count": null,
   "source": [
    "# with open('../data/combined_df.pickle', 'wb') as f:\n",
    "#     pickle.dump(combined_df, f)"
   ],
   "outputs": [],
   "metadata": {}
  },
  {
   "cell_type": "markdown",
   "source": [
    "## Data types"
   ],
   "metadata": {}
  },
  {
   "cell_type": "code",
   "execution_count": 45,
   "source": [
    "# Convert columns to numeric datatype\n",
    "int_list = ['bidSize', 'askSize', 'lastSize', 'totalVolume', 'regularMarketLastSize']\n",
    "\n",
    "for int_ in int_list:\n",
    "    combined_df[int_] = pd.to_numeric(combined_df[int_])\n",
    "\n",
    "combined_df['1d-direction'] = pd.to_numeric(combined_df['1d-direction'])"
   ],
   "outputs": [],
   "metadata": {}
  },
  {
   "cell_type": "code",
   "execution_count": 46,
   "source": [
    "combined_df.select_dtypes('object').columns"
   ],
   "outputs": [
    {
     "output_type": "execute_result",
     "data": {
      "text/plain": [
       "Index(['stock', 'bidId', 'askId', 'lastId', 'marginable', 'shortable'], dtype='object')"
      ]
     },
     "metadata": {},
     "execution_count": 46
    }
   ],
   "metadata": {}
  },
  {
   "cell_type": "code",
   "execution_count": 47,
   "source": [
    "# Some columns should be integer data types\n",
    "combined_df['sharesOutstanding'] = pd.to_numeric(combined_df['sharesOutstanding'])\n",
    "combined_df['vol1DayAvg'] = pd.to_numeric(combined_df['vol1DayAvg'])\n",
    "combined_df['vol10DayAvg'] = pd.to_numeric(combined_df['vol10DayAvg'])\n",
    "combined_df['vol3MonthAvg'] = pd.to_numeric(combined_df['vol3MonthAvg'])"
   ],
   "outputs": [],
   "metadata": {}
  },
  {
   "cell_type": "code",
   "execution_count": 48,
   "source": [
    "combined_df.select_dtypes(['int64', 'float64', 'int32', 'float32']).columns"
   ],
   "outputs": [
    {
     "output_type": "execute_result",
     "data": {
      "text/plain": [
       "Index(['close', '1d-logreturn', '1d-direction', '2d-logreturn', '2d-direction',\n",
       "       '5d-logreturn', '5d-direction', 'Bearish', 'Neutral', 'Bullish',\n",
       "       'Total_Compound', 'bidPrice', 'bidSize', 'askPrice', 'askSize',\n",
       "       'lastPrice', 'lastSize', 'openPrice', 'highPrice', 'lowPrice',\n",
       "       'closePrice', 'netChange', 'totalVolume', 'quoteTimeInLong',\n",
       "       'tradeTimeInLong', 'mark', 'volatility', '52WkHigh', '52WkLow',\n",
       "       'peRatio', 'divAmount', 'regularMarketLastPrice',\n",
       "       'regularMarketLastSize', 'regularMarketNetChange',\n",
       "       'regularMarketTradeTimeInLong', 'netPercentChangeInDouble',\n",
       "       'markChangeInDouble', 'markPercentChangeInDouble',\n",
       "       'regularMarketPercentChangeInDouble', 'high52', 'low52', 'pegRatio',\n",
       "       'pbRatio', 'prRatio', 'pcfRatio', 'grossMarginTTM', 'grossMarginMRQ',\n",
       "       'netProfitMarginTTM', 'netProfitMarginMRQ', 'operatingMarginTTM',\n",
       "       'operatingMarginMRQ', 'returnOnEquity', 'returnOnAssets',\n",
       "       'returnOnInvestment', 'quickRatio', 'currentRatio', 'interestCoverage',\n",
       "       'totalDebtToCapital', 'ltDebtToEquity', 'totalDebtToEquity', 'epsTTM',\n",
       "       'epsChangePercentTTM', 'epsChangeYear', 'revChangeTTM', 'revChangeIn',\n",
       "       'sharesOutstanding', 'marketCapFloat', 'marketCap', 'bookValuePerShare',\n",
       "       'dividendPayAmount', 'beta', 'vol1DayAvg', 'vol10DayAvg',\n",
       "       'vol3MonthAvg'],\n",
       "      dtype='object')"
      ]
     },
     "metadata": {},
     "execution_count": 48
    }
   ],
   "metadata": {}
  },
  {
   "cell_type": "code",
   "execution_count": null,
   "source": [
    "# Pickle the data\n",
    "# with open(\"../data/combined_df.pickle\", \"wb\") as f:\n",
    "#     pickle.dump(combined_df, f)"
   ],
   "outputs": [],
   "metadata": {}
  },
  {
   "cell_type": "markdown",
   "source": [
    "Officially ready for modeling"
   ],
   "metadata": {}
  },
  {
   "cell_type": "markdown",
   "source": [
    "# Minimal Viable Product"
   ],
   "metadata": {}
  },
  {
   "cell_type": "markdown",
   "source": [
    "## Features and Target Variables"
   ],
   "metadata": {}
  },
  {
   "cell_type": "code",
   "execution_count": 54,
   "source": [
    "X = combined_df.loc[:, 'Bearish':]\n",
    "y = combined_df['5d-direction']"
   ],
   "outputs": [],
   "metadata": {}
  },
  {
   "cell_type": "markdown",
   "source": [
    "## Encode Categorical Variables"
   ],
   "metadata": {}
  },
  {
   "cell_type": "code",
   "execution_count": 55,
   "source": [
    "from sklearn.preprocessing import OneHotEncoder\n",
    "\n",
    "categoricals = list(X.select_dtypes('object').columns)\n",
    "numericals = list(X.select_dtypes(['int64', 'float64', 'int32', 'float32']).columns)\n",
    "\n",
    "def encode_cats(categoricals, numericals):\n",
    "    \"\"\"\n",
    "    Takes in a list of categorical columns and a list of numerical columns and returns the dataframe with encoded variables\n",
    "    \"\"\"\n",
    "    ohe = OneHotEncoder(sparse=False, drop='first')\n",
    "    cat_matrix = ohe.fit_transform(X.loc[:, categoricals])\n",
    "    X_ohe = pd.DataFrame(cat_matrix,\n",
    "                         columns=ohe.get_feature_names(categoricals), #create meaningful column names\n",
    "                         index=X.index) #keep the same index values\n",
    "    \n",
    "    return pd.concat([X.loc[:, numericals], X_ohe], axis=1)"
   ],
   "outputs": [],
   "metadata": {}
  },
  {
   "cell_type": "code",
   "execution_count": 56,
   "source": [
    "X = encode_cats(categoricals, numericals)"
   ],
   "outputs": [],
   "metadata": {}
  },
  {
   "cell_type": "code",
   "execution_count": 57,
   "source": [
    "from sklearn.linear_model import LogisticRegression\n",
    "from sklearn.ensemble import RandomForestClassifier\n",
    "from sklearn.neighbors import KNeighborsClassifier\n",
    "import xgboost as xgb\n",
    "from sklearn.model_selection import cross_val_score\n",
    "from sklearn.metrics import auc, roc_auc_score, plot_roc_curve, confusion_matrix, ConfusionMatrixDisplay, precision_recall_curve, PrecisionRecallDisplay, plot_confusion_matrix, precision_score, recall_score\n",
    "from sklearn.model_selection import train_test_split, GridSearchCV, RandomizedSearchCV\n",
    "from sklearn.preprocessing import StandardScaler\n",
    "\n",
    "import matplotlib.pyplot as plt"
   ],
   "outputs": [],
   "metadata": {}
  },
  {
   "cell_type": "code",
   "execution_count": 58,
   "source": [
    "def warn(*args, **kwargs):\n",
    "    pass\n",
    "import warnings\n",
    "warnings.warn = warn\n",
    "\n",
    "X_train, X_test, y_train, y_test = train_test_split(X, y, test_size=.2, random_state=42) #hold out 20% of the data for final testing\n",
    "\n",
    "scaler = StandardScaler()\n",
    "X_train_scaled = scaler.fit_transform(X_train)\n",
    "X_test_scaled = scaler.transform(X_test)"
   ],
   "outputs": [],
   "metadata": {}
  },
  {
   "cell_type": "code",
   "execution_count": 59,
   "source": [
    "knn = KNeighborsClassifier()\n",
    "knn_scores = cross_val_score(knn, X_train_scaled, y_train, cv=5)\n",
    "\n",
    "lr = LogisticRegression(max_iter=1000)\n",
    "lr_scores = cross_val_score(lr, X_train_scaled, y_train, cv = 5)\n",
    "\n",
    "rf = RandomForestClassifier()\n",
    "rf_scores = cross_val_score(rf, X_train_scaled, y_train, cv=5)\n",
    "\n",
    "gbm = xgb.XGBClassifier()\n",
    "gbm_scores = cross_val_score(gbm, X_train_scaled, y_train, cv=5)\n",
    "\n",
    "print(f\"KNN mean scores: {np.mean(knn_scores):.4}\")\n",
    "\n",
    "print(f\"Logistic Regression mean scores: {np.mean(lr_scores):.4}\")\n",
    "\n",
    "print(f\"Random Forest mean scores: {np.mean(rf_scores):.4}\")\n",
    "\n",
    "print(f\"XGBoost mean scores: {np.mean(gbm_scores):.4}\")\n",
    "\n",
    "# save best model\n",
    "best_model = {\n",
    "    knn: np.mean(knn_scores),\n",
    "    lr: np.mean(lr_scores),\n",
    "    rf: np.mean(rf_scores),\n",
    "    gbm: np.mean(gbm_scores)\n",
    "}\n",
    "\n",
    "# sort by mean scores (dict values)\n",
    "# then select the last model (highest mean scores)\n",
    "best_model = {k: v for k, v in sorted(best_model.items(), key=lambda item: item[1])}\n",
    "best_model = list(best_model.keys())[-1]"
   ],
   "outputs": [
    {
     "output_type": "stream",
     "name": "stdout",
     "text": [
      "KNN mean scores: 0.6012\n",
      "Logistic Regression mean scores: 0.6186\n",
      "Random Forest mean scores: 0.7256\n",
      "XGBoost mean scores: 0.7412\n"
     ]
    }
   ],
   "metadata": {}
  },
  {
   "cell_type": "markdown",
   "source": [
    "## Confusion Matrix"
   ],
   "metadata": {}
  },
  {
   "cell_type": "code",
   "execution_count": 60,
   "source": [
    "# Precicion score\n",
    "gbm.fit(X_train_scaled, y_train)\n",
    "prec_score = precision_score(y_test, gbm.predict(X_test_scaled), average='weighted')\n",
    "\n",
    "print(f\"Precision Score: {prec_score:.4f}\")"
   ],
   "outputs": [
    {
     "output_type": "stream",
     "name": "stdout",
     "text": [
      "Precision Score: 0.6977\n"
     ]
    }
   ],
   "metadata": {}
  },
  {
   "cell_type": "code",
   "execution_count": 61,
   "source": [
    "# Recall Score\n",
    "rec_score = recall_score(y_test, gbm.predict(X_test_scaled), average='weighted')\n",
    "\n",
    "print(f\"Recall Score: {rec_score:.4f}\")"
   ],
   "outputs": [
    {
     "output_type": "stream",
     "name": "stdout",
     "text": [
      "Recall Score: 0.6977\n"
     ]
    }
   ],
   "metadata": {}
  },
  {
   "cell_type": "code",
   "execution_count": 62,
   "source": [
    "plot_confusion_matrix(gbm, X_test_scaled, y_test)\n",
    "plt.grid(b=None)"
   ],
   "outputs": [
    {
     "output_type": "display_data",
     "data": {
      "image/png": "[encoded data removed]",
      "text/plain": [
       "<Figure size 432x288 with 2 Axes>"
      ]
     },
     "metadata": {}
    }
   ],
   "metadata": {}
  },
  {
   "cell_type": "markdown",
   "source": [
    "## Class Imbalance"
   ],
   "metadata": {}
  },
  {
   "cell_type": "code",
   "execution_count": 63,
   "source": [
    "# Let's try to fix this imbalance to increase accuracy\n",
    "# Almost 50% of the data are 1s or -1s, with minimal 0s\n",
    "y_train.value_counts()"
   ],
   "outputs": [
    {
     "output_type": "execute_result",
     "data": {
      "text/plain": [
       " 1.0    263\n",
       "-1.0    250\n",
       " 0.0      1\n",
       "Name: 5d-direction, dtype: int64"
      ]
     },
     "metadata": {},
     "execution_count": 63
    }
   ],
   "metadata": {}
  },
  {
   "cell_type": "code",
   "execution_count": 64,
   "source": [
    "from imblearn.under_sampling import RandomUnderSampler\n",
    "from imblearn.over_sampling import RandomOverSampler\n",
    "\n",
    "def over_under_sample(X_train, y_train, Under=True, Over=True):\n",
    "    \"\"\"\n",
    "    Input: training features and target\n",
    "    Output: under/oversampled datasets\n",
    "    \"\"\"\n",
    "    rus = RandomUnderSampler(random_state=42)\n",
    "    ros = RandomOverSampler(random_state=42)\n",
    "\n",
    "    if Under and Over:\n",
    "        X_train_under, y_train_under = rus.fit_sample(X_train, y_train)\n",
    "        X_train_over, y_train_over = ros.fit_sample(X_train, y_train)\n",
    "\n",
    "        return X_train_under, y_train_under, X_train_over, y_train_over\n",
    "\n",
    "    elif Under:\n",
    "        X_train_under, y_train_under = rus.fit_sample(X_train, y_train)\n",
    "\n",
    "        return X_train_under, y_train_under\n",
    "    else:\n",
    "        X_train_over, y_train_over = ros.fit_sample(X_train, y_train)\n",
    "\n",
    "        return X_train_over, y_train_over"
   ],
   "outputs": [],
   "metadata": {}
  },
  {
   "cell_type": "code",
   "execution_count": 65,
   "source": [
    "X_train_scaled_over, y_over = over_under_sample(X_train_scaled, y_train, Under=False, Over=True)"
   ],
   "outputs": [],
   "metadata": {}
  },
  {
   "cell_type": "code",
   "execution_count": 72,
   "source": [
    "gbm_scores_over = cross_val_score(gbm, X_train_scaled_over, y_over, cv=5)\n",
    "\n",
    "print(f\"XGBoost mean scores: {np.mean(gbm_scores_over):.4}\")"
   ],
   "outputs": [
    {
     "output_type": "stream",
     "name": "stdout",
     "text": [
      "XGBoost mean scores: 0.8251\n"
     ]
    }
   ],
   "metadata": {}
  },
  {
   "cell_type": "code",
   "execution_count": 67,
   "source": [
    "# Confusion Matrix and Recall/Precision scores\n",
    "gbm_over = xgb.XGBClassifier()\n",
    "gbm_over.fit(X_train_scaled_over, y_over)\n",
    "prec_score = precision_score(y_test, gbm_over.predict(X_test_scaled), average='weighted')\n",
    "\n",
    "print(f\"Precision Score: {prec_score:.4f}\")"
   ],
   "outputs": [
    {
     "output_type": "stream",
     "name": "stdout",
     "text": [
      "Precision Score: 0.7214\n"
     ]
    }
   ],
   "metadata": {}
  },
  {
   "cell_type": "code",
   "execution_count": 68,
   "source": [
    "# Recall Score\n",
    "rec_score = recall_score(y_test, gbm_over.predict(X_test_scaled), average='weighted')\n",
    "\n",
    "print(f\"Recall Score: {rec_score:.4f}\")"
   ],
   "outputs": [
    {
     "output_type": "stream",
     "name": "stdout",
     "text": [
      "Recall Score: 0.7209\n"
     ]
    }
   ],
   "metadata": {}
  },
  {
   "cell_type": "code",
   "execution_count": null,
   "source": [
    "# Scores went up another 3 points!"
   ],
   "outputs": [],
   "metadata": {}
  },
  {
   "cell_type": "code",
   "execution_count": 69,
   "source": [
    "plot_confusion_matrix(gbm_over, X_test_scaled, y_test)\n",
    "plt.grid(b=None)"
   ],
   "outputs": [
    {
     "output_type": "display_data",
     "data": {
      "image/png": "[encoded data removed]",
      "text/plain": [
       "<Figure size 432x288 with 2 Axes>"
      ]
     },
     "metadata": {}
    }
   ],
   "metadata": {}
  },
  {
   "cell_type": "code",
   "execution_count": null,
   "source": [],
   "outputs": [],
   "metadata": {}
  }
 ],
 "metadata": {
  "kernelspec": {
   "name": "python3",
   "display_name": "Python 3.8.3 64-bit ('base': conda)"
  },
  "language_info": {
   "codemirror_mode": {
    "name": "ipython",
    "version": 3
   },
   "file_extension": ".py",
   "mimetype": "text/x-python",
   "name": "python",
   "nbconvert_exporter": "python",
   "pygments_lexer": "ipython3",
   "version": "3.8.3"
  },
  "interpreter": {
   "hash": "dca0ade3e726a953b501b15e8e990130d2b7799f14cfd9f4271676035ebe5511"
  }
 },
 "nbformat": 4,
 "nbformat_minor": 4
}