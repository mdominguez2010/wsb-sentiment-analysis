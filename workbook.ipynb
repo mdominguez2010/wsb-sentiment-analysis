{
 "metadata": {
  "language_info": {
   "codemirror_mode": {
    "name": "ipython",
    "version": 3
   },
   "file_extension": ".py",
   "mimetype": "text/x-python",
   "name": "python",
   "nbconvert_exporter": "python",
   "pygments_lexer": "ipython3",
   "version": "3.8.3"
  },
  "orig_nbformat": 4,
  "kernelspec": {
   "name": "python3",
   "display_name": "Python 3.8.3 64-bit ('base': conda)"
  },
  "interpreter": {
   "hash": "dca0ade3e726a953b501b15e8e990130d2b7799f14cfd9f4271676035ebe5511"
  }
 },
 "nbformat": 4,
 "nbformat_minor": 2,
 "cells": [
  {
   "cell_type": "code",
   "execution_count": 52,
   "metadata": {},
   "outputs": [],
   "source": [
    "import pandas as pd\n",
    "import numpy as np\n",
    "import plotly.graph_objects as go\n",
    "\n",
    "# Import data and convert date column to datetime datatype\n",
    "historic_sentiment_analysis = pd.read_csv('historic_sentiment_analysis.csv')\n",
    "historic_sentiment_analysis['date'] = pd.to_datetime(historic_sentiment_analysis['date'])"
   ]
  },
  {
   "source": [
    "# Trends"
   ],
   "cell_type": "markdown",
   "metadata": {}
  },
  {
   "cell_type": "code",
   "execution_count": 76,
   "metadata": {},
   "outputs": [],
   "source": [
    "# Define length of trend\n",
    "TREND_LENGTH = 3\n",
    "\n",
    "trend_data = pd.concat(\n",
    "    [historic_sentiment_analysis[historic_sentiment_analysis['date'] == historic_sentiment_analysis['date'].unique()[-TREND_LENGTH:][i]] for i in range(TREND_LENGTH)]\n",
    "    )"
   ]
  },
  {
   "cell_type": "code",
   "execution_count": 85,
   "metadata": {},
   "outputs": [
    {
     "output_type": "stream",
     "name": "stdout",
     "text": [
      "MSFT    3\nCLNE    3\nWKHS    3\nAMD     3\nAAPL    3\nCLOV    3\nWISH    3\nName: stock, dtype: int64\n"
     ]
    }
   ],
   "source": [
    "# Isolate the trending stocks\n",
    "trending_stocks_idx = np.where(trend_data['stock'].value_counts().values == TREND_LENGTH)\n",
    "print(trend_data['stock'].value_counts().iloc[trending_stocks_idx])"
   ]
  },
  {
   "cell_type": "code",
   "execution_count": 80,
   "metadata": {},
   "outputs": [
    {
     "output_type": "execute_result",
     "data": {
      "text/plain": [
       "(array([0, 1, 2, 3, 4, 5, 6]),)"
      ]
     },
     "metadata": {},
     "execution_count": 80
    }
   ],
   "source": []
  },
  {
   "cell_type": "code",
   "execution_count": null,
   "metadata": {},
   "outputs": [],
   "source": []
  }
 ]
}